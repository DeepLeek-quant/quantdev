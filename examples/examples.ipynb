{
 "cells": [
  {
   "cell_type": "code",
   "execution_count": 1,
   "metadata": {},
   "outputs": [],
   "source": [
    "from quantdev.data import Databank, DatasetsHandler\n",
    "from quantdev.backtest import *\n",
    "from quantdev.trade import *\n",
    "# from quantdev.trade import *\n",
    "# from quantdev.analysis import *\n",
    "# from quantdev.trade import PortfolioManager, Position, Portfolio\n",
    "\n",
    "# from typing import Literal\n",
    "# import pandas as pd\n",
    "# import numpy as np"
   ]
  },
  {
   "cell_type": "code",
   "execution_count": null,
   "metadata": {},
   "outputs": [],
   "source": [
    "## pending: use np.where to replace the loc in backtest, adding trading cost and slippage"
   ]
  },
  {
   "cell_type": "code",
   "execution_count": 110,
   "metadata": {},
   "outputs": [],
   "source": [
    "DatasetsHandler().update_datasets()"
   ]
  },
  {
   "cell_type": "markdown",
   "metadata": {},
   "source": [
    "## backtest"
   ]
  },
  {
   "cell_type": "code",
   "execution_count": 2,
   "metadata": {},
   "outputs": [
    {
     "data": {
      "text/html": [
       "<div>\n",
       "<style scoped>\n",
       "    .dataframe tbody tr th:only-of-type {\n",
       "        vertical-align: middle;\n",
       "    }\n",
       "\n",
       "    .dataframe tbody tr th {\n",
       "        vertical-align: top;\n",
       "    }\n",
       "\n",
       "    .dataframe thead th {\n",
       "        text-align: right;\n",
       "    }\n",
       "</style>\n",
       "<table border=\"1\" class=\"dataframe\">\n",
       "  <thead>\n",
       "    <tr style=\"text-align: right;\">\n",
       "      <th></th>\n",
       "      <th>Strategy</th>\n",
       "      <th>Benchmark: TRTEJ</th>\n",
       "      <th>Excess Return</th>\n",
       "    </tr>\n",
       "  </thead>\n",
       "  <tbody>\n",
       "    <tr>\n",
       "      <th>CAGR(%)</th>\n",
       "      <td>15.19</td>\n",
       "      <td>9.75</td>\n",
       "      <td>4.69</td>\n",
       "    </tr>\n",
       "    <tr>\n",
       "      <th>Sharpe</th>\n",
       "      <td>0.74</td>\n",
       "      <td>0.61</td>\n",
       "      <td>0.37</td>\n",
       "    </tr>\n",
       "    <tr>\n",
       "      <th>Calmar</th>\n",
       "      <td>0.24</td>\n",
       "      <td>0.17</td>\n",
       "      <td>0.13</td>\n",
       "    </tr>\n",
       "    <tr>\n",
       "      <th>MDD(%)</th>\n",
       "      <td>-64.47</td>\n",
       "      <td>-56.11</td>\n",
       "      <td>-36.26</td>\n",
       "    </tr>\n",
       "    <tr>\n",
       "      <th>Simple MDD(%)</th>\n",
       "      <td>-47.55</td>\n",
       "      <td>-47.09</td>\n",
       "      <td>-23.96</td>\n",
       "    </tr>\n",
       "    <tr>\n",
       "      <th>Win Rate(%)</th>\n",
       "      <td>54.32</td>\n",
       "      <td>54.80</td>\n",
       "      <td>51.58</td>\n",
       "    </tr>\n",
       "    <tr>\n",
       "      <th>Weekly Win(%)</th>\n",
       "      <td>55.42</td>\n",
       "      <td>56.36</td>\n",
       "      <td>50.71</td>\n",
       "    </tr>\n",
       "    <tr>\n",
       "      <th>Monthly Win(%)</th>\n",
       "      <td>62.30</td>\n",
       "      <td>62.70</td>\n",
       "      <td>50.82</td>\n",
       "    </tr>\n",
       "    <tr>\n",
       "      <th>Yearly Win(%)</th>\n",
       "      <td>71.43</td>\n",
       "      <td>71.43</td>\n",
       "      <td>57.14</td>\n",
       "    </tr>\n",
       "    <tr>\n",
       "      <th>Win/Loss Ratio</th>\n",
       "      <td>0.92</td>\n",
       "      <td>0.92</td>\n",
       "      <td>1.00</td>\n",
       "    </tr>\n",
       "    <tr>\n",
       "      <th>Expected Return(bps)</th>\n",
       "      <td>5.89</td>\n",
       "      <td>3.88</td>\n",
       "      <td>1.91</td>\n",
       "    </tr>\n",
       "    <tr>\n",
       "      <th>Sample Size</th>\n",
       "      <td>4998.00</td>\n",
       "      <td>4998.00</td>\n",
       "      <td>4998.00</td>\n",
       "    </tr>\n",
       "    <tr>\n",
       "      <th>t</th>\n",
       "      <td>3.37</td>\n",
       "      <td>2.78</td>\n",
       "      <td>1.70</td>\n",
       "    </tr>\n",
       "  </tbody>\n",
       "</table>\n",
       "</div>"
      ],
      "text/plain": [
       "                      Strategy  Benchmark: TRTEJ  Excess Return\n",
       "CAGR(%)                  15.19              9.75           4.69\n",
       "Sharpe                    0.74              0.61           0.37\n",
       "Calmar                    0.24              0.17           0.13\n",
       "MDD(%)                  -64.47            -56.11         -36.26\n",
       "Simple MDD(%)           -47.55            -47.09         -23.96\n",
       "Win Rate(%)              54.32             54.80          51.58\n",
       "Weekly Win(%)            55.42             56.36          50.71\n",
       "Monthly Win(%)           62.30             62.70          50.82\n",
       "Yearly Win(%)            71.43             71.43          57.14\n",
       "Win/Loss Ratio            0.92              0.92           1.00\n",
       "Expected Return(bps)      5.89              3.88           1.91\n",
       "Sample Size            4998.00           4998.00        4998.00\n",
       "t                         3.37              2.78           1.70"
      ]
     },
     "metadata": {},
     "output_type": "display_data"
    },
    {
     "data": {
      "text/html": [
       "<script type=\"esms-options\">{\"shimMode\": true}</script><style>*[data-root-id],\n",
       "*[data-root-id] > * {\n",
       "  box-sizing: border-box;\n",
       "  font-family: var(--jp-ui-font-family);\n",
       "  font-size: var(--jp-ui-font-size1);\n",
       "  color: var(--vscode-editor-foreground, var(--jp-ui-font-color1));\n",
       "}\n",
       "\n",
       "/* Override VSCode background color */\n",
       ".cell-output-ipywidget-background:has(\n",
       "    > .cell-output-ipywidget-background > .lm-Widget > *[data-root-id]\n",
       "  ),\n",
       ".cell-output-ipywidget-background:has(> .lm-Widget > *[data-root-id]) {\n",
       "  background-color: transparent !important;\n",
       "}\n",
       "</style>"
      ]
     },
     "metadata": {},
     "output_type": "display_data"
    },
    {
     "data": {
      "application/javascript": "(function(root) {\n  function now() {\n    return new Date();\n  }\n\n  const force = true;\n  const py_version = '3.6.2'.replace('rc', '-rc.').replace('.dev', '-dev.');\n  const reloading = false;\n  const Bokeh = root.Bokeh;\n\n  // Set a timeout for this load but only if we are not already initializing\n  if (typeof (root._bokeh_timeout) === \"undefined\" || (force || !root._bokeh_is_initializing)) {\n    root._bokeh_timeout = Date.now() + 5000;\n    root._bokeh_failed_load = false;\n  }\n\n  function run_callbacks() {\n    try {\n      root._bokeh_onload_callbacks.forEach(function(callback) {\n        if (callback != null)\n          callback();\n      });\n    } finally {\n      delete root._bokeh_onload_callbacks;\n    }\n    console.debug(\"Bokeh: all callbacks have finished\");\n  }\n\n  function load_libs(css_urls, js_urls, js_modules, js_exports, callback) {\n    if (css_urls == null) css_urls = [];\n    if (js_urls == null) js_urls = [];\n    if (js_modules == null) js_modules = [];\n    if (js_exports == null) js_exports = {};\n\n    root._bokeh_onload_callbacks.push(callback);\n\n    if (root._bokeh_is_loading > 0) {\n      // Don't load bokeh if it is still initializing\n      console.debug(\"Bokeh: BokehJS is being loaded, scheduling callback at\", now());\n      return null;\n    } else if (js_urls.length === 0 && js_modules.length === 0 && Object.keys(js_exports).length === 0) {\n      // There is nothing to load\n      run_callbacks();\n      return null;\n    }\n\n    function on_load() {\n      root._bokeh_is_loading--;\n      if (root._bokeh_is_loading === 0) {\n        console.debug(\"Bokeh: all BokehJS libraries/stylesheets loaded\");\n        run_callbacks()\n      }\n    }\n    window._bokeh_on_load = on_load\n\n    function on_error(e) {\n      const src_el = e.srcElement\n      console.error(\"failed to load \" + (src_el.href || src_el.src));\n    }\n\n    const skip = [];\n    if (window.requirejs) {\n      window.requirejs.config({'packages': {}, 'paths': {'plotly': 'https://cdn.plot.ly/plotly-2.31.1.min'}, 'shim': {}});\n      require([\"plotly\"], function(Plotly) {\n        window.Plotly = Plotly\n        on_load()\n      })\n      root._bokeh_is_loading = css_urls.length + 1;\n    } else {\n      root._bokeh_is_loading = css_urls.length + js_urls.length + js_modules.length + Object.keys(js_exports).length;\n    }\n\n    const existing_stylesheets = []\n    const links = document.getElementsByTagName('link')\n    for (let i = 0; i < links.length; i++) {\n      const link = links[i]\n      if (link.href != null) {\n        existing_stylesheets.push(link.href)\n      }\n    }\n    for (let i = 0; i < css_urls.length; i++) {\n      const url = css_urls[i];\n      const escaped = encodeURI(url)\n      if (existing_stylesheets.indexOf(escaped) !== -1) {\n        on_load()\n        continue;\n      }\n      const element = document.createElement(\"link\");\n      element.onload = on_load;\n      element.onerror = on_error;\n      element.rel = \"stylesheet\";\n      element.type = \"text/css\";\n      element.href = url;\n      console.debug(\"Bokeh: injecting link tag for BokehJS stylesheet: \", url);\n      document.body.appendChild(element);\n    }    if (((window.Plotly !== undefined) && (!(window.Plotly instanceof HTMLElement))) || window.requirejs) {\n      var urls = ['https://cdn.holoviz.org/panel/1.5.4/dist/bundled/plotlyplot/plotly-2.31.1.min.js'];\n      for (var i = 0; i < urls.length; i++) {\n        skip.push(encodeURI(urls[i]))\n      }\n    }    var existing_scripts = []\n    const scripts = document.getElementsByTagName('script')\n    for (let i = 0; i < scripts.length; i++) {\n      var script = scripts[i]\n      if (script.src != null) {\n        existing_scripts.push(script.src)\n      }\n    }\n    for (let i = 0; i < js_urls.length; i++) {\n      const url = js_urls[i];\n      const escaped = encodeURI(url)\n      if (skip.indexOf(escaped) !== -1 || existing_scripts.indexOf(escaped) !== -1) {\n        if (!window.requirejs) {\n          on_load();\n        }\n        continue;\n      }\n      const element = document.createElement('script');\n      element.onload = on_load;\n      element.onerror = on_error;\n      element.async = false;\n      element.src = url;\n      console.debug(\"Bokeh: injecting script tag for BokehJS library: \", url);\n      document.head.appendChild(element);\n    }\n    for (let i = 0; i < js_modules.length; i++) {\n      const url = js_modules[i];\n      const escaped = encodeURI(url)\n      if (skip.indexOf(escaped) !== -1 || existing_scripts.indexOf(escaped) !== -1) {\n        if (!window.requirejs) {\n          on_load();\n        }\n        continue;\n      }\n      var element = document.createElement('script');\n      element.onload = on_load;\n      element.onerror = on_error;\n      element.async = false;\n      element.src = url;\n      element.type = \"module\";\n      console.debug(\"Bokeh: injecting script tag for BokehJS library: \", url);\n      document.head.appendChild(element);\n    }\n    for (const name in js_exports) {\n      const url = js_exports[name];\n      const escaped = encodeURI(url)\n      if (skip.indexOf(escaped) >= 0 || root[name] != null) {\n        if (!window.requirejs) {\n          on_load();\n        }\n        continue;\n      }\n      var element = document.createElement('script');\n      element.onerror = on_error;\n      element.async = false;\n      element.type = \"module\";\n      console.debug(\"Bokeh: injecting script tag for BokehJS library: \", url);\n      element.textContent = `\n      import ${name} from \"${url}\"\n      window.${name} = ${name}\n      window._bokeh_on_load()\n      `\n      document.head.appendChild(element);\n    }\n    if (!js_urls.length && !js_modules.length) {\n      on_load()\n    }\n  };\n\n  function inject_raw_css(css) {\n    const element = document.createElement(\"style\");\n    element.appendChild(document.createTextNode(css));\n    document.body.appendChild(element);\n  }\n\n  const js_urls = [\"https://cdn.holoviz.org/panel/1.5.4/dist/bundled/reactiveesm/es-module-shims@^1.10.0/dist/es-module-shims.min.js\", \"https://cdn.holoviz.org/panel/1.5.4/dist/bundled/jquery/jquery.slim.min.js\", \"https://cdn.holoviz.org/panel/1.5.4/dist/bundled/plotlyplot/plotly-2.31.1.min.js\", \"https://cdn.bokeh.org/bokeh/release/bokeh-3.6.2.min.js\", \"https://cdn.bokeh.org/bokeh/release/bokeh-gl-3.6.2.min.js\", \"https://cdn.bokeh.org/bokeh/release/bokeh-widgets-3.6.2.min.js\", \"https://cdn.bokeh.org/bokeh/release/bokeh-tables-3.6.2.min.js\", \"https://cdn.holoviz.org/panel/1.5.4/dist/panel.min.js\"];\n  const js_modules = [];\n  const js_exports = {};\n  const css_urls = [\"https://cdn.holoviz.org/panel/1.5.4/dist/bundled/plotlyplot/mapbox-gl-js/v3.0.1/mapbox-gl.css?v=1.5.4\"];\n  const inline_js = [    function(Bokeh) {\n      Bokeh.set_log_level(\"info\");\n    },\nfunction(Bokeh) {} // ensure no trailing comma for IE\n  ];\n\n  function run_inline_js() {\n    if ((root.Bokeh !== undefined) || (force === true)) {\n      for (let i = 0; i < inline_js.length; i++) {\n        try {\n          inline_js[i].call(root, root.Bokeh);\n        } catch(e) {\n          if (!reloading) {\n            throw e;\n          }\n        }\n      }\n      // Cache old bokeh versions\n      if (Bokeh != undefined && !reloading) {\n        var NewBokeh = root.Bokeh;\n        if (Bokeh.versions === undefined) {\n          Bokeh.versions = new Map();\n        }\n        if (NewBokeh.version !== Bokeh.version) {\n          Bokeh.versions.set(NewBokeh.version, NewBokeh)\n        }\n        root.Bokeh = Bokeh;\n      }\n    } else if (Date.now() < root._bokeh_timeout) {\n      setTimeout(run_inline_js, 100);\n    } else if (!root._bokeh_failed_load) {\n      console.log(\"Bokeh: BokehJS failed to load within specified timeout.\");\n      root._bokeh_failed_load = true;\n    }\n    root._bokeh_is_initializing = false\n  }\n\n  function load_or_wait() {\n    // Implement a backoff loop that tries to ensure we do not load multiple\n    // versions of Bokeh and its dependencies at the same time.\n    // In recent versions we use the root._bokeh_is_initializing flag\n    // to determine whether there is an ongoing attempt to initialize\n    // bokeh, however for backward compatibility we also try to ensure\n    // that we do not start loading a newer (Panel>=1.0 and Bokeh>3) version\n    // before older versions are fully initialized.\n    if (root._bokeh_is_initializing && Date.now() > root._bokeh_timeout) {\n      // If the timeout and bokeh was not successfully loaded we reset\n      // everything and try loading again\n      root._bokeh_timeout = Date.now() + 5000;\n      root._bokeh_is_initializing = false;\n      root._bokeh_onload_callbacks = undefined;\n      root._bokeh_is_loading = 0\n      console.log(\"Bokeh: BokehJS was loaded multiple times but one version failed to initialize.\");\n      load_or_wait();\n    } else if (root._bokeh_is_initializing || (typeof root._bokeh_is_initializing === \"undefined\" && root._bokeh_onload_callbacks !== undefined)) {\n      setTimeout(load_or_wait, 100);\n    } else {\n      root._bokeh_is_initializing = true\n      root._bokeh_onload_callbacks = []\n      const bokeh_loaded = root.Bokeh != null && (root.Bokeh.version === py_version || (root.Bokeh.versions !== undefined && root.Bokeh.versions.has(py_version)));\n      if (!reloading && !bokeh_loaded) {\n        if (root.Bokeh) {\n          root.Bokeh = undefined;\n        }\n        console.debug(\"Bokeh: BokehJS not loaded, scheduling load and callback at\", now());\n      }\n      load_libs(css_urls, js_urls, js_modules, js_exports, function() {\n        console.debug(\"Bokeh: BokehJS plotting callback run at\", now());\n        run_inline_js();\n      });\n    }\n  }\n  // Give older versions of the autoload script a head-start to ensure\n  // they initialize before we start loading newer version.\n  setTimeout(load_or_wait, 100)\n}(window));",
      "application/vnd.holoviews_load.v0+json": ""
     },
     "metadata": {},
     "output_type": "display_data"
    },
    {
     "data": {
      "application/javascript": "\nif ((window.PyViz === undefined) || (window.PyViz instanceof HTMLElement)) {\n  window.PyViz = {comms: {}, comm_status:{}, kernels:{}, receivers: {}, plot_index: []}\n}\n\n\n    function JupyterCommManager() {\n    }\n\n    JupyterCommManager.prototype.register_target = function(plot_id, comm_id, msg_handler) {\n      if (window.comm_manager || ((window.Jupyter !== undefined) && (Jupyter.notebook.kernel != null))) {\n        var comm_manager = window.comm_manager || Jupyter.notebook.kernel.comm_manager;\n        comm_manager.register_target(comm_id, function(comm) {\n          comm.on_msg(msg_handler);\n        });\n      } else if ((plot_id in window.PyViz.kernels) && (window.PyViz.kernels[plot_id])) {\n        window.PyViz.kernels[plot_id].registerCommTarget(comm_id, function(comm) {\n          comm.onMsg = msg_handler;\n        });\n      } else if (typeof google != 'undefined' && google.colab.kernel != null) {\n        google.colab.kernel.comms.registerTarget(comm_id, (comm) => {\n          var messages = comm.messages[Symbol.asyncIterator]();\n          function processIteratorResult(result) {\n            var message = result.value;\n            console.log(message)\n            var content = {data: message.data, comm_id};\n            var buffers = []\n            for (var buffer of message.buffers || []) {\n              buffers.push(new DataView(buffer))\n            }\n            var metadata = message.metadata || {};\n            var msg = {content, buffers, metadata}\n            msg_handler(msg);\n            return messages.next().then(processIteratorResult);\n          }\n          return messages.next().then(processIteratorResult);\n        })\n      }\n    }\n\n    JupyterCommManager.prototype.get_client_comm = function(plot_id, comm_id, msg_handler) {\n      if (comm_id in window.PyViz.comms) {\n        return window.PyViz.comms[comm_id];\n      } else if (window.comm_manager || ((window.Jupyter !== undefined) && (Jupyter.notebook.kernel != null))) {\n        var comm_manager = window.comm_manager || Jupyter.notebook.kernel.comm_manager;\n        var comm = comm_manager.new_comm(comm_id, {}, {}, {}, comm_id);\n        if (msg_handler) {\n          comm.on_msg(msg_handler);\n        }\n      } else if ((plot_id in window.PyViz.kernels) && (window.PyViz.kernels[plot_id])) {\n        var comm = window.PyViz.kernels[plot_id].connectToComm(comm_id);\n        comm.open();\n        if (msg_handler) {\n          comm.onMsg = msg_handler;\n        }\n      } else if (typeof google != 'undefined' && google.colab.kernel != null) {\n        var comm_promise = google.colab.kernel.comms.open(comm_id)\n        comm_promise.then((comm) => {\n          window.PyViz.comms[comm_id] = comm;\n          if (msg_handler) {\n            var messages = comm.messages[Symbol.asyncIterator]();\n            function processIteratorResult(result) {\n              var message = result.value;\n              var content = {data: message.data};\n              var metadata = message.metadata || {comm_id};\n              var msg = {content, metadata}\n              msg_handler(msg);\n              return messages.next().then(processIteratorResult);\n            }\n            return messages.next().then(processIteratorResult);\n          }\n        }) \n        var sendClosure = (data, metadata, buffers, disposeOnDone) => {\n          return comm_promise.then((comm) => {\n            comm.send(data, metadata, buffers, disposeOnDone);\n          });\n        };\n        var comm = {\n          send: sendClosure\n        };\n      }\n      window.PyViz.comms[comm_id] = comm;\n      return comm;\n    }\n    window.PyViz.comm_manager = new JupyterCommManager();\n    \n\n\nvar JS_MIME_TYPE = 'application/javascript';\nvar HTML_MIME_TYPE = 'text/html';\nvar EXEC_MIME_TYPE = 'application/vnd.holoviews_exec.v0+json';\nvar CLASS_NAME = 'output';\n\n/**\n * Render data to the DOM node\n */\nfunction render(props, node) {\n  var div = document.createElement(\"div\");\n  var script = document.createElement(\"script\");\n  node.appendChild(div);\n  node.appendChild(script);\n}\n\n/**\n * Handle when a new output is added\n */\nfunction handle_add_output(event, handle) {\n  var output_area = handle.output_area;\n  var output = handle.output;\n  if ((output.data == undefined) || (!output.data.hasOwnProperty(EXEC_MIME_TYPE))) {\n    return\n  }\n  var id = output.metadata[EXEC_MIME_TYPE][\"id\"];\n  var toinsert = output_area.element.find(\".\" + CLASS_NAME.split(' ')[0]);\n  if (id !== undefined) {\n    var nchildren = toinsert.length;\n    var html_node = toinsert[nchildren-1].children[0];\n    html_node.innerHTML = output.data[HTML_MIME_TYPE];\n    var scripts = [];\n    var nodelist = html_node.querySelectorAll(\"script\");\n    for (var i in nodelist) {\n      if (nodelist.hasOwnProperty(i)) {\n        scripts.push(nodelist[i])\n      }\n    }\n\n    scripts.forEach( function (oldScript) {\n      var newScript = document.createElement(\"script\");\n      var attrs = [];\n      var nodemap = oldScript.attributes;\n      for (var j in nodemap) {\n        if (nodemap.hasOwnProperty(j)) {\n          attrs.push(nodemap[j])\n        }\n      }\n      attrs.forEach(function(attr) { newScript.setAttribute(attr.name, attr.value) });\n      newScript.appendChild(document.createTextNode(oldScript.innerHTML));\n      oldScript.parentNode.replaceChild(newScript, oldScript);\n    });\n    if (JS_MIME_TYPE in output.data) {\n      toinsert[nchildren-1].children[1].textContent = output.data[JS_MIME_TYPE];\n    }\n    output_area._hv_plot_id = id;\n    if ((window.Bokeh !== undefined) && (id in Bokeh.index)) {\n      window.PyViz.plot_index[id] = Bokeh.index[id];\n    } else {\n      window.PyViz.plot_index[id] = null;\n    }\n  } else if (output.metadata[EXEC_MIME_TYPE][\"server_id\"] !== undefined) {\n    var bk_div = document.createElement(\"div\");\n    bk_div.innerHTML = output.data[HTML_MIME_TYPE];\n    var script_attrs = bk_div.children[0].attributes;\n    for (var i = 0; i < script_attrs.length; i++) {\n      toinsert[toinsert.length - 1].childNodes[1].setAttribute(script_attrs[i].name, script_attrs[i].value);\n    }\n    // store reference to server id on output_area\n    output_area._bokeh_server_id = output.metadata[EXEC_MIME_TYPE][\"server_id\"];\n  }\n}\n\n/**\n * Handle when an output is cleared or removed\n */\nfunction handle_clear_output(event, handle) {\n  var id = handle.cell.output_area._hv_plot_id;\n  var server_id = handle.cell.output_area._bokeh_server_id;\n  if (((id === undefined) || !(id in PyViz.plot_index)) && (server_id !== undefined)) { return; }\n  var comm = window.PyViz.comm_manager.get_client_comm(\"hv-extension-comm\", \"hv-extension-comm\", function () {});\n  if (server_id !== null) {\n    comm.send({event_type: 'server_delete', 'id': server_id});\n    return;\n  } else if (comm !== null) {\n    comm.send({event_type: 'delete', 'id': id});\n  }\n  delete PyViz.plot_index[id];\n  if ((window.Bokeh !== undefined) & (id in window.Bokeh.index)) {\n    var doc = window.Bokeh.index[id].model.document\n    doc.clear();\n    const i = window.Bokeh.documents.indexOf(doc);\n    if (i > -1) {\n      window.Bokeh.documents.splice(i, 1);\n    }\n  }\n}\n\n/**\n * Handle kernel restart event\n */\nfunction handle_kernel_cleanup(event, handle) {\n  delete PyViz.comms[\"hv-extension-comm\"];\n  window.PyViz.plot_index = {}\n}\n\n/**\n * Handle update_display_data messages\n */\nfunction handle_update_output(event, handle) {\n  handle_clear_output(event, {cell: {output_area: handle.output_area}})\n  handle_add_output(event, handle)\n}\n\nfunction register_renderer(events, OutputArea) {\n  function append_mime(data, metadata, element) {\n    // create a DOM node to render to\n    var toinsert = this.create_output_subarea(\n    metadata,\n    CLASS_NAME,\n    EXEC_MIME_TYPE\n    );\n    this.keyboard_manager.register_events(toinsert);\n    // Render to node\n    var props = {data: data, metadata: metadata[EXEC_MIME_TYPE]};\n    render(props, toinsert[0]);\n    element.append(toinsert);\n    return toinsert\n  }\n\n  events.on('output_added.OutputArea', handle_add_output);\n  events.on('output_updated.OutputArea', handle_update_output);\n  events.on('clear_output.CodeCell', handle_clear_output);\n  events.on('delete.Cell', handle_clear_output);\n  events.on('kernel_ready.Kernel', handle_kernel_cleanup);\n\n  OutputArea.prototype.register_mime_type(EXEC_MIME_TYPE, append_mime, {\n    safe: true,\n    index: 0\n  });\n}\n\nif (window.Jupyter !== undefined) {\n  try {\n    var events = require('base/js/events');\n    var OutputArea = require('notebook/js/outputarea').OutputArea;\n    if (OutputArea.prototype.mime_types().indexOf(EXEC_MIME_TYPE) == -1) {\n      register_renderer(events, OutputArea);\n    }\n  } catch(err) {\n  }\n}\n",
      "application/vnd.holoviews_load.v0+json": ""
     },
     "metadata": {},
     "output_type": "display_data"
    },
    {
     "data": {
      "application/vnd.holoviews_exec.v0+json": "",
      "text/html": [
       "<div id='ea883d2f-27b7-493b-bf12-7f87b53c750d'>\n",
       "  <div id=\"d45b3fb0-ce3b-4741-9a01-f0b3dcb9defb\" data-root-id=\"ea883d2f-27b7-493b-bf12-7f87b53c750d\" style=\"display: contents;\"></div>\n",
       "</div>\n",
       "<script type=\"application/javascript\">(function(root) {\n",
       "  var docs_json = {\"9523d21f-81bb-4612-8761-5b6d88c12d0d\":{\"version\":\"3.6.2\",\"title\":\"Bokeh Application\",\"roots\":[{\"type\":\"object\",\"name\":\"panel.models.browser.BrowserInfo\",\"id\":\"ea883d2f-27b7-493b-bf12-7f87b53c750d\"},{\"type\":\"object\",\"name\":\"panel.models.comm_manager.CommManager\",\"id\":\"13047909-de48-4cea-bce4-cfcb1ef15414\",\"attributes\":{\"plot_id\":\"ea883d2f-27b7-493b-bf12-7f87b53c750d\",\"comm_id\":\"58a7a4f0cd40470c84a2f3bfc2776258\",\"client_comm_id\":\"c5db1e9c5f8b4acdb533f55268561b8a\"}}],\"defs\":[{\"type\":\"model\",\"name\":\"ReactiveHTML1\"},{\"type\":\"model\",\"name\":\"FlexBox1\",\"properties\":[{\"name\":\"align_content\",\"kind\":\"Any\",\"default\":\"flex-start\"},{\"name\":\"align_items\",\"kind\":\"Any\",\"default\":\"flex-start\"},{\"name\":\"flex_direction\",\"kind\":\"Any\",\"default\":\"row\"},{\"name\":\"flex_wrap\",\"kind\":\"Any\",\"default\":\"wrap\"},{\"name\":\"gap\",\"kind\":\"Any\",\"default\":\"\"},{\"name\":\"justify_content\",\"kind\":\"Any\",\"default\":\"flex-start\"}]},{\"type\":\"model\",\"name\":\"FloatPanel1\",\"properties\":[{\"name\":\"config\",\"kind\":\"Any\",\"default\":{\"type\":\"map\"}},{\"name\":\"contained\",\"kind\":\"Any\",\"default\":true},{\"name\":\"position\",\"kind\":\"Any\",\"default\":\"right-top\"},{\"name\":\"offsetx\",\"kind\":\"Any\",\"default\":null},{\"name\":\"offsety\",\"kind\":\"Any\",\"default\":null},{\"name\":\"theme\",\"kind\":\"Any\",\"default\":\"primary\"},{\"name\":\"status\",\"kind\":\"Any\",\"default\":\"normalized\"}]},{\"type\":\"model\",\"name\":\"GridStack1\",\"properties\":[{\"name\":\"mode\",\"kind\":\"Any\",\"default\":\"warn\"},{\"name\":\"ncols\",\"kind\":\"Any\",\"default\":null},{\"name\":\"nrows\",\"kind\":\"Any\",\"default\":null},{\"name\":\"allow_resize\",\"kind\":\"Any\",\"default\":true},{\"name\":\"allow_drag\",\"kind\":\"Any\",\"default\":true},{\"name\":\"state\",\"kind\":\"Any\",\"default\":[]}]},{\"type\":\"model\",\"name\":\"drag1\",\"properties\":[{\"name\":\"slider_width\",\"kind\":\"Any\",\"default\":5},{\"name\":\"slider_color\",\"kind\":\"Any\",\"default\":\"black\"},{\"name\":\"value\",\"kind\":\"Any\",\"default\":50}]},{\"type\":\"model\",\"name\":\"click1\",\"properties\":[{\"name\":\"terminal_output\",\"kind\":\"Any\",\"default\":\"\"},{\"name\":\"debug_name\",\"kind\":\"Any\",\"default\":\"\"},{\"name\":\"clears\",\"kind\":\"Any\",\"default\":0}]},{\"type\":\"model\",\"name\":\"FastWrapper1\",\"properties\":[{\"name\":\"object\",\"kind\":\"Any\",\"default\":null},{\"name\":\"style\",\"kind\":\"Any\",\"default\":null}]},{\"type\":\"model\",\"name\":\"NotificationAreaBase1\",\"properties\":[{\"name\":\"js_events\",\"kind\":\"Any\",\"default\":{\"type\":\"map\"}},{\"name\":\"position\",\"kind\":\"Any\",\"default\":\"bottom-right\"},{\"name\":\"_clear\",\"kind\":\"Any\",\"default\":0}]},{\"type\":\"model\",\"name\":\"NotificationArea1\",\"properties\":[{\"name\":\"js_events\",\"kind\":\"Any\",\"default\":{\"type\":\"map\"}},{\"name\":\"notifications\",\"kind\":\"Any\",\"default\":[]},{\"name\":\"position\",\"kind\":\"Any\",\"default\":\"bottom-right\"},{\"name\":\"_clear\",\"kind\":\"Any\",\"default\":0},{\"name\":\"types\",\"kind\":\"Any\",\"default\":[{\"type\":\"map\",\"entries\":[[\"type\",\"warning\"],[\"background\",\"#ffc107\"],[\"icon\",{\"type\":\"map\",\"entries\":[[\"className\",\"fas fa-exclamation-triangle\"],[\"tagName\",\"i\"],[\"color\",\"white\"]]}]]},{\"type\":\"map\",\"entries\":[[\"type\",\"info\"],[\"background\",\"#007bff\"],[\"icon\",{\"type\":\"map\",\"entries\":[[\"className\",\"fas fa-info-circle\"],[\"tagName\",\"i\"],[\"color\",\"white\"]]}]]}]}]},{\"type\":\"model\",\"name\":\"Notification\",\"properties\":[{\"name\":\"background\",\"kind\":\"Any\",\"default\":null},{\"name\":\"duration\",\"kind\":\"Any\",\"default\":3000},{\"name\":\"icon\",\"kind\":\"Any\",\"default\":null},{\"name\":\"message\",\"kind\":\"Any\",\"default\":\"\"},{\"name\":\"notification_type\",\"kind\":\"Any\",\"default\":null},{\"name\":\"_destroyed\",\"kind\":\"Any\",\"default\":false}]},{\"type\":\"model\",\"name\":\"TemplateActions1\",\"properties\":[{\"name\":\"open_modal\",\"kind\":\"Any\",\"default\":0},{\"name\":\"close_modal\",\"kind\":\"Any\",\"default\":0}]},{\"type\":\"model\",\"name\":\"BootstrapTemplateActions1\",\"properties\":[{\"name\":\"open_modal\",\"kind\":\"Any\",\"default\":0},{\"name\":\"close_modal\",\"kind\":\"Any\",\"default\":0}]},{\"type\":\"model\",\"name\":\"TemplateEditor1\",\"properties\":[{\"name\":\"layout\",\"kind\":\"Any\",\"default\":[]}]},{\"type\":\"model\",\"name\":\"MaterialTemplateActions1\",\"properties\":[{\"name\":\"open_modal\",\"kind\":\"Any\",\"default\":0},{\"name\":\"close_modal\",\"kind\":\"Any\",\"default\":0}]},{\"type\":\"model\",\"name\":\"ReactiveESM1\",\"properties\":[{\"name\":\"esm_constants\",\"kind\":\"Any\",\"default\":{\"type\":\"map\"}}]},{\"type\":\"model\",\"name\":\"JSComponent1\",\"properties\":[{\"name\":\"esm_constants\",\"kind\":\"Any\",\"default\":{\"type\":\"map\"}}]},{\"type\":\"model\",\"name\":\"ReactComponent1\",\"properties\":[{\"name\":\"esm_constants\",\"kind\":\"Any\",\"default\":{\"type\":\"map\"}}]},{\"type\":\"model\",\"name\":\"AnyWidgetComponent1\",\"properties\":[{\"name\":\"esm_constants\",\"kind\":\"Any\",\"default\":{\"type\":\"map\"}}]},{\"type\":\"model\",\"name\":\"request_value1\",\"properties\":[{\"name\":\"fill\",\"kind\":\"Any\",\"default\":\"none\"},{\"name\":\"_synced\",\"kind\":\"Any\",\"default\":null},{\"name\":\"_request_sync\",\"kind\":\"Any\",\"default\":0}]}]}};\n",
       "  var render_items = [{\"docid\":\"9523d21f-81bb-4612-8761-5b6d88c12d0d\",\"roots\":{\"ea883d2f-27b7-493b-bf12-7f87b53c750d\":\"d45b3fb0-ce3b-4741-9a01-f0b3dcb9defb\"},\"root_ids\":[\"ea883d2f-27b7-493b-bf12-7f87b53c750d\"]}];\n",
       "  var docs = Object.values(docs_json)\n",
       "  if (!docs) {\n",
       "    return\n",
       "  }\n",
       "  const py_version = docs[0].version.replace('rc', '-rc.').replace('.dev', '-dev.')\n",
       "  async function embed_document(root) {\n",
       "    var Bokeh = get_bokeh(root)\n",
       "    await Bokeh.embed.embed_items_notebook(docs_json, render_items);\n",
       "    for (const render_item of render_items) {\n",
       "      for (const root_id of render_item.root_ids) {\n",
       "\tconst id_el = document.getElementById(root_id)\n",
       "\tif (id_el.children.length && id_el.children[0].hasAttribute('data-root-id')) {\n",
       "\t  const root_el = id_el.children[0]\n",
       "\t  root_el.id = root_el.id + '-rendered'\n",
       "\t  for (const child of root_el.children) {\n",
       "            // Ensure JupyterLab does not capture keyboard shortcuts\n",
       "            // see: https://jupyterlab.readthedocs.io/en/4.1.x/extension/notebook.html#keyboard-interaction-model\n",
       "\t    child.setAttribute('data-lm-suppress-shortcuts', 'true')\n",
       "\t  }\n",
       "\t}\n",
       "      }\n",
       "    }\n",
       "  }\n",
       "  function get_bokeh(root) {\n",
       "    if (root.Bokeh === undefined) {\n",
       "      return null\n",
       "    } else if (root.Bokeh.version !== py_version) {\n",
       "      if (root.Bokeh.versions === undefined || !root.Bokeh.versions.has(py_version)) {\n",
       "\treturn null\n",
       "      }\n",
       "      return root.Bokeh.versions.get(py_version);\n",
       "    } else if (root.Bokeh.version === py_version) {\n",
       "      return root.Bokeh\n",
       "    }\n",
       "    return null\n",
       "  }\n",
       "  function is_loaded(root) {\n",
       "    var Bokeh = get_bokeh(root)\n",
       "    return (Bokeh != null && Bokeh.Panel !== undefined && ( root.Plotly !== undefined) && ( root.Plotly !== undefined))\n",
       "  }\n",
       "  if (is_loaded(root)) {\n",
       "    embed_document(root);\n",
       "  } else {\n",
       "    var attempts = 0;\n",
       "    var timer = setInterval(function(root) {\n",
       "      if (is_loaded(root)) {\n",
       "        clearInterval(timer);\n",
       "        embed_document(root);\n",
       "      } else if (document.readyState == \"complete\") {\n",
       "        attempts++;\n",
       "        if (attempts > 200) {\n",
       "          clearInterval(timer);\n",
       "\t  var Bokeh = get_bokeh(root)\n",
       "\t  if (Bokeh == null || Bokeh.Panel == null) {\n",
       "            console.warn(\"Panel: ERROR: Unable to run Panel code because Bokeh or Panel library is missing\");\n",
       "\t  } else {\n",
       "\t    console.warn(\"Panel: WARNING: Attempting to render but not all required libraries could be resolved.\")\n",
       "\t    embed_document(root)\n",
       "\t  }\n",
       "        }\n",
       "      }\n",
       "    }, 25, root)\n",
       "  }\n",
       "})(window);</script>"
      ]
     },
     "metadata": {
      "application/vnd.holoviews_exec.v0+json": {
       "id": "ea883d2f-27b7-493b-bf12-7f87b53c750d"
      }
     },
     "output_type": "display_data"
    },
    {
     "data": {
      "text/html": [
       "<div>\n",
       "<style scoped>\n",
       "    .dataframe tbody tr th:only-of-type {\n",
       "        vertical-align: middle;\n",
       "    }\n",
       "\n",
       "    .dataframe tbody tr th {\n",
       "        vertical-align: top;\n",
       "    }\n",
       "\n",
       "    .dataframe thead th {\n",
       "        text-align: right;\n",
       "    }\n",
       "</style>\n",
       "<table border=\"1\" class=\"dataframe\">\n",
       "  <thead>\n",
       "    <tr style=\"text-align: right;\">\n",
       "      <th></th>\n",
       "      <th>Strategy</th>\n",
       "      <th>Benchmark: TRTEJ</th>\n",
       "      <th>Excess Return</th>\n",
       "    </tr>\n",
       "  </thead>\n",
       "  <tbody>\n",
       "    <tr>\n",
       "      <th>CAGR(%)</th>\n",
       "      <td>1.64</td>\n",
       "      <td>9.75</td>\n",
       "      <td>-8.68</td>\n",
       "    </tr>\n",
       "    <tr>\n",
       "      <th>Sharpe</th>\n",
       "      <td>0.18</td>\n",
       "      <td>0.61</td>\n",
       "      <td>-0.37</td>\n",
       "    </tr>\n",
       "    <tr>\n",
       "      <th>Calmar</th>\n",
       "      <td>0.02</td>\n",
       "      <td>0.17</td>\n",
       "      <td>-0.10</td>\n",
       "    </tr>\n",
       "    <tr>\n",
       "      <th>MDD(%)</th>\n",
       "      <td>-82.39</td>\n",
       "      <td>-56.11</td>\n",
       "      <td>-87.82</td>\n",
       "    </tr>\n",
       "    <tr>\n",
       "      <th>Simple MDD(%)</th>\n",
       "      <td>-97.65</td>\n",
       "      <td>-47.09</td>\n",
       "      <td>-148.07</td>\n",
       "    </tr>\n",
       "    <tr>\n",
       "      <th>Win Rate(%)</th>\n",
       "      <td>51.52</td>\n",
       "      <td>54.80</td>\n",
       "      <td>48.26</td>\n",
       "    </tr>\n",
       "    <tr>\n",
       "      <th>Weekly Win(%)</th>\n",
       "      <td>50.71</td>\n",
       "      <td>56.36</td>\n",
       "      <td>44.86</td>\n",
       "    </tr>\n",
       "    <tr>\n",
       "      <th>Monthly Win(%)</th>\n",
       "      <td>51.64</td>\n",
       "      <td>62.70</td>\n",
       "      <td>43.85</td>\n",
       "    </tr>\n",
       "    <tr>\n",
       "      <th>Yearly Win(%)</th>\n",
       "      <td>47.62</td>\n",
       "      <td>71.43</td>\n",
       "      <td>38.10</td>\n",
       "    </tr>\n",
       "    <tr>\n",
       "      <th>Win/Loss Ratio</th>\n",
       "      <td>0.95</td>\n",
       "      <td>0.92</td>\n",
       "      <td>1.01</td>\n",
       "    </tr>\n",
       "    <tr>\n",
       "      <th>Expected Return(bps)</th>\n",
       "      <td>0.68</td>\n",
       "      <td>3.88</td>\n",
       "      <td>-3.78</td>\n",
       "    </tr>\n",
       "    <tr>\n",
       "      <th>Sample Size</th>\n",
       "      <td>4998.00</td>\n",
       "      <td>4998.00</td>\n",
       "      <td>4998.00</td>\n",
       "    </tr>\n",
       "    <tr>\n",
       "      <th>t</th>\n",
       "      <td>0.83</td>\n",
       "      <td>2.78</td>\n",
       "      <td>-1.69</td>\n",
       "    </tr>\n",
       "  </tbody>\n",
       "</table>\n",
       "</div>"
      ],
      "text/plain": [
       "                      Strategy  Benchmark: TRTEJ  Excess Return\n",
       "CAGR(%)                   1.64              9.75          -8.68\n",
       "Sharpe                    0.18              0.61          -0.37\n",
       "Calmar                    0.02              0.17          -0.10\n",
       "MDD(%)                  -82.39            -56.11         -87.82\n",
       "Simple MDD(%)           -97.65            -47.09        -148.07\n",
       "Win Rate(%)              51.52             54.80          48.26\n",
       "Weekly Win(%)            50.71             56.36          44.86\n",
       "Monthly Win(%)           51.64             62.70          43.85\n",
       "Yearly Win(%)            47.62             71.43          38.10\n",
       "Win/Loss Ratio            0.95              0.92           1.01\n",
       "Expected Return(bps)      0.68              3.88          -3.78\n",
       "Sample Size            4998.00           4998.00        4998.00\n",
       "t                         0.83              2.78          -1.69"
      ]
     },
     "metadata": {},
     "output_type": "display_data"
    },
    {
     "data": {
      "text/html": [
       "<script type=\"esms-options\">{\"shimMode\": true}</script><style>*[data-root-id],\n",
       "*[data-root-id] > * {\n",
       "  box-sizing: border-box;\n",
       "  font-family: var(--jp-ui-font-family);\n",
       "  font-size: var(--jp-ui-font-size1);\n",
       "  color: var(--vscode-editor-foreground, var(--jp-ui-font-color1));\n",
       "}\n",
       "\n",
       "/* Override VSCode background color */\n",
       ".cell-output-ipywidget-background:has(\n",
       "    > .cell-output-ipywidget-background > .lm-Widget > *[data-root-id]\n",
       "  ),\n",
       ".cell-output-ipywidget-background:has(> .lm-Widget > *[data-root-id]) {\n",
       "  background-color: transparent !important;\n",
       "}\n",
       "</style>"
      ]
     },
     "metadata": {},
     "output_type": "display_data"
    },
    {
     "data": {
      "application/javascript": "(function(root) {\n  function now() {\n    return new Date();\n  }\n\n  const force = false;\n  const py_version = '3.6.2'.replace('rc', '-rc.').replace('.dev', '-dev.');\n  const reloading = true;\n  const Bokeh = root.Bokeh;\n\n  // Set a timeout for this load but only if we are not already initializing\n  if (typeof (root._bokeh_timeout) === \"undefined\" || (force || !root._bokeh_is_initializing)) {\n    root._bokeh_timeout = Date.now() + 5000;\n    root._bokeh_failed_load = false;\n  }\n\n  function run_callbacks() {\n    try {\n      root._bokeh_onload_callbacks.forEach(function(callback) {\n        if (callback != null)\n          callback();\n      });\n    } finally {\n      delete root._bokeh_onload_callbacks;\n    }\n    console.debug(\"Bokeh: all callbacks have finished\");\n  }\n\n  function load_libs(css_urls, js_urls, js_modules, js_exports, callback) {\n    if (css_urls == null) css_urls = [];\n    if (js_urls == null) js_urls = [];\n    if (js_modules == null) js_modules = [];\n    if (js_exports == null) js_exports = {};\n\n    root._bokeh_onload_callbacks.push(callback);\n\n    if (root._bokeh_is_loading > 0) {\n      // Don't load bokeh if it is still initializing\n      console.debug(\"Bokeh: BokehJS is being loaded, scheduling callback at\", now());\n      return null;\n    } else if (js_urls.length === 0 && js_modules.length === 0 && Object.keys(js_exports).length === 0) {\n      // There is nothing to load\n      run_callbacks();\n      return null;\n    }\n\n    function on_load() {\n      root._bokeh_is_loading--;\n      if (root._bokeh_is_loading === 0) {\n        console.debug(\"Bokeh: all BokehJS libraries/stylesheets loaded\");\n        run_callbacks()\n      }\n    }\n    window._bokeh_on_load = on_load\n\n    function on_error(e) {\n      const src_el = e.srcElement\n      console.error(\"failed to load \" + (src_el.href || src_el.src));\n    }\n\n    const skip = [];\n    if (window.requirejs) {\n      window.requirejs.config({'packages': {}, 'paths': {'plotly': 'https://cdn.plot.ly/plotly-2.31.1.min'}, 'shim': {}});\n      require([\"plotly\"], function(Plotly) {\n        window.Plotly = Plotly\n        on_load()\n      })\n      root._bokeh_is_loading = css_urls.length + 1;\n    } else {\n      root._bokeh_is_loading = css_urls.length + js_urls.length + js_modules.length + Object.keys(js_exports).length;\n    }\n\n    const existing_stylesheets = []\n    const links = document.getElementsByTagName('link')\n    for (let i = 0; i < links.length; i++) {\n      const link = links[i]\n      if (link.href != null) {\n        existing_stylesheets.push(link.href)\n      }\n    }\n    for (let i = 0; i < css_urls.length; i++) {\n      const url = css_urls[i];\n      const escaped = encodeURI(url)\n      if (existing_stylesheets.indexOf(escaped) !== -1) {\n        on_load()\n        continue;\n      }\n      const element = document.createElement(\"link\");\n      element.onload = on_load;\n      element.onerror = on_error;\n      element.rel = \"stylesheet\";\n      element.type = \"text/css\";\n      element.href = url;\n      console.debug(\"Bokeh: injecting link tag for BokehJS stylesheet: \", url);\n      document.body.appendChild(element);\n    }    if (((window.Plotly !== undefined) && (!(window.Plotly instanceof HTMLElement))) || window.requirejs) {\n      var urls = ['https://cdn.holoviz.org/panel/1.5.4/dist/bundled/plotlyplot/plotly-2.31.1.min.js'];\n      for (var i = 0; i < urls.length; i++) {\n        skip.push(encodeURI(urls[i]))\n      }\n    }    var existing_scripts = []\n    const scripts = document.getElementsByTagName('script')\n    for (let i = 0; i < scripts.length; i++) {\n      var script = scripts[i]\n      if (script.src != null) {\n        existing_scripts.push(script.src)\n      }\n    }\n    for (let i = 0; i < js_urls.length; i++) {\n      const url = js_urls[i];\n      const escaped = encodeURI(url)\n      if (skip.indexOf(escaped) !== -1 || existing_scripts.indexOf(escaped) !== -1) {\n        if (!window.requirejs) {\n          on_load();\n        }\n        continue;\n      }\n      const element = document.createElement('script');\n      element.onload = on_load;\n      element.onerror = on_error;\n      element.async = false;\n      element.src = url;\n      console.debug(\"Bokeh: injecting script tag for BokehJS library: \", url);\n      document.head.appendChild(element);\n    }\n    for (let i = 0; i < js_modules.length; i++) {\n      const url = js_modules[i];\n      const escaped = encodeURI(url)\n      if (skip.indexOf(escaped) !== -1 || existing_scripts.indexOf(escaped) !== -1) {\n        if (!window.requirejs) {\n          on_load();\n        }\n        continue;\n      }\n      var element = document.createElement('script');\n      element.onload = on_load;\n      element.onerror = on_error;\n      element.async = false;\n      element.src = url;\n      element.type = \"module\";\n      console.debug(\"Bokeh: injecting script tag for BokehJS library: \", url);\n      document.head.appendChild(element);\n    }\n    for (const name in js_exports) {\n      const url = js_exports[name];\n      const escaped = encodeURI(url)\n      if (skip.indexOf(escaped) >= 0 || root[name] != null) {\n        if (!window.requirejs) {\n          on_load();\n        }\n        continue;\n      }\n      var element = document.createElement('script');\n      element.onerror = on_error;\n      element.async = false;\n      element.type = \"module\";\n      console.debug(\"Bokeh: injecting script tag for BokehJS library: \", url);\n      element.textContent = `\n      import ${name} from \"${url}\"\n      window.${name} = ${name}\n      window._bokeh_on_load()\n      `\n      document.head.appendChild(element);\n    }\n    if (!js_urls.length && !js_modules.length) {\n      on_load()\n    }\n  };\n\n  function inject_raw_css(css) {\n    const element = document.createElement(\"style\");\n    element.appendChild(document.createTextNode(css));\n    document.body.appendChild(element);\n  }\n\n  const js_urls = [\"https://cdn.holoviz.org/panel/1.5.4/dist/bundled/reactiveesm/es-module-shims@^1.10.0/dist/es-module-shims.min.js\", \"https://cdn.holoviz.org/panel/1.5.4/dist/bundled/jquery/jquery.slim.min.js\", \"https://cdn.holoviz.org/panel/1.5.4/dist/bundled/plotlyplot/plotly-2.31.1.min.js\"];\n  const js_modules = [];\n  const js_exports = {};\n  const css_urls = [\"https://cdn.holoviz.org/panel/1.5.4/dist/bundled/plotlyplot/mapbox-gl-js/v3.0.1/mapbox-gl.css?v=1.5.4\"];\n  const inline_js = [    function(Bokeh) {\n      Bokeh.set_log_level(\"info\");\n    },\nfunction(Bokeh) {} // ensure no trailing comma for IE\n  ];\n\n  function run_inline_js() {\n    if ((root.Bokeh !== undefined) || (force === true)) {\n      for (let i = 0; i < inline_js.length; i++) {\n        try {\n          inline_js[i].call(root, root.Bokeh);\n        } catch(e) {\n          if (!reloading) {\n            throw e;\n          }\n        }\n      }\n      // Cache old bokeh versions\n      if (Bokeh != undefined && !reloading) {\n        var NewBokeh = root.Bokeh;\n        if (Bokeh.versions === undefined) {\n          Bokeh.versions = new Map();\n        }\n        if (NewBokeh.version !== Bokeh.version) {\n          Bokeh.versions.set(NewBokeh.version, NewBokeh)\n        }\n        root.Bokeh = Bokeh;\n      }\n    } else if (Date.now() < root._bokeh_timeout) {\n      setTimeout(run_inline_js, 100);\n    } else if (!root._bokeh_failed_load) {\n      console.log(\"Bokeh: BokehJS failed to load within specified timeout.\");\n      root._bokeh_failed_load = true;\n    }\n    root._bokeh_is_initializing = false\n  }\n\n  function load_or_wait() {\n    // Implement a backoff loop that tries to ensure we do not load multiple\n    // versions of Bokeh and its dependencies at the same time.\n    // In recent versions we use the root._bokeh_is_initializing flag\n    // to determine whether there is an ongoing attempt to initialize\n    // bokeh, however for backward compatibility we also try to ensure\n    // that we do not start loading a newer (Panel>=1.0 and Bokeh>3) version\n    // before older versions are fully initialized.\n    if (root._bokeh_is_initializing && Date.now() > root._bokeh_timeout) {\n      // If the timeout and bokeh was not successfully loaded we reset\n      // everything and try loading again\n      root._bokeh_timeout = Date.now() + 5000;\n      root._bokeh_is_initializing = false;\n      root._bokeh_onload_callbacks = undefined;\n      root._bokeh_is_loading = 0\n      console.log(\"Bokeh: BokehJS was loaded multiple times but one version failed to initialize.\");\n      load_or_wait();\n    } else if (root._bokeh_is_initializing || (typeof root._bokeh_is_initializing === \"undefined\" && root._bokeh_onload_callbacks !== undefined)) {\n      setTimeout(load_or_wait, 100);\n    } else {\n      root._bokeh_is_initializing = true\n      root._bokeh_onload_callbacks = []\n      const bokeh_loaded = root.Bokeh != null && (root.Bokeh.version === py_version || (root.Bokeh.versions !== undefined && root.Bokeh.versions.has(py_version)));\n      if (!reloading && !bokeh_loaded) {\n        if (root.Bokeh) {\n          root.Bokeh = undefined;\n        }\n        console.debug(\"Bokeh: BokehJS not loaded, scheduling load and callback at\", now());\n      }\n      load_libs(css_urls, js_urls, js_modules, js_exports, function() {\n        console.debug(\"Bokeh: BokehJS plotting callback run at\", now());\n        run_inline_js();\n      });\n    }\n  }\n  // Give older versions of the autoload script a head-start to ensure\n  // they initialize before we start loading newer version.\n  setTimeout(load_or_wait, 100)\n}(window));",
      "application/vnd.holoviews_load.v0+json": ""
     },
     "metadata": {},
     "output_type": "display_data"
    },
    {
     "data": {
      "application/javascript": "\nif ((window.PyViz === undefined) || (window.PyViz instanceof HTMLElement)) {\n  window.PyViz = {comms: {}, comm_status:{}, kernels:{}, receivers: {}, plot_index: []}\n}\n\n\n    function JupyterCommManager() {\n    }\n\n    JupyterCommManager.prototype.register_target = function(plot_id, comm_id, msg_handler) {\n      if (window.comm_manager || ((window.Jupyter !== undefined) && (Jupyter.notebook.kernel != null))) {\n        var comm_manager = window.comm_manager || Jupyter.notebook.kernel.comm_manager;\n        comm_manager.register_target(comm_id, function(comm) {\n          comm.on_msg(msg_handler);\n        });\n      } else if ((plot_id in window.PyViz.kernels) && (window.PyViz.kernels[plot_id])) {\n        window.PyViz.kernels[plot_id].registerCommTarget(comm_id, function(comm) {\n          comm.onMsg = msg_handler;\n        });\n      } else if (typeof google != 'undefined' && google.colab.kernel != null) {\n        google.colab.kernel.comms.registerTarget(comm_id, (comm) => {\n          var messages = comm.messages[Symbol.asyncIterator]();\n          function processIteratorResult(result) {\n            var message = result.value;\n            console.log(message)\n            var content = {data: message.data, comm_id};\n            var buffers = []\n            for (var buffer of message.buffers || []) {\n              buffers.push(new DataView(buffer))\n            }\n            var metadata = message.metadata || {};\n            var msg = {content, buffers, metadata}\n            msg_handler(msg);\n            return messages.next().then(processIteratorResult);\n          }\n          return messages.next().then(processIteratorResult);\n        })\n      }\n    }\n\n    JupyterCommManager.prototype.get_client_comm = function(plot_id, comm_id, msg_handler) {\n      if (comm_id in window.PyViz.comms) {\n        return window.PyViz.comms[comm_id];\n      } else if (window.comm_manager || ((window.Jupyter !== undefined) && (Jupyter.notebook.kernel != null))) {\n        var comm_manager = window.comm_manager || Jupyter.notebook.kernel.comm_manager;\n        var comm = comm_manager.new_comm(comm_id, {}, {}, {}, comm_id);\n        if (msg_handler) {\n          comm.on_msg(msg_handler);\n        }\n      } else if ((plot_id in window.PyViz.kernels) && (window.PyViz.kernels[plot_id])) {\n        var comm = window.PyViz.kernels[plot_id].connectToComm(comm_id);\n        comm.open();\n        if (msg_handler) {\n          comm.onMsg = msg_handler;\n        }\n      } else if (typeof google != 'undefined' && google.colab.kernel != null) {\n        var comm_promise = google.colab.kernel.comms.open(comm_id)\n        comm_promise.then((comm) => {\n          window.PyViz.comms[comm_id] = comm;\n          if (msg_handler) {\n            var messages = comm.messages[Symbol.asyncIterator]();\n            function processIteratorResult(result) {\n              var message = result.value;\n              var content = {data: message.data};\n              var metadata = message.metadata || {comm_id};\n              var msg = {content, metadata}\n              msg_handler(msg);\n              return messages.next().then(processIteratorResult);\n            }\n            return messages.next().then(processIteratorResult);\n          }\n        }) \n        var sendClosure = (data, metadata, buffers, disposeOnDone) => {\n          return comm_promise.then((comm) => {\n            comm.send(data, metadata, buffers, disposeOnDone);\n          });\n        };\n        var comm = {\n          send: sendClosure\n        };\n      }\n      window.PyViz.comms[comm_id] = comm;\n      return comm;\n    }\n    window.PyViz.comm_manager = new JupyterCommManager();\n    \n\n\nvar JS_MIME_TYPE = 'application/javascript';\nvar HTML_MIME_TYPE = 'text/html';\nvar EXEC_MIME_TYPE = 'application/vnd.holoviews_exec.v0+json';\nvar CLASS_NAME = 'output';\n\n/**\n * Render data to the DOM node\n */\nfunction render(props, node) {\n  var div = document.createElement(\"div\");\n  var script = document.createElement(\"script\");\n  node.appendChild(div);\n  node.appendChild(script);\n}\n\n/**\n * Handle when a new output is added\n */\nfunction handle_add_output(event, handle) {\n  var output_area = handle.output_area;\n  var output = handle.output;\n  if ((output.data == undefined) || (!output.data.hasOwnProperty(EXEC_MIME_TYPE))) {\n    return\n  }\n  var id = output.metadata[EXEC_MIME_TYPE][\"id\"];\n  var toinsert = output_area.element.find(\".\" + CLASS_NAME.split(' ')[0]);\n  if (id !== undefined) {\n    var nchildren = toinsert.length;\n    var html_node = toinsert[nchildren-1].children[0];\n    html_node.innerHTML = output.data[HTML_MIME_TYPE];\n    var scripts = [];\n    var nodelist = html_node.querySelectorAll(\"script\");\n    for (var i in nodelist) {\n      if (nodelist.hasOwnProperty(i)) {\n        scripts.push(nodelist[i])\n      }\n    }\n\n    scripts.forEach( function (oldScript) {\n      var newScript = document.createElement(\"script\");\n      var attrs = [];\n      var nodemap = oldScript.attributes;\n      for (var j in nodemap) {\n        if (nodemap.hasOwnProperty(j)) {\n          attrs.push(nodemap[j])\n        }\n      }\n      attrs.forEach(function(attr) { newScript.setAttribute(attr.name, attr.value) });\n      newScript.appendChild(document.createTextNode(oldScript.innerHTML));\n      oldScript.parentNode.replaceChild(newScript, oldScript);\n    });\n    if (JS_MIME_TYPE in output.data) {\n      toinsert[nchildren-1].children[1].textContent = output.data[JS_MIME_TYPE];\n    }\n    output_area._hv_plot_id = id;\n    if ((window.Bokeh !== undefined) && (id in Bokeh.index)) {\n      window.PyViz.plot_index[id] = Bokeh.index[id];\n    } else {\n      window.PyViz.plot_index[id] = null;\n    }\n  } else if (output.metadata[EXEC_MIME_TYPE][\"server_id\"] !== undefined) {\n    var bk_div = document.createElement(\"div\");\n    bk_div.innerHTML = output.data[HTML_MIME_TYPE];\n    var script_attrs = bk_div.children[0].attributes;\n    for (var i = 0; i < script_attrs.length; i++) {\n      toinsert[toinsert.length - 1].childNodes[1].setAttribute(script_attrs[i].name, script_attrs[i].value);\n    }\n    // store reference to server id on output_area\n    output_area._bokeh_server_id = output.metadata[EXEC_MIME_TYPE][\"server_id\"];\n  }\n}\n\n/**\n * Handle when an output is cleared or removed\n */\nfunction handle_clear_output(event, handle) {\n  var id = handle.cell.output_area._hv_plot_id;\n  var server_id = handle.cell.output_area._bokeh_server_id;\n  if (((id === undefined) || !(id in PyViz.plot_index)) && (server_id !== undefined)) { return; }\n  var comm = window.PyViz.comm_manager.get_client_comm(\"hv-extension-comm\", \"hv-extension-comm\", function () {});\n  if (server_id !== null) {\n    comm.send({event_type: 'server_delete', 'id': server_id});\n    return;\n  } else if (comm !== null) {\n    comm.send({event_type: 'delete', 'id': id});\n  }\n  delete PyViz.plot_index[id];\n  if ((window.Bokeh !== undefined) & (id in window.Bokeh.index)) {\n    var doc = window.Bokeh.index[id].model.document\n    doc.clear();\n    const i = window.Bokeh.documents.indexOf(doc);\n    if (i > -1) {\n      window.Bokeh.documents.splice(i, 1);\n    }\n  }\n}\n\n/**\n * Handle kernel restart event\n */\nfunction handle_kernel_cleanup(event, handle) {\n  delete PyViz.comms[\"hv-extension-comm\"];\n  window.PyViz.plot_index = {}\n}\n\n/**\n * Handle update_display_data messages\n */\nfunction handle_update_output(event, handle) {\n  handle_clear_output(event, {cell: {output_area: handle.output_area}})\n  handle_add_output(event, handle)\n}\n\nfunction register_renderer(events, OutputArea) {\n  function append_mime(data, metadata, element) {\n    // create a DOM node to render to\n    var toinsert = this.create_output_subarea(\n    metadata,\n    CLASS_NAME,\n    EXEC_MIME_TYPE\n    );\n    this.keyboard_manager.register_events(toinsert);\n    // Render to node\n    var props = {data: data, metadata: metadata[EXEC_MIME_TYPE]};\n    render(props, toinsert[0]);\n    element.append(toinsert);\n    return toinsert\n  }\n\n  events.on('output_added.OutputArea', handle_add_output);\n  events.on('output_updated.OutputArea', handle_update_output);\n  events.on('clear_output.CodeCell', handle_clear_output);\n  events.on('delete.Cell', handle_clear_output);\n  events.on('kernel_ready.Kernel', handle_kernel_cleanup);\n\n  OutputArea.prototype.register_mime_type(EXEC_MIME_TYPE, append_mime, {\n    safe: true,\n    index: 0\n  });\n}\n\nif (window.Jupyter !== undefined) {\n  try {\n    var events = require('base/js/events');\n    var OutputArea = require('notebook/js/outputarea').OutputArea;\n    if (OutputArea.prototype.mime_types().indexOf(EXEC_MIME_TYPE) == -1) {\n      register_renderer(events, OutputArea);\n    }\n  } catch(err) {\n  }\n}\n",
      "application/vnd.holoviews_load.v0+json": ""
     },
     "metadata": {},
     "output_type": "display_data"
    },
    {
     "data": {
      "text/html": [
       "<div>\n",
       "<style scoped>\n",
       "    .dataframe tbody tr th:only-of-type {\n",
       "        vertical-align: middle;\n",
       "    }\n",
       "\n",
       "    .dataframe tbody tr th {\n",
       "        vertical-align: top;\n",
       "    }\n",
       "\n",
       "    .dataframe thead th {\n",
       "        text-align: right;\n",
       "    }\n",
       "</style>\n",
       "<table border=\"1\" class=\"dataframe\">\n",
       "  <thead>\n",
       "    <tr style=\"text-align: right;\">\n",
       "      <th></th>\n",
       "      <th>Strategy</th>\n",
       "      <th>Benchmark: TRTEJ</th>\n",
       "      <th>Excess Return</th>\n",
       "    </tr>\n",
       "  </thead>\n",
       "  <tbody>\n",
       "    <tr>\n",
       "      <th>CAGR(%)</th>\n",
       "      <td>14.48</td>\n",
       "      <td>9.75</td>\n",
       "      <td>3.87</td>\n",
       "    </tr>\n",
       "    <tr>\n",
       "      <th>Sharpe</th>\n",
       "      <td>0.68</td>\n",
       "      <td>0.61</td>\n",
       "      <td>0.30</td>\n",
       "    </tr>\n",
       "    <tr>\n",
       "      <th>Calmar</th>\n",
       "      <td>0.25</td>\n",
       "      <td>0.17</td>\n",
       "      <td>0.09</td>\n",
       "    </tr>\n",
       "    <tr>\n",
       "      <th>MDD(%)</th>\n",
       "      <td>-56.97</td>\n",
       "      <td>-56.11</td>\n",
       "      <td>-41.95</td>\n",
       "    </tr>\n",
       "    <tr>\n",
       "      <th>Simple MDD(%)</th>\n",
       "      <td>-32.33</td>\n",
       "      <td>-47.09</td>\n",
       "      <td>-28.35</td>\n",
       "    </tr>\n",
       "    <tr>\n",
       "      <th>Win Rate(%)</th>\n",
       "      <td>53.84</td>\n",
       "      <td>54.80</td>\n",
       "      <td>50.84</td>\n",
       "    </tr>\n",
       "    <tr>\n",
       "      <th>Weekly Win(%)</th>\n",
       "      <td>55.61</td>\n",
       "      <td>56.36</td>\n",
       "      <td>51.46</td>\n",
       "    </tr>\n",
       "    <tr>\n",
       "      <th>Monthly Win(%)</th>\n",
       "      <td>56.15</td>\n",
       "      <td>62.70</td>\n",
       "      <td>51.23</td>\n",
       "    </tr>\n",
       "    <tr>\n",
       "      <th>Yearly Win(%)</th>\n",
       "      <td>71.43</td>\n",
       "      <td>71.43</td>\n",
       "      <td>42.86</td>\n",
       "    </tr>\n",
       "    <tr>\n",
       "      <th>Win/Loss Ratio</th>\n",
       "      <td>0.93</td>\n",
       "      <td>0.92</td>\n",
       "      <td>1.02</td>\n",
       "    </tr>\n",
       "    <tr>\n",
       "      <th>Expected Return(bps)</th>\n",
       "      <td>5.64</td>\n",
       "      <td>3.88</td>\n",
       "      <td>1.58</td>\n",
       "    </tr>\n",
       "    <tr>\n",
       "      <th>Sample Size</th>\n",
       "      <td>4998.00</td>\n",
       "      <td>4998.00</td>\n",
       "      <td>4998.00</td>\n",
       "    </tr>\n",
       "    <tr>\n",
       "      <th>t</th>\n",
       "      <td>3.12</td>\n",
       "      <td>2.78</td>\n",
       "      <td>1.36</td>\n",
       "    </tr>\n",
       "  </tbody>\n",
       "</table>\n",
       "</div>"
      ],
      "text/plain": [
       "                      Strategy  Benchmark: TRTEJ  Excess Return\n",
       "CAGR(%)                  14.48              9.75           3.87\n",
       "Sharpe                    0.68              0.61           0.30\n",
       "Calmar                    0.25              0.17           0.09\n",
       "MDD(%)                  -56.97            -56.11         -41.95\n",
       "Simple MDD(%)           -32.33            -47.09         -28.35\n",
       "Win Rate(%)              53.84             54.80          50.84\n",
       "Weekly Win(%)            55.61             56.36          51.46\n",
       "Monthly Win(%)           56.15             62.70          51.23\n",
       "Yearly Win(%)            71.43             71.43          42.86\n",
       "Win/Loss Ratio            0.93              0.92           1.02\n",
       "Expected Return(bps)      5.64              3.88           1.58\n",
       "Sample Size            4998.00           4998.00        4998.00\n",
       "t                         3.12              2.78           1.36"
      ]
     },
     "metadata": {},
     "output_type": "display_data"
    },
    {
     "data": {
      "text/html": [
       "<script type=\"esms-options\">{\"shimMode\": true}</script><style>*[data-root-id],\n",
       "*[data-root-id] > * {\n",
       "  box-sizing: border-box;\n",
       "  font-family: var(--jp-ui-font-family);\n",
       "  font-size: var(--jp-ui-font-size1);\n",
       "  color: var(--vscode-editor-foreground, var(--jp-ui-font-color1));\n",
       "}\n",
       "\n",
       "/* Override VSCode background color */\n",
       ".cell-output-ipywidget-background:has(\n",
       "    > .cell-output-ipywidget-background > .lm-Widget > *[data-root-id]\n",
       "  ),\n",
       ".cell-output-ipywidget-background:has(> .lm-Widget > *[data-root-id]) {\n",
       "  background-color: transparent !important;\n",
       "}\n",
       "</style>"
      ]
     },
     "metadata": {},
     "output_type": "display_data"
    },
    {
     "data": {
      "application/javascript": "(function(root) {\n  function now() {\n    return new Date();\n  }\n\n  const force = false;\n  const py_version = '3.6.2'.replace('rc', '-rc.').replace('.dev', '-dev.');\n  const reloading = true;\n  const Bokeh = root.Bokeh;\n\n  // Set a timeout for this load but only if we are not already initializing\n  if (typeof (root._bokeh_timeout) === \"undefined\" || (force || !root._bokeh_is_initializing)) {\n    root._bokeh_timeout = Date.now() + 5000;\n    root._bokeh_failed_load = false;\n  }\n\n  function run_callbacks() {\n    try {\n      root._bokeh_onload_callbacks.forEach(function(callback) {\n        if (callback != null)\n          callback();\n      });\n    } finally {\n      delete root._bokeh_onload_callbacks;\n    }\n    console.debug(\"Bokeh: all callbacks have finished\");\n  }\n\n  function load_libs(css_urls, js_urls, js_modules, js_exports, callback) {\n    if (css_urls == null) css_urls = [];\n    if (js_urls == null) js_urls = [];\n    if (js_modules == null) js_modules = [];\n    if (js_exports == null) js_exports = {};\n\n    root._bokeh_onload_callbacks.push(callback);\n\n    if (root._bokeh_is_loading > 0) {\n      // Don't load bokeh if it is still initializing\n      console.debug(\"Bokeh: BokehJS is being loaded, scheduling callback at\", now());\n      return null;\n    } else if (js_urls.length === 0 && js_modules.length === 0 && Object.keys(js_exports).length === 0) {\n      // There is nothing to load\n      run_callbacks();\n      return null;\n    }\n\n    function on_load() {\n      root._bokeh_is_loading--;\n      if (root._bokeh_is_loading === 0) {\n        console.debug(\"Bokeh: all BokehJS libraries/stylesheets loaded\");\n        run_callbacks()\n      }\n    }\n    window._bokeh_on_load = on_load\n\n    function on_error(e) {\n      const src_el = e.srcElement\n      console.error(\"failed to load \" + (src_el.href || src_el.src));\n    }\n\n    const skip = [];\n    if (window.requirejs) {\n      window.requirejs.config({'packages': {}, 'paths': {'plotly': 'https://cdn.plot.ly/plotly-2.31.1.min'}, 'shim': {}});\n      require([\"plotly\"], function(Plotly) {\n        window.Plotly = Plotly\n        on_load()\n      })\n      root._bokeh_is_loading = css_urls.length + 1;\n    } else {\n      root._bokeh_is_loading = css_urls.length + js_urls.length + js_modules.length + Object.keys(js_exports).length;\n    }\n\n    const existing_stylesheets = []\n    const links = document.getElementsByTagName('link')\n    for (let i = 0; i < links.length; i++) {\n      const link = links[i]\n      if (link.href != null) {\n        existing_stylesheets.push(link.href)\n      }\n    }\n    for (let i = 0; i < css_urls.length; i++) {\n      const url = css_urls[i];\n      const escaped = encodeURI(url)\n      if (existing_stylesheets.indexOf(escaped) !== -1) {\n        on_load()\n        continue;\n      }\n      const element = document.createElement(\"link\");\n      element.onload = on_load;\n      element.onerror = on_error;\n      element.rel = \"stylesheet\";\n      element.type = \"text/css\";\n      element.href = url;\n      console.debug(\"Bokeh: injecting link tag for BokehJS stylesheet: \", url);\n      document.body.appendChild(element);\n    }    if (((window.Plotly !== undefined) && (!(window.Plotly instanceof HTMLElement))) || window.requirejs) {\n      var urls = ['https://cdn.holoviz.org/panel/1.5.4/dist/bundled/plotlyplot/plotly-2.31.1.min.js'];\n      for (var i = 0; i < urls.length; i++) {\n        skip.push(encodeURI(urls[i]))\n      }\n    }    var existing_scripts = []\n    const scripts = document.getElementsByTagName('script')\n    for (let i = 0; i < scripts.length; i++) {\n      var script = scripts[i]\n      if (script.src != null) {\n        existing_scripts.push(script.src)\n      }\n    }\n    for (let i = 0; i < js_urls.length; i++) {\n      const url = js_urls[i];\n      const escaped = encodeURI(url)\n      if (skip.indexOf(escaped) !== -1 || existing_scripts.indexOf(escaped) !== -1) {\n        if (!window.requirejs) {\n          on_load();\n        }\n        continue;\n      }\n      const element = document.createElement('script');\n      element.onload = on_load;\n      element.onerror = on_error;\n      element.async = false;\n      element.src = url;\n      console.debug(\"Bokeh: injecting script tag for BokehJS library: \", url);\n      document.head.appendChild(element);\n    }\n    for (let i = 0; i < js_modules.length; i++) {\n      const url = js_modules[i];\n      const escaped = encodeURI(url)\n      if (skip.indexOf(escaped) !== -1 || existing_scripts.indexOf(escaped) !== -1) {\n        if (!window.requirejs) {\n          on_load();\n        }\n        continue;\n      }\n      var element = document.createElement('script');\n      element.onload = on_load;\n      element.onerror = on_error;\n      element.async = false;\n      element.src = url;\n      element.type = \"module\";\n      console.debug(\"Bokeh: injecting script tag for BokehJS library: \", url);\n      document.head.appendChild(element);\n    }\n    for (const name in js_exports) {\n      const url = js_exports[name];\n      const escaped = encodeURI(url)\n      if (skip.indexOf(escaped) >= 0 || root[name] != null) {\n        if (!window.requirejs) {\n          on_load();\n        }\n        continue;\n      }\n      var element = document.createElement('script');\n      element.onerror = on_error;\n      element.async = false;\n      element.type = \"module\";\n      console.debug(\"Bokeh: injecting script tag for BokehJS library: \", url);\n      element.textContent = `\n      import ${name} from \"${url}\"\n      window.${name} = ${name}\n      window._bokeh_on_load()\n      `\n      document.head.appendChild(element);\n    }\n    if (!js_urls.length && !js_modules.length) {\n      on_load()\n    }\n  };\n\n  function inject_raw_css(css) {\n    const element = document.createElement(\"style\");\n    element.appendChild(document.createTextNode(css));\n    document.body.appendChild(element);\n  }\n\n  const js_urls = [\"https://cdn.holoviz.org/panel/1.5.4/dist/bundled/reactiveesm/es-module-shims@^1.10.0/dist/es-module-shims.min.js\", \"https://cdn.holoviz.org/panel/1.5.4/dist/bundled/jquery/jquery.slim.min.js\", \"https://cdn.holoviz.org/panel/1.5.4/dist/bundled/plotlyplot/plotly-2.31.1.min.js\"];\n  const js_modules = [];\n  const js_exports = {};\n  const css_urls = [\"https://cdn.holoviz.org/panel/1.5.4/dist/bundled/plotlyplot/mapbox-gl-js/v3.0.1/mapbox-gl.css?v=1.5.4\"];\n  const inline_js = [    function(Bokeh) {\n      Bokeh.set_log_level(\"info\");\n    },\nfunction(Bokeh) {} // ensure no trailing comma for IE\n  ];\n\n  function run_inline_js() {\n    if ((root.Bokeh !== undefined) || (force === true)) {\n      for (let i = 0; i < inline_js.length; i++) {\n        try {\n          inline_js[i].call(root, root.Bokeh);\n        } catch(e) {\n          if (!reloading) {\n            throw e;\n          }\n        }\n      }\n      // Cache old bokeh versions\n      if (Bokeh != undefined && !reloading) {\n        var NewBokeh = root.Bokeh;\n        if (Bokeh.versions === undefined) {\n          Bokeh.versions = new Map();\n        }\n        if (NewBokeh.version !== Bokeh.version) {\n          Bokeh.versions.set(NewBokeh.version, NewBokeh)\n        }\n        root.Bokeh = Bokeh;\n      }\n    } else if (Date.now() < root._bokeh_timeout) {\n      setTimeout(run_inline_js, 100);\n    } else if (!root._bokeh_failed_load) {\n      console.log(\"Bokeh: BokehJS failed to load within specified timeout.\");\n      root._bokeh_failed_load = true;\n    }\n    root._bokeh_is_initializing = false\n  }\n\n  function load_or_wait() {\n    // Implement a backoff loop that tries to ensure we do not load multiple\n    // versions of Bokeh and its dependencies at the same time.\n    // In recent versions we use the root._bokeh_is_initializing flag\n    // to determine whether there is an ongoing attempt to initialize\n    // bokeh, however for backward compatibility we also try to ensure\n    // that we do not start loading a newer (Panel>=1.0 and Bokeh>3) version\n    // before older versions are fully initialized.\n    if (root._bokeh_is_initializing && Date.now() > root._bokeh_timeout) {\n      // If the timeout and bokeh was not successfully loaded we reset\n      // everything and try loading again\n      root._bokeh_timeout = Date.now() + 5000;\n      root._bokeh_is_initializing = false;\n      root._bokeh_onload_callbacks = undefined;\n      root._bokeh_is_loading = 0\n      console.log(\"Bokeh: BokehJS was loaded multiple times but one version failed to initialize.\");\n      load_or_wait();\n    } else if (root._bokeh_is_initializing || (typeof root._bokeh_is_initializing === \"undefined\" && root._bokeh_onload_callbacks !== undefined)) {\n      setTimeout(load_or_wait, 100);\n    } else {\n      root._bokeh_is_initializing = true\n      root._bokeh_onload_callbacks = []\n      const bokeh_loaded = root.Bokeh != null && (root.Bokeh.version === py_version || (root.Bokeh.versions !== undefined && root.Bokeh.versions.has(py_version)));\n      if (!reloading && !bokeh_loaded) {\n        if (root.Bokeh) {\n          root.Bokeh = undefined;\n        }\n        console.debug(\"Bokeh: BokehJS not loaded, scheduling load and callback at\", now());\n      }\n      load_libs(css_urls, js_urls, js_modules, js_exports, function() {\n        console.debug(\"Bokeh: BokehJS plotting callback run at\", now());\n        run_inline_js();\n      });\n    }\n  }\n  // Give older versions of the autoload script a head-start to ensure\n  // they initialize before we start loading newer version.\n  setTimeout(load_or_wait, 100)\n}(window));",
      "application/vnd.holoviews_load.v0+json": ""
     },
     "metadata": {},
     "output_type": "display_data"
    },
    {
     "data": {
      "application/javascript": "\nif ((window.PyViz === undefined) || (window.PyViz instanceof HTMLElement)) {\n  window.PyViz = {comms: {}, comm_status:{}, kernels:{}, receivers: {}, plot_index: []}\n}\n\n\n    function JupyterCommManager() {\n    }\n\n    JupyterCommManager.prototype.register_target = function(plot_id, comm_id, msg_handler) {\n      if (window.comm_manager || ((window.Jupyter !== undefined) && (Jupyter.notebook.kernel != null))) {\n        var comm_manager = window.comm_manager || Jupyter.notebook.kernel.comm_manager;\n        comm_manager.register_target(comm_id, function(comm) {\n          comm.on_msg(msg_handler);\n        });\n      } else if ((plot_id in window.PyViz.kernels) && (window.PyViz.kernels[plot_id])) {\n        window.PyViz.kernels[plot_id].registerCommTarget(comm_id, function(comm) {\n          comm.onMsg = msg_handler;\n        });\n      } else if (typeof google != 'undefined' && google.colab.kernel != null) {\n        google.colab.kernel.comms.registerTarget(comm_id, (comm) => {\n          var messages = comm.messages[Symbol.asyncIterator]();\n          function processIteratorResult(result) {\n            var message = result.value;\n            console.log(message)\n            var content = {data: message.data, comm_id};\n            var buffers = []\n            for (var buffer of message.buffers || []) {\n              buffers.push(new DataView(buffer))\n            }\n            var metadata = message.metadata || {};\n            var msg = {content, buffers, metadata}\n            msg_handler(msg);\n            return messages.next().then(processIteratorResult);\n          }\n          return messages.next().then(processIteratorResult);\n        })\n      }\n    }\n\n    JupyterCommManager.prototype.get_client_comm = function(plot_id, comm_id, msg_handler) {\n      if (comm_id in window.PyViz.comms) {\n        return window.PyViz.comms[comm_id];\n      } else if (window.comm_manager || ((window.Jupyter !== undefined) && (Jupyter.notebook.kernel != null))) {\n        var comm_manager = window.comm_manager || Jupyter.notebook.kernel.comm_manager;\n        var comm = comm_manager.new_comm(comm_id, {}, {}, {}, comm_id);\n        if (msg_handler) {\n          comm.on_msg(msg_handler);\n        }\n      } else if ((plot_id in window.PyViz.kernels) && (window.PyViz.kernels[plot_id])) {\n        var comm = window.PyViz.kernels[plot_id].connectToComm(comm_id);\n        comm.open();\n        if (msg_handler) {\n          comm.onMsg = msg_handler;\n        }\n      } else if (typeof google != 'undefined' && google.colab.kernel != null) {\n        var comm_promise = google.colab.kernel.comms.open(comm_id)\n        comm_promise.then((comm) => {\n          window.PyViz.comms[comm_id] = comm;\n          if (msg_handler) {\n            var messages = comm.messages[Symbol.asyncIterator]();\n            function processIteratorResult(result) {\n              var message = result.value;\n              var content = {data: message.data};\n              var metadata = message.metadata || {comm_id};\n              var msg = {content, metadata}\n              msg_handler(msg);\n              return messages.next().then(processIteratorResult);\n            }\n            return messages.next().then(processIteratorResult);\n          }\n        }) \n        var sendClosure = (data, metadata, buffers, disposeOnDone) => {\n          return comm_promise.then((comm) => {\n            comm.send(data, metadata, buffers, disposeOnDone);\n          });\n        };\n        var comm = {\n          send: sendClosure\n        };\n      }\n      window.PyViz.comms[comm_id] = comm;\n      return comm;\n    }\n    window.PyViz.comm_manager = new JupyterCommManager();\n    \n\n\nvar JS_MIME_TYPE = 'application/javascript';\nvar HTML_MIME_TYPE = 'text/html';\nvar EXEC_MIME_TYPE = 'application/vnd.holoviews_exec.v0+json';\nvar CLASS_NAME = 'output';\n\n/**\n * Render data to the DOM node\n */\nfunction render(props, node) {\n  var div = document.createElement(\"div\");\n  var script = document.createElement(\"script\");\n  node.appendChild(div);\n  node.appendChild(script);\n}\n\n/**\n * Handle when a new output is added\n */\nfunction handle_add_output(event, handle) {\n  var output_area = handle.output_area;\n  var output = handle.output;\n  if ((output.data == undefined) || (!output.data.hasOwnProperty(EXEC_MIME_TYPE))) {\n    return\n  }\n  var id = output.metadata[EXEC_MIME_TYPE][\"id\"];\n  var toinsert = output_area.element.find(\".\" + CLASS_NAME.split(' ')[0]);\n  if (id !== undefined) {\n    var nchildren = toinsert.length;\n    var html_node = toinsert[nchildren-1].children[0];\n    html_node.innerHTML = output.data[HTML_MIME_TYPE];\n    var scripts = [];\n    var nodelist = html_node.querySelectorAll(\"script\");\n    for (var i in nodelist) {\n      if (nodelist.hasOwnProperty(i)) {\n        scripts.push(nodelist[i])\n      }\n    }\n\n    scripts.forEach( function (oldScript) {\n      var newScript = document.createElement(\"script\");\n      var attrs = [];\n      var nodemap = oldScript.attributes;\n      for (var j in nodemap) {\n        if (nodemap.hasOwnProperty(j)) {\n          attrs.push(nodemap[j])\n        }\n      }\n      attrs.forEach(function(attr) { newScript.setAttribute(attr.name, attr.value) });\n      newScript.appendChild(document.createTextNode(oldScript.innerHTML));\n      oldScript.parentNode.replaceChild(newScript, oldScript);\n    });\n    if (JS_MIME_TYPE in output.data) {\n      toinsert[nchildren-1].children[1].textContent = output.data[JS_MIME_TYPE];\n    }\n    output_area._hv_plot_id = id;\n    if ((window.Bokeh !== undefined) && (id in Bokeh.index)) {\n      window.PyViz.plot_index[id] = Bokeh.index[id];\n    } else {\n      window.PyViz.plot_index[id] = null;\n    }\n  } else if (output.metadata[EXEC_MIME_TYPE][\"server_id\"] !== undefined) {\n    var bk_div = document.createElement(\"div\");\n    bk_div.innerHTML = output.data[HTML_MIME_TYPE];\n    var script_attrs = bk_div.children[0].attributes;\n    for (var i = 0; i < script_attrs.length; i++) {\n      toinsert[toinsert.length - 1].childNodes[1].setAttribute(script_attrs[i].name, script_attrs[i].value);\n    }\n    // store reference to server id on output_area\n    output_area._bokeh_server_id = output.metadata[EXEC_MIME_TYPE][\"server_id\"];\n  }\n}\n\n/**\n * Handle when an output is cleared or removed\n */\nfunction handle_clear_output(event, handle) {\n  var id = handle.cell.output_area._hv_plot_id;\n  var server_id = handle.cell.output_area._bokeh_server_id;\n  if (((id === undefined) || !(id in PyViz.plot_index)) && (server_id !== undefined)) { return; }\n  var comm = window.PyViz.comm_manager.get_client_comm(\"hv-extension-comm\", \"hv-extension-comm\", function () {});\n  if (server_id !== null) {\n    comm.send({event_type: 'server_delete', 'id': server_id});\n    return;\n  } else if (comm !== null) {\n    comm.send({event_type: 'delete', 'id': id});\n  }\n  delete PyViz.plot_index[id];\n  if ((window.Bokeh !== undefined) & (id in window.Bokeh.index)) {\n    var doc = window.Bokeh.index[id].model.document\n    doc.clear();\n    const i = window.Bokeh.documents.indexOf(doc);\n    if (i > -1) {\n      window.Bokeh.documents.splice(i, 1);\n    }\n  }\n}\n\n/**\n * Handle kernel restart event\n */\nfunction handle_kernel_cleanup(event, handle) {\n  delete PyViz.comms[\"hv-extension-comm\"];\n  window.PyViz.plot_index = {}\n}\n\n/**\n * Handle update_display_data messages\n */\nfunction handle_update_output(event, handle) {\n  handle_clear_output(event, {cell: {output_area: handle.output_area}})\n  handle_add_output(event, handle)\n}\n\nfunction register_renderer(events, OutputArea) {\n  function append_mime(data, metadata, element) {\n    // create a DOM node to render to\n    var toinsert = this.create_output_subarea(\n    metadata,\n    CLASS_NAME,\n    EXEC_MIME_TYPE\n    );\n    this.keyboard_manager.register_events(toinsert);\n    // Render to node\n    var props = {data: data, metadata: metadata[EXEC_MIME_TYPE]};\n    render(props, toinsert[0]);\n    element.append(toinsert);\n    return toinsert\n  }\n\n  events.on('output_added.OutputArea', handle_add_output);\n  events.on('output_updated.OutputArea', handle_update_output);\n  events.on('clear_output.CodeCell', handle_clear_output);\n  events.on('delete.Cell', handle_clear_output);\n  events.on('kernel_ready.Kernel', handle_kernel_cleanup);\n\n  OutputArea.prototype.register_mime_type(EXEC_MIME_TYPE, append_mime, {\n    safe: true,\n    index: 0\n  });\n}\n\nif (window.Jupyter !== undefined) {\n  try {\n    var events = require('base/js/events');\n    var OutputArea = require('notebook/js/outputarea').OutputArea;\n    if (OutputArea.prototype.mime_types().indexOf(EXEC_MIME_TYPE) == -1) {\n      register_renderer(events, OutputArea);\n    }\n  } catch(err) {\n  }\n}\n",
      "application/vnd.holoviews_load.v0+json": ""
     },
     "metadata": {},
     "output_type": "display_data"
    }
   ],
   "source": [
    "data = Databank()\n",
    "roe = data['常續ROE'].to_factor().to_rank()\n",
    "pbr = (-1*data['股價淨值比']).to_factor().to_rank()\n",
    "mtm = (data['收盤價']*data['調整係數']).pct_change(60, fill_method=None).to_factor().to_rank()\n",
    "\n",
    "roe_strategy = backtesting(roe.largest(10), 'QR', report=True)\n",
    "pbr_strategy = backtesting(pbr.largest(10), 'QR', report=True)\n",
    "mtm_strategy = backtesting(mtm.largest(10), 'QR', report=True)\n",
    "# combined_strategy = backtesting((roe+pbr+mtm).largest(10), 'QR', report=True)"
   ]
  },
  {
   "cell_type": "code",
   "execution_count": 22,
   "metadata": {},
   "outputs": [
    {
     "data": {
      "text/html": [
       "<div>\n",
       "<style scoped>\n",
       "    .dataframe tbody tr th:only-of-type {\n",
       "        vertical-align: middle;\n",
       "    }\n",
       "\n",
       "    .dataframe tbody tr th {\n",
       "        vertical-align: top;\n",
       "    }\n",
       "\n",
       "    .dataframe thead th {\n",
       "        text-align: right;\n",
       "    }\n",
       "</style>\n",
       "<table border=\"1\" class=\"dataframe\">\n",
       "  <thead>\n",
       "    <tr style=\"text-align: right;\">\n",
       "      <th></th>\n",
       "      <th>Strategy</th>\n",
       "      <th>Benchmark: TRTEJ</th>\n",
       "      <th>Excess Return</th>\n",
       "      <th>roe</th>\n",
       "      <th>pbr</th>\n",
       "      <th>mtm</th>\n",
       "    </tr>\n",
       "  </thead>\n",
       "  <tbody>\n",
       "    <tr>\n",
       "      <th>CAGR(%)</th>\n",
       "      <td>11.84</td>\n",
       "      <td>9.61</td>\n",
       "      <td>1.44</td>\n",
       "      <td>13.33</td>\n",
       "      <td>8.99</td>\n",
       "      <td>12.33</td>\n",
       "    </tr>\n",
       "    <tr>\n",
       "      <th>Sharpe</th>\n",
       "      <td>0.70</td>\n",
       "      <td>0.60</td>\n",
       "      <td>0.18</td>\n",
       "      <td>0.71</td>\n",
       "      <td>0.57</td>\n",
       "      <td>0.64</td>\n",
       "    </tr>\n",
       "    <tr>\n",
       "      <th>Calmar</th>\n",
       "      <td>0.17</td>\n",
       "      <td>0.17</td>\n",
       "      <td>0.04</td>\n",
       "      <td>0.21</td>\n",
       "      <td>0.12</td>\n",
       "      <td>0.18</td>\n",
       "    </tr>\n",
       "    <tr>\n",
       "      <th>MDD(%)</th>\n",
       "      <td>-69.24</td>\n",
       "      <td>-56.11</td>\n",
       "      <td>-40.68</td>\n",
       "      <td>-63.81</td>\n",
       "      <td>-77.89</td>\n",
       "      <td>-69.65</td>\n",
       "    </tr>\n",
       "    <tr>\n",
       "      <th>Simple MDD(%)</th>\n",
       "      <td>-57.65</td>\n",
       "      <td>-47.09</td>\n",
       "      <td>-36.33</td>\n",
       "      <td>-49.02</td>\n",
       "      <td>-73.98</td>\n",
       "      <td>-55.24</td>\n",
       "    </tr>\n",
       "    <tr>\n",
       "      <th>Win Rate(%)</th>\n",
       "      <td>57.21</td>\n",
       "      <td>54.79</td>\n",
       "      <td>52.51</td>\n",
       "      <td>55.41</td>\n",
       "      <td>53.85</td>\n",
       "      <td>55.01</td>\n",
       "    </tr>\n",
       "    <tr>\n",
       "      <th>Weekly Win(%)</th>\n",
       "      <td>58.06</td>\n",
       "      <td>56.36</td>\n",
       "      <td>52.31</td>\n",
       "      <td>56.08</td>\n",
       "      <td>53.06</td>\n",
       "      <td>56.27</td>\n",
       "    </tr>\n",
       "    <tr>\n",
       "      <th>Monthly Win(%)</th>\n",
       "      <td>57.79</td>\n",
       "      <td>62.70</td>\n",
       "      <td>47.13</td>\n",
       "      <td>60.25</td>\n",
       "      <td>54.92</td>\n",
       "      <td>56.56</td>\n",
       "    </tr>\n",
       "    <tr>\n",
       "      <th>Yearly Win(%)</th>\n",
       "      <td>66.67</td>\n",
       "      <td>71.43</td>\n",
       "      <td>57.14</td>\n",
       "      <td>71.43</td>\n",
       "      <td>66.67</td>\n",
       "      <td>66.67</td>\n",
       "    </tr>\n",
       "    <tr>\n",
       "      <th>Win/Loss Ratio</th>\n",
       "      <td>0.83</td>\n",
       "      <td>0.92</td>\n",
       "      <td>0.93</td>\n",
       "      <td>0.88</td>\n",
       "      <td>0.93</td>\n",
       "      <td>0.88</td>\n",
       "    </tr>\n",
       "    <tr>\n",
       "      <th>Expected Return(bps)</th>\n",
       "      <td>4.66</td>\n",
       "      <td>3.82</td>\n",
       "      <td>0.60</td>\n",
       "      <td>5.22</td>\n",
       "      <td>3.59</td>\n",
       "      <td>4.85</td>\n",
       "    </tr>\n",
       "    <tr>\n",
       "      <th>Sample Size</th>\n",
       "      <td>4997.00</td>\n",
       "      <td>4997.00</td>\n",
       "      <td>4997.00</td>\n",
       "      <td>4997.00</td>\n",
       "      <td>4997.00</td>\n",
       "      <td>4997.00</td>\n",
       "    </tr>\n",
       "    <tr>\n",
       "      <th>t</th>\n",
       "      <td>3.19</td>\n",
       "      <td>2.74</td>\n",
       "      <td>0.83</td>\n",
       "      <td>3.24</td>\n",
       "      <td>2.58</td>\n",
       "      <td>2.90</td>\n",
       "    </tr>\n",
       "  </tbody>\n",
       "</table>\n",
       "</div>"
      ],
      "text/plain": [
       "                      Strategy  Benchmark: TRTEJ  Excess Return      roe  \\\n",
       "CAGR(%)                  11.84              9.61           1.44    13.33   \n",
       "Sharpe                    0.70              0.60           0.18     0.71   \n",
       "Calmar                    0.17              0.17           0.04     0.21   \n",
       "MDD(%)                  -69.24            -56.11         -40.68   -63.81   \n",
       "Simple MDD(%)           -57.65            -47.09         -36.33   -49.02   \n",
       "Win Rate(%)              57.21             54.79          52.51    55.41   \n",
       "Weekly Win(%)            58.06             56.36          52.31    56.08   \n",
       "Monthly Win(%)           57.79             62.70          47.13    60.25   \n",
       "Yearly Win(%)            66.67             71.43          57.14    71.43   \n",
       "Win/Loss Ratio            0.83              0.92           0.93     0.88   \n",
       "Expected Return(bps)      4.66              3.82           0.60     5.22   \n",
       "Sample Size            4997.00           4997.00        4997.00  4997.00   \n",
       "t                         3.19              2.74           0.83     3.24   \n",
       "\n",
       "                          pbr      mtm  \n",
       "CAGR(%)                  8.99    12.33  \n",
       "Sharpe                   0.57     0.64  \n",
       "Calmar                   0.12     0.18  \n",
       "MDD(%)                 -77.89   -69.65  \n",
       "Simple MDD(%)          -73.98   -55.24  \n",
       "Win Rate(%)             53.85    55.01  \n",
       "Weekly Win(%)           53.06    56.27  \n",
       "Monthly Win(%)          54.92    56.56  \n",
       "Yearly Win(%)           66.67    66.67  \n",
       "Win/Loss Ratio           0.93     0.88  \n",
       "Expected Return(bps)     3.59     4.85  \n",
       "Sample Size           4997.00  4997.00  \n",
       "t                        2.58     2.90  "
      ]
     },
     "metadata": {},
     "output_type": "display_data"
    },
    {
     "data": {
      "text/html": [
       "<script type=\"esms-options\">{\"shimMode\": true}</script><style>*[data-root-id],\n",
       "*[data-root-id] > * {\n",
       "  box-sizing: border-box;\n",
       "  font-family: var(--jp-ui-font-family);\n",
       "  font-size: var(--jp-ui-font-size1);\n",
       "  color: var(--vscode-editor-foreground, var(--jp-ui-font-color1));\n",
       "}\n",
       "\n",
       "/* Override VSCode background color */\n",
       ".cell-output-ipywidget-background:has(\n",
       "    > .cell-output-ipywidget-background > .lm-Widget > *[data-root-id]\n",
       "  ),\n",
       ".cell-output-ipywidget-background:has(> .lm-Widget > *[data-root-id]) {\n",
       "  background-color: transparent !important;\n",
       "}\n",
       "</style>"
      ]
     },
     "metadata": {},
     "output_type": "display_data"
    },
    {
     "data": {
      "application/javascript": "(function(root) {\n  function now() {\n    return new Date();\n  }\n\n  const force = true;\n  const py_version = '3.6.2'.replace('rc', '-rc.').replace('.dev', '-dev.');\n  const reloading = false;\n  const Bokeh = root.Bokeh;\n\n  // Set a timeout for this load but only if we are not already initializing\n  if (typeof (root._bokeh_timeout) === \"undefined\" || (force || !root._bokeh_is_initializing)) {\n    root._bokeh_timeout = Date.now() + 5000;\n    root._bokeh_failed_load = false;\n  }\n\n  function run_callbacks() {\n    try {\n      root._bokeh_onload_callbacks.forEach(function(callback) {\n        if (callback != null)\n          callback();\n      });\n    } finally {\n      delete root._bokeh_onload_callbacks;\n    }\n    console.debug(\"Bokeh: all callbacks have finished\");\n  }\n\n  function load_libs(css_urls, js_urls, js_modules, js_exports, callback) {\n    if (css_urls == null) css_urls = [];\n    if (js_urls == null) js_urls = [];\n    if (js_modules == null) js_modules = [];\n    if (js_exports == null) js_exports = {};\n\n    root._bokeh_onload_callbacks.push(callback);\n\n    if (root._bokeh_is_loading > 0) {\n      // Don't load bokeh if it is still initializing\n      console.debug(\"Bokeh: BokehJS is being loaded, scheduling callback at\", now());\n      return null;\n    } else if (js_urls.length === 0 && js_modules.length === 0 && Object.keys(js_exports).length === 0) {\n      // There is nothing to load\n      run_callbacks();\n      return null;\n    }\n\n    function on_load() {\n      root._bokeh_is_loading--;\n      if (root._bokeh_is_loading === 0) {\n        console.debug(\"Bokeh: all BokehJS libraries/stylesheets loaded\");\n        run_callbacks()\n      }\n    }\n    window._bokeh_on_load = on_load\n\n    function on_error(e) {\n      const src_el = e.srcElement\n      console.error(\"failed to load \" + (src_el.href || src_el.src));\n    }\n\n    const skip = [];\n    if (window.requirejs) {\n      window.requirejs.config({'packages': {}, 'paths': {'plotly': 'https://cdn.plot.ly/plotly-2.31.1.min'}, 'shim': {}});\n      require([\"plotly\"], function(Plotly) {\n        window.Plotly = Plotly\n        on_load()\n      })\n      root._bokeh_is_loading = css_urls.length + 1;\n    } else {\n      root._bokeh_is_loading = css_urls.length + js_urls.length + js_modules.length + Object.keys(js_exports).length;\n    }\n\n    const existing_stylesheets = []\n    const links = document.getElementsByTagName('link')\n    for (let i = 0; i < links.length; i++) {\n      const link = links[i]\n      if (link.href != null) {\n        existing_stylesheets.push(link.href)\n      }\n    }\n    for (let i = 0; i < css_urls.length; i++) {\n      const url = css_urls[i];\n      const escaped = encodeURI(url)\n      if (existing_stylesheets.indexOf(escaped) !== -1) {\n        on_load()\n        continue;\n      }\n      const element = document.createElement(\"link\");\n      element.onload = on_load;\n      element.onerror = on_error;\n      element.rel = \"stylesheet\";\n      element.type = \"text/css\";\n      element.href = url;\n      console.debug(\"Bokeh: injecting link tag for BokehJS stylesheet: \", url);\n      document.body.appendChild(element);\n    }    if (((window.Plotly !== undefined) && (!(window.Plotly instanceof HTMLElement))) || window.requirejs) {\n      var urls = ['https://cdn.holoviz.org/panel/1.5.4/dist/bundled/plotlyplot/plotly-2.31.1.min.js'];\n      for (var i = 0; i < urls.length; i++) {\n        skip.push(encodeURI(urls[i]))\n      }\n    }    var existing_scripts = []\n    const scripts = document.getElementsByTagName('script')\n    for (let i = 0; i < scripts.length; i++) {\n      var script = scripts[i]\n      if (script.src != null) {\n        existing_scripts.push(script.src)\n      }\n    }\n    for (let i = 0; i < js_urls.length; i++) {\n      const url = js_urls[i];\n      const escaped = encodeURI(url)\n      if (skip.indexOf(escaped) !== -1 || existing_scripts.indexOf(escaped) !== -1) {\n        if (!window.requirejs) {\n          on_load();\n        }\n        continue;\n      }\n      const element = document.createElement('script');\n      element.onload = on_load;\n      element.onerror = on_error;\n      element.async = false;\n      element.src = url;\n      console.debug(\"Bokeh: injecting script tag for BokehJS library: \", url);\n      document.head.appendChild(element);\n    }\n    for (let i = 0; i < js_modules.length; i++) {\n      const url = js_modules[i];\n      const escaped = encodeURI(url)\n      if (skip.indexOf(escaped) !== -1 || existing_scripts.indexOf(escaped) !== -1) {\n        if (!window.requirejs) {\n          on_load();\n        }\n        continue;\n      }\n      var element = document.createElement('script');\n      element.onload = on_load;\n      element.onerror = on_error;\n      element.async = false;\n      element.src = url;\n      element.type = \"module\";\n      console.debug(\"Bokeh: injecting script tag for BokehJS library: \", url);\n      document.head.appendChild(element);\n    }\n    for (const name in js_exports) {\n      const url = js_exports[name];\n      const escaped = encodeURI(url)\n      if (skip.indexOf(escaped) >= 0 || root[name] != null) {\n        if (!window.requirejs) {\n          on_load();\n        }\n        continue;\n      }\n      var element = document.createElement('script');\n      element.onerror = on_error;\n      element.async = false;\n      element.type = \"module\";\n      console.debug(\"Bokeh: injecting script tag for BokehJS library: \", url);\n      element.textContent = `\n      import ${name} from \"${url}\"\n      window.${name} = ${name}\n      window._bokeh_on_load()\n      `\n      document.head.appendChild(element);\n    }\n    if (!js_urls.length && !js_modules.length) {\n      on_load()\n    }\n  };\n\n  function inject_raw_css(css) {\n    const element = document.createElement(\"style\");\n    element.appendChild(document.createTextNode(css));\n    document.body.appendChild(element);\n  }\n\n  const js_urls = [\"https://cdn.holoviz.org/panel/1.5.4/dist/bundled/reactiveesm/es-module-shims@^1.10.0/dist/es-module-shims.min.js\", \"https://cdn.holoviz.org/panel/1.5.4/dist/bundled/jquery/jquery.slim.min.js\", \"https://cdn.holoviz.org/panel/1.5.4/dist/bundled/plotlyplot/plotly-2.31.1.min.js\", \"https://cdn.bokeh.org/bokeh/release/bokeh-3.6.2.min.js\", \"https://cdn.bokeh.org/bokeh/release/bokeh-gl-3.6.2.min.js\", \"https://cdn.bokeh.org/bokeh/release/bokeh-widgets-3.6.2.min.js\", \"https://cdn.bokeh.org/bokeh/release/bokeh-tables-3.6.2.min.js\", \"https://cdn.holoviz.org/panel/1.5.4/dist/panel.min.js\"];\n  const js_modules = [];\n  const js_exports = {};\n  const css_urls = [\"https://cdn.holoviz.org/panel/1.5.4/dist/bundled/plotlyplot/mapbox-gl-js/v3.0.1/mapbox-gl.css?v=1.5.4\"];\n  const inline_js = [    function(Bokeh) {\n      Bokeh.set_log_level(\"info\");\n    },\nfunction(Bokeh) {} // ensure no trailing comma for IE\n  ];\n\n  function run_inline_js() {\n    if ((root.Bokeh !== undefined) || (force === true)) {\n      for (let i = 0; i < inline_js.length; i++) {\n        try {\n          inline_js[i].call(root, root.Bokeh);\n        } catch(e) {\n          if (!reloading) {\n            throw e;\n          }\n        }\n      }\n      // Cache old bokeh versions\n      if (Bokeh != undefined && !reloading) {\n        var NewBokeh = root.Bokeh;\n        if (Bokeh.versions === undefined) {\n          Bokeh.versions = new Map();\n        }\n        if (NewBokeh.version !== Bokeh.version) {\n          Bokeh.versions.set(NewBokeh.version, NewBokeh)\n        }\n        root.Bokeh = Bokeh;\n      }\n    } else if (Date.now() < root._bokeh_timeout) {\n      setTimeout(run_inline_js, 100);\n    } else if (!root._bokeh_failed_load) {\n      console.log(\"Bokeh: BokehJS failed to load within specified timeout.\");\n      root._bokeh_failed_load = true;\n    }\n    root._bokeh_is_initializing = false\n  }\n\n  function load_or_wait() {\n    // Implement a backoff loop that tries to ensure we do not load multiple\n    // versions of Bokeh and its dependencies at the same time.\n    // In recent versions we use the root._bokeh_is_initializing flag\n    // to determine whether there is an ongoing attempt to initialize\n    // bokeh, however for backward compatibility we also try to ensure\n    // that we do not start loading a newer (Panel>=1.0 and Bokeh>3) version\n    // before older versions are fully initialized.\n    if (root._bokeh_is_initializing && Date.now() > root._bokeh_timeout) {\n      // If the timeout and bokeh was not successfully loaded we reset\n      // everything and try loading again\n      root._bokeh_timeout = Date.now() + 5000;\n      root._bokeh_is_initializing = false;\n      root._bokeh_onload_callbacks = undefined;\n      root._bokeh_is_loading = 0\n      console.log(\"Bokeh: BokehJS was loaded multiple times but one version failed to initialize.\");\n      load_or_wait();\n    } else if (root._bokeh_is_initializing || (typeof root._bokeh_is_initializing === \"undefined\" && root._bokeh_onload_callbacks !== undefined)) {\n      setTimeout(load_or_wait, 100);\n    } else {\n      root._bokeh_is_initializing = true\n      root._bokeh_onload_callbacks = []\n      const bokeh_loaded = root.Bokeh != null && (root.Bokeh.version === py_version || (root.Bokeh.versions !== undefined && root.Bokeh.versions.has(py_version)));\n      if (!reloading && !bokeh_loaded) {\n        if (root.Bokeh) {\n          root.Bokeh = undefined;\n        }\n        console.debug(\"Bokeh: BokehJS not loaded, scheduling load and callback at\", now());\n      }\n      load_libs(css_urls, js_urls, js_modules, js_exports, function() {\n        console.debug(\"Bokeh: BokehJS plotting callback run at\", now());\n        run_inline_js();\n      });\n    }\n  }\n  // Give older versions of the autoload script a head-start to ensure\n  // they initialize before we start loading newer version.\n  setTimeout(load_or_wait, 100)\n}(window));",
      "application/vnd.holoviews_load.v0+json": ""
     },
     "metadata": {},
     "output_type": "display_data"
    },
    {
     "data": {
      "application/javascript": "\nif ((window.PyViz === undefined) || (window.PyViz instanceof HTMLElement)) {\n  window.PyViz = {comms: {}, comm_status:{}, kernels:{}, receivers: {}, plot_index: []}\n}\n\n\n    function JupyterCommManager() {\n    }\n\n    JupyterCommManager.prototype.register_target = function(plot_id, comm_id, msg_handler) {\n      if (window.comm_manager || ((window.Jupyter !== undefined) && (Jupyter.notebook.kernel != null))) {\n        var comm_manager = window.comm_manager || Jupyter.notebook.kernel.comm_manager;\n        comm_manager.register_target(comm_id, function(comm) {\n          comm.on_msg(msg_handler);\n        });\n      } else if ((plot_id in window.PyViz.kernels) && (window.PyViz.kernels[plot_id])) {\n        window.PyViz.kernels[plot_id].registerCommTarget(comm_id, function(comm) {\n          comm.onMsg = msg_handler;\n        });\n      } else if (typeof google != 'undefined' && google.colab.kernel != null) {\n        google.colab.kernel.comms.registerTarget(comm_id, (comm) => {\n          var messages = comm.messages[Symbol.asyncIterator]();\n          function processIteratorResult(result) {\n            var message = result.value;\n            console.log(message)\n            var content = {data: message.data, comm_id};\n            var buffers = []\n            for (var buffer of message.buffers || []) {\n              buffers.push(new DataView(buffer))\n            }\n            var metadata = message.metadata || {};\n            var msg = {content, buffers, metadata}\n            msg_handler(msg);\n            return messages.next().then(processIteratorResult);\n          }\n          return messages.next().then(processIteratorResult);\n        })\n      }\n    }\n\n    JupyterCommManager.prototype.get_client_comm = function(plot_id, comm_id, msg_handler) {\n      if (comm_id in window.PyViz.comms) {\n        return window.PyViz.comms[comm_id];\n      } else if (window.comm_manager || ((window.Jupyter !== undefined) && (Jupyter.notebook.kernel != null))) {\n        var comm_manager = window.comm_manager || Jupyter.notebook.kernel.comm_manager;\n        var comm = comm_manager.new_comm(comm_id, {}, {}, {}, comm_id);\n        if (msg_handler) {\n          comm.on_msg(msg_handler);\n        }\n      } else if ((plot_id in window.PyViz.kernels) && (window.PyViz.kernels[plot_id])) {\n        var comm = window.PyViz.kernels[plot_id].connectToComm(comm_id);\n        comm.open();\n        if (msg_handler) {\n          comm.onMsg = msg_handler;\n        }\n      } else if (typeof google != 'undefined' && google.colab.kernel != null) {\n        var comm_promise = google.colab.kernel.comms.open(comm_id)\n        comm_promise.then((comm) => {\n          window.PyViz.comms[comm_id] = comm;\n          if (msg_handler) {\n            var messages = comm.messages[Symbol.asyncIterator]();\n            function processIteratorResult(result) {\n              var message = result.value;\n              var content = {data: message.data};\n              var metadata = message.metadata || {comm_id};\n              var msg = {content, metadata}\n              msg_handler(msg);\n              return messages.next().then(processIteratorResult);\n            }\n            return messages.next().then(processIteratorResult);\n          }\n        }) \n        var sendClosure = (data, metadata, buffers, disposeOnDone) => {\n          return comm_promise.then((comm) => {\n            comm.send(data, metadata, buffers, disposeOnDone);\n          });\n        };\n        var comm = {\n          send: sendClosure\n        };\n      }\n      window.PyViz.comms[comm_id] = comm;\n      return comm;\n    }\n    window.PyViz.comm_manager = new JupyterCommManager();\n    \n\n\nvar JS_MIME_TYPE = 'application/javascript';\nvar HTML_MIME_TYPE = 'text/html';\nvar EXEC_MIME_TYPE = 'application/vnd.holoviews_exec.v0+json';\nvar CLASS_NAME = 'output';\n\n/**\n * Render data to the DOM node\n */\nfunction render(props, node) {\n  var div = document.createElement(\"div\");\n  var script = document.createElement(\"script\");\n  node.appendChild(div);\n  node.appendChild(script);\n}\n\n/**\n * Handle when a new output is added\n */\nfunction handle_add_output(event, handle) {\n  var output_area = handle.output_area;\n  var output = handle.output;\n  if ((output.data == undefined) || (!output.data.hasOwnProperty(EXEC_MIME_TYPE))) {\n    return\n  }\n  var id = output.metadata[EXEC_MIME_TYPE][\"id\"];\n  var toinsert = output_area.element.find(\".\" + CLASS_NAME.split(' ')[0]);\n  if (id !== undefined) {\n    var nchildren = toinsert.length;\n    var html_node = toinsert[nchildren-1].children[0];\n    html_node.innerHTML = output.data[HTML_MIME_TYPE];\n    var scripts = [];\n    var nodelist = html_node.querySelectorAll(\"script\");\n    for (var i in nodelist) {\n      if (nodelist.hasOwnProperty(i)) {\n        scripts.push(nodelist[i])\n      }\n    }\n\n    scripts.forEach( function (oldScript) {\n      var newScript = document.createElement(\"script\");\n      var attrs = [];\n      var nodemap = oldScript.attributes;\n      for (var j in nodemap) {\n        if (nodemap.hasOwnProperty(j)) {\n          attrs.push(nodemap[j])\n        }\n      }\n      attrs.forEach(function(attr) { newScript.setAttribute(attr.name, attr.value) });\n      newScript.appendChild(document.createTextNode(oldScript.innerHTML));\n      oldScript.parentNode.replaceChild(newScript, oldScript);\n    });\n    if (JS_MIME_TYPE in output.data) {\n      toinsert[nchildren-1].children[1].textContent = output.data[JS_MIME_TYPE];\n    }\n    output_area._hv_plot_id = id;\n    if ((window.Bokeh !== undefined) && (id in Bokeh.index)) {\n      window.PyViz.plot_index[id] = Bokeh.index[id];\n    } else {\n      window.PyViz.plot_index[id] = null;\n    }\n  } else if (output.metadata[EXEC_MIME_TYPE][\"server_id\"] !== undefined) {\n    var bk_div = document.createElement(\"div\");\n    bk_div.innerHTML = output.data[HTML_MIME_TYPE];\n    var script_attrs = bk_div.children[0].attributes;\n    for (var i = 0; i < script_attrs.length; i++) {\n      toinsert[toinsert.length - 1].childNodes[1].setAttribute(script_attrs[i].name, script_attrs[i].value);\n    }\n    // store reference to server id on output_area\n    output_area._bokeh_server_id = output.metadata[EXEC_MIME_TYPE][\"server_id\"];\n  }\n}\n\n/**\n * Handle when an output is cleared or removed\n */\nfunction handle_clear_output(event, handle) {\n  var id = handle.cell.output_area._hv_plot_id;\n  var server_id = handle.cell.output_area._bokeh_server_id;\n  if (((id === undefined) || !(id in PyViz.plot_index)) && (server_id !== undefined)) { return; }\n  var comm = window.PyViz.comm_manager.get_client_comm(\"hv-extension-comm\", \"hv-extension-comm\", function () {});\n  if (server_id !== null) {\n    comm.send({event_type: 'server_delete', 'id': server_id});\n    return;\n  } else if (comm !== null) {\n    comm.send({event_type: 'delete', 'id': id});\n  }\n  delete PyViz.plot_index[id];\n  if ((window.Bokeh !== undefined) & (id in window.Bokeh.index)) {\n    var doc = window.Bokeh.index[id].model.document\n    doc.clear();\n    const i = window.Bokeh.documents.indexOf(doc);\n    if (i > -1) {\n      window.Bokeh.documents.splice(i, 1);\n    }\n  }\n}\n\n/**\n * Handle kernel restart event\n */\nfunction handle_kernel_cleanup(event, handle) {\n  delete PyViz.comms[\"hv-extension-comm\"];\n  window.PyViz.plot_index = {}\n}\n\n/**\n * Handle update_display_data messages\n */\nfunction handle_update_output(event, handle) {\n  handle_clear_output(event, {cell: {output_area: handle.output_area}})\n  handle_add_output(event, handle)\n}\n\nfunction register_renderer(events, OutputArea) {\n  function append_mime(data, metadata, element) {\n    // create a DOM node to render to\n    var toinsert = this.create_output_subarea(\n    metadata,\n    CLASS_NAME,\n    EXEC_MIME_TYPE\n    );\n    this.keyboard_manager.register_events(toinsert);\n    // Render to node\n    var props = {data: data, metadata: metadata[EXEC_MIME_TYPE]};\n    render(props, toinsert[0]);\n    element.append(toinsert);\n    return toinsert\n  }\n\n  events.on('output_added.OutputArea', handle_add_output);\n  events.on('output_updated.OutputArea', handle_update_output);\n  events.on('clear_output.CodeCell', handle_clear_output);\n  events.on('delete.Cell', handle_clear_output);\n  events.on('kernel_ready.Kernel', handle_kernel_cleanup);\n\n  OutputArea.prototype.register_mime_type(EXEC_MIME_TYPE, append_mime, {\n    safe: true,\n    index: 0\n  });\n}\n\nif (window.Jupyter !== undefined) {\n  try {\n    var events = require('base/js/events');\n    var OutputArea = require('notebook/js/outputarea').OutputArea;\n    if (OutputArea.prototype.mime_types().indexOf(EXEC_MIME_TYPE) == -1) {\n      register_renderer(events, OutputArea);\n    }\n  } catch(err) {\n  }\n}\n",
      "application/vnd.holoviews_load.v0+json": ""
     },
     "metadata": {},
     "output_type": "display_data"
    },
    {
     "data": {
      "application/vnd.holoviews_exec.v0+json": "",
      "text/html": [
       "<div id='113fd567-8445-481c-be99-4b3cff0927cc'>\n",
       "  <div id=\"d91cc295-5a52-4879-a5ab-8c86db6a376d\" data-root-id=\"113fd567-8445-481c-be99-4b3cff0927cc\" style=\"display: contents;\"></div>\n",
       "</div>\n",
       "<script type=\"application/javascript\">(function(root) {\n",
       "  var docs_json = {\"6297d04b-6598-4de7-b129-8b6aa5305c33\":{\"version\":\"3.6.2\",\"title\":\"Bokeh Application\",\"roots\":[{\"type\":\"object\",\"name\":\"panel.models.browser.BrowserInfo\",\"id\":\"113fd567-8445-481c-be99-4b3cff0927cc\"},{\"type\":\"object\",\"name\":\"panel.models.comm_manager.CommManager\",\"id\":\"44ee167b-e58a-4ef7-8223-625a60a6d8a2\",\"attributes\":{\"plot_id\":\"113fd567-8445-481c-be99-4b3cff0927cc\",\"comm_id\":\"8958d0a2023748ed97f5b7630a552454\",\"client_comm_id\":\"780a56b9a2b24fa4987711b56d84a993\"}}],\"defs\":[{\"type\":\"model\",\"name\":\"ReactiveHTML1\"},{\"type\":\"model\",\"name\":\"FlexBox1\",\"properties\":[{\"name\":\"align_content\",\"kind\":\"Any\",\"default\":\"flex-start\"},{\"name\":\"align_items\",\"kind\":\"Any\",\"default\":\"flex-start\"},{\"name\":\"flex_direction\",\"kind\":\"Any\",\"default\":\"row\"},{\"name\":\"flex_wrap\",\"kind\":\"Any\",\"default\":\"wrap\"},{\"name\":\"gap\",\"kind\":\"Any\",\"default\":\"\"},{\"name\":\"justify_content\",\"kind\":\"Any\",\"default\":\"flex-start\"}]},{\"type\":\"model\",\"name\":\"FloatPanel1\",\"properties\":[{\"name\":\"config\",\"kind\":\"Any\",\"default\":{\"type\":\"map\"}},{\"name\":\"contained\",\"kind\":\"Any\",\"default\":true},{\"name\":\"position\",\"kind\":\"Any\",\"default\":\"right-top\"},{\"name\":\"offsetx\",\"kind\":\"Any\",\"default\":null},{\"name\":\"offsety\",\"kind\":\"Any\",\"default\":null},{\"name\":\"theme\",\"kind\":\"Any\",\"default\":\"primary\"},{\"name\":\"status\",\"kind\":\"Any\",\"default\":\"normalized\"}]},{\"type\":\"model\",\"name\":\"GridStack1\",\"properties\":[{\"name\":\"mode\",\"kind\":\"Any\",\"default\":\"warn\"},{\"name\":\"ncols\",\"kind\":\"Any\",\"default\":null},{\"name\":\"nrows\",\"kind\":\"Any\",\"default\":null},{\"name\":\"allow_resize\",\"kind\":\"Any\",\"default\":true},{\"name\":\"allow_drag\",\"kind\":\"Any\",\"default\":true},{\"name\":\"state\",\"kind\":\"Any\",\"default\":[]}]},{\"type\":\"model\",\"name\":\"drag1\",\"properties\":[{\"name\":\"slider_width\",\"kind\":\"Any\",\"default\":5},{\"name\":\"slider_color\",\"kind\":\"Any\",\"default\":\"black\"},{\"name\":\"value\",\"kind\":\"Any\",\"default\":50}]},{\"type\":\"model\",\"name\":\"click1\",\"properties\":[{\"name\":\"terminal_output\",\"kind\":\"Any\",\"default\":\"\"},{\"name\":\"debug_name\",\"kind\":\"Any\",\"default\":\"\"},{\"name\":\"clears\",\"kind\":\"Any\",\"default\":0}]},{\"type\":\"model\",\"name\":\"FastWrapper1\",\"properties\":[{\"name\":\"object\",\"kind\":\"Any\",\"default\":null},{\"name\":\"style\",\"kind\":\"Any\",\"default\":null}]},{\"type\":\"model\",\"name\":\"NotificationAreaBase1\",\"properties\":[{\"name\":\"js_events\",\"kind\":\"Any\",\"default\":{\"type\":\"map\"}},{\"name\":\"position\",\"kind\":\"Any\",\"default\":\"bottom-right\"},{\"name\":\"_clear\",\"kind\":\"Any\",\"default\":0}]},{\"type\":\"model\",\"name\":\"NotificationArea1\",\"properties\":[{\"name\":\"js_events\",\"kind\":\"Any\",\"default\":{\"type\":\"map\"}},{\"name\":\"notifications\",\"kind\":\"Any\",\"default\":[]},{\"name\":\"position\",\"kind\":\"Any\",\"default\":\"bottom-right\"},{\"name\":\"_clear\",\"kind\":\"Any\",\"default\":0},{\"name\":\"types\",\"kind\":\"Any\",\"default\":[{\"type\":\"map\",\"entries\":[[\"type\",\"warning\"],[\"background\",\"#ffc107\"],[\"icon\",{\"type\":\"map\",\"entries\":[[\"className\",\"fas fa-exclamation-triangle\"],[\"tagName\",\"i\"],[\"color\",\"white\"]]}]]},{\"type\":\"map\",\"entries\":[[\"type\",\"info\"],[\"background\",\"#007bff\"],[\"icon\",{\"type\":\"map\",\"entries\":[[\"className\",\"fas fa-info-circle\"],[\"tagName\",\"i\"],[\"color\",\"white\"]]}]]}]}]},{\"type\":\"model\",\"name\":\"Notification\",\"properties\":[{\"name\":\"background\",\"kind\":\"Any\",\"default\":null},{\"name\":\"duration\",\"kind\":\"Any\",\"default\":3000},{\"name\":\"icon\",\"kind\":\"Any\",\"default\":null},{\"name\":\"message\",\"kind\":\"Any\",\"default\":\"\"},{\"name\":\"notification_type\",\"kind\":\"Any\",\"default\":null},{\"name\":\"_destroyed\",\"kind\":\"Any\",\"default\":false}]},{\"type\":\"model\",\"name\":\"TemplateActions1\",\"properties\":[{\"name\":\"open_modal\",\"kind\":\"Any\",\"default\":0},{\"name\":\"close_modal\",\"kind\":\"Any\",\"default\":0}]},{\"type\":\"model\",\"name\":\"BootstrapTemplateActions1\",\"properties\":[{\"name\":\"open_modal\",\"kind\":\"Any\",\"default\":0},{\"name\":\"close_modal\",\"kind\":\"Any\",\"default\":0}]},{\"type\":\"model\",\"name\":\"TemplateEditor1\",\"properties\":[{\"name\":\"layout\",\"kind\":\"Any\",\"default\":[]}]},{\"type\":\"model\",\"name\":\"MaterialTemplateActions1\",\"properties\":[{\"name\":\"open_modal\",\"kind\":\"Any\",\"default\":0},{\"name\":\"close_modal\",\"kind\":\"Any\",\"default\":0}]},{\"type\":\"model\",\"name\":\"ReactiveESM1\",\"properties\":[{\"name\":\"esm_constants\",\"kind\":\"Any\",\"default\":{\"type\":\"map\"}}]},{\"type\":\"model\",\"name\":\"JSComponent1\",\"properties\":[{\"name\":\"esm_constants\",\"kind\":\"Any\",\"default\":{\"type\":\"map\"}}]},{\"type\":\"model\",\"name\":\"ReactComponent1\",\"properties\":[{\"name\":\"esm_constants\",\"kind\":\"Any\",\"default\":{\"type\":\"map\"}}]},{\"type\":\"model\",\"name\":\"AnyWidgetComponent1\",\"properties\":[{\"name\":\"esm_constants\",\"kind\":\"Any\",\"default\":{\"type\":\"map\"}}]},{\"type\":\"model\",\"name\":\"request_value1\",\"properties\":[{\"name\":\"fill\",\"kind\":\"Any\",\"default\":\"none\"},{\"name\":\"_synced\",\"kind\":\"Any\",\"default\":null},{\"name\":\"_request_sync\",\"kind\":\"Any\",\"default\":0}]}]}};\n",
       "  var render_items = [{\"docid\":\"6297d04b-6598-4de7-b129-8b6aa5305c33\",\"roots\":{\"113fd567-8445-481c-be99-4b3cff0927cc\":\"d91cc295-5a52-4879-a5ab-8c86db6a376d\"},\"root_ids\":[\"113fd567-8445-481c-be99-4b3cff0927cc\"]}];\n",
       "  var docs = Object.values(docs_json)\n",
       "  if (!docs) {\n",
       "    return\n",
       "  }\n",
       "  const py_version = docs[0].version.replace('rc', '-rc.').replace('.dev', '-dev.')\n",
       "  async function embed_document(root) {\n",
       "    var Bokeh = get_bokeh(root)\n",
       "    await Bokeh.embed.embed_items_notebook(docs_json, render_items);\n",
       "    for (const render_item of render_items) {\n",
       "      for (const root_id of render_item.root_ids) {\n",
       "\tconst id_el = document.getElementById(root_id)\n",
       "\tif (id_el.children.length && id_el.children[0].hasAttribute('data-root-id')) {\n",
       "\t  const root_el = id_el.children[0]\n",
       "\t  root_el.id = root_el.id + '-rendered'\n",
       "\t  for (const child of root_el.children) {\n",
       "            // Ensure JupyterLab does not capture keyboard shortcuts\n",
       "            // see: https://jupyterlab.readthedocs.io/en/4.1.x/extension/notebook.html#keyboard-interaction-model\n",
       "\t    child.setAttribute('data-lm-suppress-shortcuts', 'true')\n",
       "\t  }\n",
       "\t}\n",
       "      }\n",
       "    }\n",
       "  }\n",
       "  function get_bokeh(root) {\n",
       "    if (root.Bokeh === undefined) {\n",
       "      return null\n",
       "    } else if (root.Bokeh.version !== py_version) {\n",
       "      if (root.Bokeh.versions === undefined || !root.Bokeh.versions.has(py_version)) {\n",
       "\treturn null\n",
       "      }\n",
       "      return root.Bokeh.versions.get(py_version);\n",
       "    } else if (root.Bokeh.version === py_version) {\n",
       "      return root.Bokeh\n",
       "    }\n",
       "    return null\n",
       "  }\n",
       "  function is_loaded(root) {\n",
       "    var Bokeh = get_bokeh(root)\n",
       "    return (Bokeh != null && Bokeh.Panel !== undefined && ( root.Plotly !== undefined) && ( root.Plotly !== undefined) && ( root.Plotly !== undefined) && ( root.Plotly !== undefined) && ( root.Plotly !== undefined) && ( root.Plotly !== undefined) && ( root.Plotly !== undefined))\n",
       "  }\n",
       "  if (is_loaded(root)) {\n",
       "    embed_document(root);\n",
       "  } else {\n",
       "    var attempts = 0;\n",
       "    var timer = setInterval(function(root) {\n",
       "      if (is_loaded(root)) {\n",
       "        clearInterval(timer);\n",
       "        embed_document(root);\n",
       "      } else if (document.readyState == \"complete\") {\n",
       "        attempts++;\n",
       "        if (attempts > 200) {\n",
       "          clearInterval(timer);\n",
       "\t  var Bokeh = get_bokeh(root)\n",
       "\t  if (Bokeh == null || Bokeh.Panel == null) {\n",
       "            console.warn(\"Panel: ERROR: Unable to run Panel code because Bokeh or Panel library is missing\");\n",
       "\t  } else {\n",
       "\t    console.warn(\"Panel: WARNING: Attempting to render but not all required libraries could be resolved.\")\n",
       "\t    embed_document(root)\n",
       "\t  }\n",
       "        }\n",
       "      }\n",
       "    }, 25, root)\n",
       "  }\n",
       "})(window);</script>"
      ]
     },
     "metadata": {
      "application/vnd.holoviews_exec.v0+json": {
       "id": "113fd567-8445-481c-be99-4b3cff0927cc"
      }
     },
     "output_type": "display_data"
    }
   ],
   "source": [
    "strategies = {\n",
    "    'roe': (roe_strategy, 1),\n",
    "    'pbr': (pbr_strategy, 1),\n",
    "    'mtm': (mtm_strategy, 1),\n",
    "}\n",
    "multi_strategy = multi_backtesting(strategies, None)"
   ]
  },
  {
   "cell_type": "code",
   "execution_count": 23,
   "metadata": {},
   "outputs": [
    {
     "data": {
      "application/vnd.jupyter.widget-view+json": {
       "model_id": "fcf3147a15df42b48c183e7887545d1f",
       "version_major": 2,
       "version_minor": 0
      },
      "text/plain": [
       "BokehModel(combine_events=True, render_bundle={'docs_json': {'08d9addc-c316-4497-9f71-22d62f2c8c8e': {'version…"
      ]
     },
     "execution_count": 23,
     "metadata": {},
     "output_type": "execute_result"
    }
   ],
   "source": [
    "multi_strategy.tabs"
   ]
  },
  {
   "cell_type": "code",
   "execution_count": 24,
   "metadata": {},
   "outputs": [
    {
     "data": {
      "text/html": [
       "\n",
       "        <div style=\"display: flex; gap: 5px;row-gap: 10px;\">\n",
       "            <div><table border=\"1\" class=\"dataframe\">\n",
       "  <thead>\n",
       "    <tr style=\"text-align: right;\">\n",
       "      <th></th>\n",
       "      <th>0.0</th>\n",
       "      <th>1.0</th>\n",
       "      <th>2.0</th>\n",
       "      <th>3.0</th>\n",
       "      <th>4.0</th>\n",
       "      <th>5.0</th>\n",
       "      <th>6.0</th>\n",
       "      <th>7.0</th>\n",
       "      <th>8.0</th>\n",
       "      <th>9.0</th>\n",
       "      <th>LS</th>\n",
       "    </tr>\n",
       "  </thead>\n",
       "  <tbody>\n",
       "    <tr>\n",
       "      <th>CAGR(%)</th>\n",
       "      <td>3.17</td>\n",
       "      <td>8.35</td>\n",
       "      <td>9.00</td>\n",
       "      <td>4.50</td>\n",
       "      <td>8.03</td>\n",
       "      <td>13.99</td>\n",
       "      <td>13.12</td>\n",
       "      <td>14.07</td>\n",
       "      <td>15.54</td>\n",
       "      <td>16.31</td>\n",
       "      <td>12.44</td>\n",
       "    </tr>\n",
       "    <tr>\n",
       "      <th>Sharpe</th>\n",
       "      <td>0.27</td>\n",
       "      <td>0.55</td>\n",
       "      <td>0.58</td>\n",
       "      <td>0.34</td>\n",
       "      <td>0.53</td>\n",
       "      <td>0.85</td>\n",
       "      <td>0.80</td>\n",
       "      <td>0.85</td>\n",
       "      <td>0.91</td>\n",
       "      <td>0.90</td>\n",
       "      <td>1.25</td>\n",
       "    </tr>\n",
       "    <tr>\n",
       "      <th>Calmar</th>\n",
       "      <td>0.04</td>\n",
       "      <td>0.13</td>\n",
       "      <td>0.13</td>\n",
       "      <td>0.07</td>\n",
       "      <td>0.13</td>\n",
       "      <td>0.23</td>\n",
       "      <td>0.20</td>\n",
       "      <td>0.22</td>\n",
       "      <td>0.24</td>\n",
       "      <td>0.25</td>\n",
       "      <td>0.47</td>\n",
       "    </tr>\n",
       "    <tr>\n",
       "      <th>MDD(%)</th>\n",
       "      <td>-74.97</td>\n",
       "      <td>-66.09</td>\n",
       "      <td>-67.38</td>\n",
       "      <td>-68.85</td>\n",
       "      <td>-63.28</td>\n",
       "      <td>-61.32</td>\n",
       "      <td>-64.22</td>\n",
       "      <td>-63.34</td>\n",
       "      <td>-63.69</td>\n",
       "      <td>-64.32</td>\n",
       "      <td>-26.40</td>\n",
       "    </tr>\n",
       "    <tr>\n",
       "      <th>Simple MDD(%)</th>\n",
       "      <td>-88.03</td>\n",
       "      <td>-60.33</td>\n",
       "      <td>-60.48</td>\n",
       "      <td>-105.33</td>\n",
       "      <td>-64.74</td>\n",
       "      <td>-44.19</td>\n",
       "      <td>-51.99</td>\n",
       "      <td>-50.73</td>\n",
       "      <td>-50.37</td>\n",
       "      <td>-46.44</td>\n",
       "      <td>-17.30</td>\n",
       "    </tr>\n",
       "    <tr>\n",
       "      <th>Win Rate(%)</th>\n",
       "      <td>57.05</td>\n",
       "      <td>57.83</td>\n",
       "      <td>57.89</td>\n",
       "      <td>57.81</td>\n",
       "      <td>58.09</td>\n",
       "      <td>59.02</td>\n",
       "      <td>59.34</td>\n",
       "      <td>58.54</td>\n",
       "      <td>58.44</td>\n",
       "      <td>57.79</td>\n",
       "      <td>52.13</td>\n",
       "    </tr>\n",
       "    <tr>\n",
       "      <th>Weekly Win(%)</th>\n",
       "      <td>55.61</td>\n",
       "      <td>58.44</td>\n",
       "      <td>58.91</td>\n",
       "      <td>59.38</td>\n",
       "      <td>59.94</td>\n",
       "      <td>60.89</td>\n",
       "      <td>60.32</td>\n",
       "      <td>60.13</td>\n",
       "      <td>59.28</td>\n",
       "      <td>59.28</td>\n",
       "      <td>54.48</td>\n",
       "    </tr>\n",
       "    <tr>\n",
       "      <th>Monthly Win(%)</th>\n",
       "      <td>51.64</td>\n",
       "      <td>55.74</td>\n",
       "      <td>56.56</td>\n",
       "      <td>56.15</td>\n",
       "      <td>59.84</td>\n",
       "      <td>60.66</td>\n",
       "      <td>61.48</td>\n",
       "      <td>65.57</td>\n",
       "      <td>64.75</td>\n",
       "      <td>64.75</td>\n",
       "      <td>62.70</td>\n",
       "    </tr>\n",
       "    <tr>\n",
       "      <th>Yearly Win(%)</th>\n",
       "      <td>57.14</td>\n",
       "      <td>61.90</td>\n",
       "      <td>66.67</td>\n",
       "      <td>66.67</td>\n",
       "      <td>66.67</td>\n",
       "      <td>76.19</td>\n",
       "      <td>71.43</td>\n",
       "      <td>71.43</td>\n",
       "      <td>71.43</td>\n",
       "      <td>76.19</td>\n",
       "      <td>80.95</td>\n",
       "    </tr>\n",
       "    <tr>\n",
       "      <th>Win/Loss Ratio</th>\n",
       "      <td>0.76</td>\n",
       "      <td>0.78</td>\n",
       "      <td>0.78</td>\n",
       "      <td>0.75</td>\n",
       "      <td>0.77</td>\n",
       "      <td>0.79</td>\n",
       "      <td>0.77</td>\n",
       "      <td>0.80</td>\n",
       "      <td>0.81</td>\n",
       "      <td>0.83</td>\n",
       "      <td>1.11</td>\n",
       "    </tr>\n",
       "    <tr>\n",
       "      <th>Expected Return(bps)</th>\n",
       "      <td>1.30</td>\n",
       "      <td>3.34</td>\n",
       "      <td>3.59</td>\n",
       "      <td>1.84</td>\n",
       "      <td>3.22</td>\n",
       "      <td>5.46</td>\n",
       "      <td>5.14</td>\n",
       "      <td>5.49</td>\n",
       "      <td>6.02</td>\n",
       "      <td>6.30</td>\n",
       "      <td>4.89</td>\n",
       "    </tr>\n",
       "    <tr>\n",
       "      <th>Sample Size</th>\n",
       "      <td>4997.00</td>\n",
       "      <td>4997.00</td>\n",
       "      <td>4997.00</td>\n",
       "      <td>4997.00</td>\n",
       "      <td>4997.00</td>\n",
       "      <td>4997.00</td>\n",
       "      <td>4997.00</td>\n",
       "      <td>4997.00</td>\n",
       "      <td>4997.00</td>\n",
       "      <td>4997.00</td>\n",
       "      <td>4997.00</td>\n",
       "    </tr>\n",
       "    <tr>\n",
       "      <th>t</th>\n",
       "      <td>1.21</td>\n",
       "      <td>2.50</td>\n",
       "      <td>2.66</td>\n",
       "      <td>1.53</td>\n",
       "      <td>2.43</td>\n",
       "      <td>3.90</td>\n",
       "      <td>3.64</td>\n",
       "      <td>3.88</td>\n",
       "      <td>4.13</td>\n",
       "      <td>4.11</td>\n",
       "      <td>5.69</td>\n",
       "    </tr>\n",
       "  </tbody>\n",
       "</table><br><table border=\"1\" class=\"dataframe\">\n",
       "  <thead>\n",
       "    <tr style=\"text-align: right;\">\n",
       "      <th></th>\n",
       "      <th>Rank IC</th>\n",
       "    </tr>\n",
       "  </thead>\n",
       "  <tbody>\n",
       "    <tr>\n",
       "      <th>mean</th>\n",
       "      <td>0.0847</td>\n",
       "    </tr>\n",
       "    <tr>\n",
       "      <th>std</th>\n",
       "      <td>0.111</td>\n",
       "    </tr>\n",
       "    <tr>\n",
       "      <th>IR</th>\n",
       "      <td>76.27%</td>\n",
       "    </tr>\n",
       "    <tr>\n",
       "      <th>positive ratio</th>\n",
       "      <td>81.25%</td>\n",
       "    </tr>\n",
       "  </tbody>\n",
       "</table></div>\n",
       "        </div>\n",
       "        "
      ],
      "text/plain": [
       "<IPython.core.display.HTML object>"
      ]
     },
     "metadata": {},
     "output_type": "display_data"
    },
    {
     "data": {
      "text/html": [
       "<script type=\"esms-options\">{\"shimMode\": true}</script><style>*[data-root-id],\n",
       "*[data-root-id] > * {\n",
       "  box-sizing: border-box;\n",
       "  font-family: var(--jp-ui-font-family);\n",
       "  font-size: var(--jp-ui-font-size1);\n",
       "  color: var(--vscode-editor-foreground, var(--jp-ui-font-color1));\n",
       "}\n",
       "\n",
       "/* Override VSCode background color */\n",
       ".cell-output-ipywidget-background:has(\n",
       "    > .cell-output-ipywidget-background > .lm-Widget > *[data-root-id]\n",
       "  ),\n",
       ".cell-output-ipywidget-background:has(> .lm-Widget > *[data-root-id]) {\n",
       "  background-color: transparent !important;\n",
       "}\n",
       "</style>"
      ]
     },
     "metadata": {},
     "output_type": "display_data"
    },
    {
     "data": {
      "application/javascript": "(function(root) {\n  function now() {\n    return new Date();\n  }\n\n  const force = true;\n  const py_version = '3.6.2'.replace('rc', '-rc.').replace('.dev', '-dev.');\n  const reloading = false;\n  const Bokeh = root.Bokeh;\n\n  // Set a timeout for this load but only if we are not already initializing\n  if (typeof (root._bokeh_timeout) === \"undefined\" || (force || !root._bokeh_is_initializing)) {\n    root._bokeh_timeout = Date.now() + 5000;\n    root._bokeh_failed_load = false;\n  }\n\n  function run_callbacks() {\n    try {\n      root._bokeh_onload_callbacks.forEach(function(callback) {\n        if (callback != null)\n          callback();\n      });\n    } finally {\n      delete root._bokeh_onload_callbacks;\n    }\n    console.debug(\"Bokeh: all callbacks have finished\");\n  }\n\n  function load_libs(css_urls, js_urls, js_modules, js_exports, callback) {\n    if (css_urls == null) css_urls = [];\n    if (js_urls == null) js_urls = [];\n    if (js_modules == null) js_modules = [];\n    if (js_exports == null) js_exports = {};\n\n    root._bokeh_onload_callbacks.push(callback);\n\n    if (root._bokeh_is_loading > 0) {\n      // Don't load bokeh if it is still initializing\n      console.debug(\"Bokeh: BokehJS is being loaded, scheduling callback at\", now());\n      return null;\n    } else if (js_urls.length === 0 && js_modules.length === 0 && Object.keys(js_exports).length === 0) {\n      // There is nothing to load\n      run_callbacks();\n      return null;\n    }\n\n    function on_load() {\n      root._bokeh_is_loading--;\n      if (root._bokeh_is_loading === 0) {\n        console.debug(\"Bokeh: all BokehJS libraries/stylesheets loaded\");\n        run_callbacks()\n      }\n    }\n    window._bokeh_on_load = on_load\n\n    function on_error(e) {\n      const src_el = e.srcElement\n      console.error(\"failed to load \" + (src_el.href || src_el.src));\n    }\n\n    const skip = [];\n    if (window.requirejs) {\n      window.requirejs.config({'packages': {}, 'paths': {'plotly': 'https://cdn.plot.ly/plotly-2.31.1.min'}, 'shim': {}});\n      require([\"plotly\"], function(Plotly) {\n        window.Plotly = Plotly\n        on_load()\n      })\n      root._bokeh_is_loading = css_urls.length + 1;\n    } else {\n      root._bokeh_is_loading = css_urls.length + js_urls.length + js_modules.length + Object.keys(js_exports).length;\n    }\n\n    const existing_stylesheets = []\n    const links = document.getElementsByTagName('link')\n    for (let i = 0; i < links.length; i++) {\n      const link = links[i]\n      if (link.href != null) {\n        existing_stylesheets.push(link.href)\n      }\n    }\n    for (let i = 0; i < css_urls.length; i++) {\n      const url = css_urls[i];\n      const escaped = encodeURI(url)\n      if (existing_stylesheets.indexOf(escaped) !== -1) {\n        on_load()\n        continue;\n      }\n      const element = document.createElement(\"link\");\n      element.onload = on_load;\n      element.onerror = on_error;\n      element.rel = \"stylesheet\";\n      element.type = \"text/css\";\n      element.href = url;\n      console.debug(\"Bokeh: injecting link tag for BokehJS stylesheet: \", url);\n      document.body.appendChild(element);\n    }    if (((window.Plotly !== undefined) && (!(window.Plotly instanceof HTMLElement))) || window.requirejs) {\n      var urls = ['https://cdn.holoviz.org/panel/1.5.4/dist/bundled/plotlyplot/plotly-2.31.1.min.js'];\n      for (var i = 0; i < urls.length; i++) {\n        skip.push(encodeURI(urls[i]))\n      }\n    }    var existing_scripts = []\n    const scripts = document.getElementsByTagName('script')\n    for (let i = 0; i < scripts.length; i++) {\n      var script = scripts[i]\n      if (script.src != null) {\n        existing_scripts.push(script.src)\n      }\n    }\n    for (let i = 0; i < js_urls.length; i++) {\n      const url = js_urls[i];\n      const escaped = encodeURI(url)\n      if (skip.indexOf(escaped) !== -1 || existing_scripts.indexOf(escaped) !== -1) {\n        if (!window.requirejs) {\n          on_load();\n        }\n        continue;\n      }\n      const element = document.createElement('script');\n      element.onload = on_load;\n      element.onerror = on_error;\n      element.async = false;\n      element.src = url;\n      console.debug(\"Bokeh: injecting script tag for BokehJS library: \", url);\n      document.head.appendChild(element);\n    }\n    for (let i = 0; i < js_modules.length; i++) {\n      const url = js_modules[i];\n      const escaped = encodeURI(url)\n      if (skip.indexOf(escaped) !== -1 || existing_scripts.indexOf(escaped) !== -1) {\n        if (!window.requirejs) {\n          on_load();\n        }\n        continue;\n      }\n      var element = document.createElement('script');\n      element.onload = on_load;\n      element.onerror = on_error;\n      element.async = false;\n      element.src = url;\n      element.type = \"module\";\n      console.debug(\"Bokeh: injecting script tag for BokehJS library: \", url);\n      document.head.appendChild(element);\n    }\n    for (const name in js_exports) {\n      const url = js_exports[name];\n      const escaped = encodeURI(url)\n      if (skip.indexOf(escaped) >= 0 || root[name] != null) {\n        if (!window.requirejs) {\n          on_load();\n        }\n        continue;\n      }\n      var element = document.createElement('script');\n      element.onerror = on_error;\n      element.async = false;\n      element.type = \"module\";\n      console.debug(\"Bokeh: injecting script tag for BokehJS library: \", url);\n      element.textContent = `\n      import ${name} from \"${url}\"\n      window.${name} = ${name}\n      window._bokeh_on_load()\n      `\n      document.head.appendChild(element);\n    }\n    if (!js_urls.length && !js_modules.length) {\n      on_load()\n    }\n  };\n\n  function inject_raw_css(css) {\n    const element = document.createElement(\"style\");\n    element.appendChild(document.createTextNode(css));\n    document.body.appendChild(element);\n  }\n\n  const js_urls = [\"https://cdn.holoviz.org/panel/1.5.4/dist/bundled/reactiveesm/es-module-shims@^1.10.0/dist/es-module-shims.min.js\", \"https://cdn.holoviz.org/panel/1.5.4/dist/bundled/jquery/jquery.slim.min.js\", \"https://cdn.holoviz.org/panel/1.5.4/dist/bundled/plotlyplot/plotly-2.31.1.min.js\", \"https://cdn.bokeh.org/bokeh/release/bokeh-3.6.2.min.js\", \"https://cdn.bokeh.org/bokeh/release/bokeh-gl-3.6.2.min.js\", \"https://cdn.bokeh.org/bokeh/release/bokeh-widgets-3.6.2.min.js\", \"https://cdn.bokeh.org/bokeh/release/bokeh-tables-3.6.2.min.js\", \"https://cdn.holoviz.org/panel/1.5.4/dist/panel.min.js\"];\n  const js_modules = [];\n  const js_exports = {};\n  const css_urls = [\"https://cdn.holoviz.org/panel/1.5.4/dist/bundled/plotlyplot/mapbox-gl-js/v3.0.1/mapbox-gl.css?v=1.5.4\"];\n  const inline_js = [    function(Bokeh) {\n      Bokeh.set_log_level(\"info\");\n    },\nfunction(Bokeh) {} // ensure no trailing comma for IE\n  ];\n\n  function run_inline_js() {\n    if ((root.Bokeh !== undefined) || (force === true)) {\n      for (let i = 0; i < inline_js.length; i++) {\n        try {\n          inline_js[i].call(root, root.Bokeh);\n        } catch(e) {\n          if (!reloading) {\n            throw e;\n          }\n        }\n      }\n      // Cache old bokeh versions\n      if (Bokeh != undefined && !reloading) {\n        var NewBokeh = root.Bokeh;\n        if (Bokeh.versions === undefined) {\n          Bokeh.versions = new Map();\n        }\n        if (NewBokeh.version !== Bokeh.version) {\n          Bokeh.versions.set(NewBokeh.version, NewBokeh)\n        }\n        root.Bokeh = Bokeh;\n      }\n    } else if (Date.now() < root._bokeh_timeout) {\n      setTimeout(run_inline_js, 100);\n    } else if (!root._bokeh_failed_load) {\n      console.log(\"Bokeh: BokehJS failed to load within specified timeout.\");\n      root._bokeh_failed_load = true;\n    }\n    root._bokeh_is_initializing = false\n  }\n\n  function load_or_wait() {\n    // Implement a backoff loop that tries to ensure we do not load multiple\n    // versions of Bokeh and its dependencies at the same time.\n    // In recent versions we use the root._bokeh_is_initializing flag\n    // to determine whether there is an ongoing attempt to initialize\n    // bokeh, however for backward compatibility we also try to ensure\n    // that we do not start loading a newer (Panel>=1.0 and Bokeh>3) version\n    // before older versions are fully initialized.\n    if (root._bokeh_is_initializing && Date.now() > root._bokeh_timeout) {\n      // If the timeout and bokeh was not successfully loaded we reset\n      // everything and try loading again\n      root._bokeh_timeout = Date.now() + 5000;\n      root._bokeh_is_initializing = false;\n      root._bokeh_onload_callbacks = undefined;\n      root._bokeh_is_loading = 0\n      console.log(\"Bokeh: BokehJS was loaded multiple times but one version failed to initialize.\");\n      load_or_wait();\n    } else if (root._bokeh_is_initializing || (typeof root._bokeh_is_initializing === \"undefined\" && root._bokeh_onload_callbacks !== undefined)) {\n      setTimeout(load_or_wait, 100);\n    } else {\n      root._bokeh_is_initializing = true\n      root._bokeh_onload_callbacks = []\n      const bokeh_loaded = root.Bokeh != null && (root.Bokeh.version === py_version || (root.Bokeh.versions !== undefined && root.Bokeh.versions.has(py_version)));\n      if (!reloading && !bokeh_loaded) {\n        if (root.Bokeh) {\n          root.Bokeh = undefined;\n        }\n        console.debug(\"Bokeh: BokehJS not loaded, scheduling load and callback at\", now());\n      }\n      load_libs(css_urls, js_urls, js_modules, js_exports, function() {\n        console.debug(\"Bokeh: BokehJS plotting callback run at\", now());\n        run_inline_js();\n      });\n    }\n  }\n  // Give older versions of the autoload script a head-start to ensure\n  // they initialize before we start loading newer version.\n  setTimeout(load_or_wait, 100)\n}(window));",
      "application/vnd.holoviews_load.v0+json": ""
     },
     "metadata": {},
     "output_type": "display_data"
    },
    {
     "data": {
      "application/javascript": "\nif ((window.PyViz === undefined) || (window.PyViz instanceof HTMLElement)) {\n  window.PyViz = {comms: {}, comm_status:{}, kernels:{}, receivers: {}, plot_index: []}\n}\n\n\n    function JupyterCommManager() {\n    }\n\n    JupyterCommManager.prototype.register_target = function(plot_id, comm_id, msg_handler) {\n      if (window.comm_manager || ((window.Jupyter !== undefined) && (Jupyter.notebook.kernel != null))) {\n        var comm_manager = window.comm_manager || Jupyter.notebook.kernel.comm_manager;\n        comm_manager.register_target(comm_id, function(comm) {\n          comm.on_msg(msg_handler);\n        });\n      } else if ((plot_id in window.PyViz.kernels) && (window.PyViz.kernels[plot_id])) {\n        window.PyViz.kernels[plot_id].registerCommTarget(comm_id, function(comm) {\n          comm.onMsg = msg_handler;\n        });\n      } else if (typeof google != 'undefined' && google.colab.kernel != null) {\n        google.colab.kernel.comms.registerTarget(comm_id, (comm) => {\n          var messages = comm.messages[Symbol.asyncIterator]();\n          function processIteratorResult(result) {\n            var message = result.value;\n            console.log(message)\n            var content = {data: message.data, comm_id};\n            var buffers = []\n            for (var buffer of message.buffers || []) {\n              buffers.push(new DataView(buffer))\n            }\n            var metadata = message.metadata || {};\n            var msg = {content, buffers, metadata}\n            msg_handler(msg);\n            return messages.next().then(processIteratorResult);\n          }\n          return messages.next().then(processIteratorResult);\n        })\n      }\n    }\n\n    JupyterCommManager.prototype.get_client_comm = function(plot_id, comm_id, msg_handler) {\n      if (comm_id in window.PyViz.comms) {\n        return window.PyViz.comms[comm_id];\n      } else if (window.comm_manager || ((window.Jupyter !== undefined) && (Jupyter.notebook.kernel != null))) {\n        var comm_manager = window.comm_manager || Jupyter.notebook.kernel.comm_manager;\n        var comm = comm_manager.new_comm(comm_id, {}, {}, {}, comm_id);\n        if (msg_handler) {\n          comm.on_msg(msg_handler);\n        }\n      } else if ((plot_id in window.PyViz.kernels) && (window.PyViz.kernels[plot_id])) {\n        var comm = window.PyViz.kernels[plot_id].connectToComm(comm_id);\n        comm.open();\n        if (msg_handler) {\n          comm.onMsg = msg_handler;\n        }\n      } else if (typeof google != 'undefined' && google.colab.kernel != null) {\n        var comm_promise = google.colab.kernel.comms.open(comm_id)\n        comm_promise.then((comm) => {\n          window.PyViz.comms[comm_id] = comm;\n          if (msg_handler) {\n            var messages = comm.messages[Symbol.asyncIterator]();\n            function processIteratorResult(result) {\n              var message = result.value;\n              var content = {data: message.data};\n              var metadata = message.metadata || {comm_id};\n              var msg = {content, metadata}\n              msg_handler(msg);\n              return messages.next().then(processIteratorResult);\n            }\n            return messages.next().then(processIteratorResult);\n          }\n        }) \n        var sendClosure = (data, metadata, buffers, disposeOnDone) => {\n          return comm_promise.then((comm) => {\n            comm.send(data, metadata, buffers, disposeOnDone);\n          });\n        };\n        var comm = {\n          send: sendClosure\n        };\n      }\n      window.PyViz.comms[comm_id] = comm;\n      return comm;\n    }\n    window.PyViz.comm_manager = new JupyterCommManager();\n    \n\n\nvar JS_MIME_TYPE = 'application/javascript';\nvar HTML_MIME_TYPE = 'text/html';\nvar EXEC_MIME_TYPE = 'application/vnd.holoviews_exec.v0+json';\nvar CLASS_NAME = 'output';\n\n/**\n * Render data to the DOM node\n */\nfunction render(props, node) {\n  var div = document.createElement(\"div\");\n  var script = document.createElement(\"script\");\n  node.appendChild(div);\n  node.appendChild(script);\n}\n\n/**\n * Handle when a new output is added\n */\nfunction handle_add_output(event, handle) {\n  var output_area = handle.output_area;\n  var output = handle.output;\n  if ((output.data == undefined) || (!output.data.hasOwnProperty(EXEC_MIME_TYPE))) {\n    return\n  }\n  var id = output.metadata[EXEC_MIME_TYPE][\"id\"];\n  var toinsert = output_area.element.find(\".\" + CLASS_NAME.split(' ')[0]);\n  if (id !== undefined) {\n    var nchildren = toinsert.length;\n    var html_node = toinsert[nchildren-1].children[0];\n    html_node.innerHTML = output.data[HTML_MIME_TYPE];\n    var scripts = [];\n    var nodelist = html_node.querySelectorAll(\"script\");\n    for (var i in nodelist) {\n      if (nodelist.hasOwnProperty(i)) {\n        scripts.push(nodelist[i])\n      }\n    }\n\n    scripts.forEach( function (oldScript) {\n      var newScript = document.createElement(\"script\");\n      var attrs = [];\n      var nodemap = oldScript.attributes;\n      for (var j in nodemap) {\n        if (nodemap.hasOwnProperty(j)) {\n          attrs.push(nodemap[j])\n        }\n      }\n      attrs.forEach(function(attr) { newScript.setAttribute(attr.name, attr.value) });\n      newScript.appendChild(document.createTextNode(oldScript.innerHTML));\n      oldScript.parentNode.replaceChild(newScript, oldScript);\n    });\n    if (JS_MIME_TYPE in output.data) {\n      toinsert[nchildren-1].children[1].textContent = output.data[JS_MIME_TYPE];\n    }\n    output_area._hv_plot_id = id;\n    if ((window.Bokeh !== undefined) && (id in Bokeh.index)) {\n      window.PyViz.plot_index[id] = Bokeh.index[id];\n    } else {\n      window.PyViz.plot_index[id] = null;\n    }\n  } else if (output.metadata[EXEC_MIME_TYPE][\"server_id\"] !== undefined) {\n    var bk_div = document.createElement(\"div\");\n    bk_div.innerHTML = output.data[HTML_MIME_TYPE];\n    var script_attrs = bk_div.children[0].attributes;\n    for (var i = 0; i < script_attrs.length; i++) {\n      toinsert[toinsert.length - 1].childNodes[1].setAttribute(script_attrs[i].name, script_attrs[i].value);\n    }\n    // store reference to server id on output_area\n    output_area._bokeh_server_id = output.metadata[EXEC_MIME_TYPE][\"server_id\"];\n  }\n}\n\n/**\n * Handle when an output is cleared or removed\n */\nfunction handle_clear_output(event, handle) {\n  var id = handle.cell.output_area._hv_plot_id;\n  var server_id = handle.cell.output_area._bokeh_server_id;\n  if (((id === undefined) || !(id in PyViz.plot_index)) && (server_id !== undefined)) { return; }\n  var comm = window.PyViz.comm_manager.get_client_comm(\"hv-extension-comm\", \"hv-extension-comm\", function () {});\n  if (server_id !== null) {\n    comm.send({event_type: 'server_delete', 'id': server_id});\n    return;\n  } else if (comm !== null) {\n    comm.send({event_type: 'delete', 'id': id});\n  }\n  delete PyViz.plot_index[id];\n  if ((window.Bokeh !== undefined) & (id in window.Bokeh.index)) {\n    var doc = window.Bokeh.index[id].model.document\n    doc.clear();\n    const i = window.Bokeh.documents.indexOf(doc);\n    if (i > -1) {\n      window.Bokeh.documents.splice(i, 1);\n    }\n  }\n}\n\n/**\n * Handle kernel restart event\n */\nfunction handle_kernel_cleanup(event, handle) {\n  delete PyViz.comms[\"hv-extension-comm\"];\n  window.PyViz.plot_index = {}\n}\n\n/**\n * Handle update_display_data messages\n */\nfunction handle_update_output(event, handle) {\n  handle_clear_output(event, {cell: {output_area: handle.output_area}})\n  handle_add_output(event, handle)\n}\n\nfunction register_renderer(events, OutputArea) {\n  function append_mime(data, metadata, element) {\n    // create a DOM node to render to\n    var toinsert = this.create_output_subarea(\n    metadata,\n    CLASS_NAME,\n    EXEC_MIME_TYPE\n    );\n    this.keyboard_manager.register_events(toinsert);\n    // Render to node\n    var props = {data: data, metadata: metadata[EXEC_MIME_TYPE]};\n    render(props, toinsert[0]);\n    element.append(toinsert);\n    return toinsert\n  }\n\n  events.on('output_added.OutputArea', handle_add_output);\n  events.on('output_updated.OutputArea', handle_update_output);\n  events.on('clear_output.CodeCell', handle_clear_output);\n  events.on('delete.Cell', handle_clear_output);\n  events.on('kernel_ready.Kernel', handle_kernel_cleanup);\n\n  OutputArea.prototype.register_mime_type(EXEC_MIME_TYPE, append_mime, {\n    safe: true,\n    index: 0\n  });\n}\n\nif (window.Jupyter !== undefined) {\n  try {\n    var events = require('base/js/events');\n    var OutputArea = require('notebook/js/outputarea').OutputArea;\n    if (OutputArea.prototype.mime_types().indexOf(EXEC_MIME_TYPE) == -1) {\n      register_renderer(events, OutputArea);\n    }\n  } catch(err) {\n  }\n}\n",
      "application/vnd.holoviews_load.v0+json": ""
     },
     "metadata": {},
     "output_type": "display_data"
    },
    {
     "data": {
      "application/vnd.holoviews_exec.v0+json": "",
      "text/html": [
       "<div id='78d3a66a-88f6-411b-8d0e-9e15b5476a81'>\n",
       "  <div id=\"e6dd8083-96e9-48cd-855a-0b8f1b523d0e\" data-root-id=\"78d3a66a-88f6-411b-8d0e-9e15b5476a81\" style=\"display: contents;\"></div>\n",
       "</div>\n",
       "<script type=\"application/javascript\">(function(root) {\n",
       "  var docs_json = {\"8d562349-b934-4619-bfff-68f4f0c12bdc\":{\"version\":\"3.6.2\",\"title\":\"Bokeh Application\",\"roots\":[{\"type\":\"object\",\"name\":\"panel.models.browser.BrowserInfo\",\"id\":\"78d3a66a-88f6-411b-8d0e-9e15b5476a81\"},{\"type\":\"object\",\"name\":\"panel.models.comm_manager.CommManager\",\"id\":\"d42a3aab-6a0b-4b8c-bb1e-c1ab13396af0\",\"attributes\":{\"plot_id\":\"78d3a66a-88f6-411b-8d0e-9e15b5476a81\",\"comm_id\":\"de11c71bded44820a6a9491a8b664be3\",\"client_comm_id\":\"0cee8a3a4d1741a38d5270d7a6f0abf1\"}}],\"defs\":[{\"type\":\"model\",\"name\":\"ReactiveHTML1\"},{\"type\":\"model\",\"name\":\"FlexBox1\",\"properties\":[{\"name\":\"align_content\",\"kind\":\"Any\",\"default\":\"flex-start\"},{\"name\":\"align_items\",\"kind\":\"Any\",\"default\":\"flex-start\"},{\"name\":\"flex_direction\",\"kind\":\"Any\",\"default\":\"row\"},{\"name\":\"flex_wrap\",\"kind\":\"Any\",\"default\":\"wrap\"},{\"name\":\"gap\",\"kind\":\"Any\",\"default\":\"\"},{\"name\":\"justify_content\",\"kind\":\"Any\",\"default\":\"flex-start\"}]},{\"type\":\"model\",\"name\":\"FloatPanel1\",\"properties\":[{\"name\":\"config\",\"kind\":\"Any\",\"default\":{\"type\":\"map\"}},{\"name\":\"contained\",\"kind\":\"Any\",\"default\":true},{\"name\":\"position\",\"kind\":\"Any\",\"default\":\"right-top\"},{\"name\":\"offsetx\",\"kind\":\"Any\",\"default\":null},{\"name\":\"offsety\",\"kind\":\"Any\",\"default\":null},{\"name\":\"theme\",\"kind\":\"Any\",\"default\":\"primary\"},{\"name\":\"status\",\"kind\":\"Any\",\"default\":\"normalized\"}]},{\"type\":\"model\",\"name\":\"GridStack1\",\"properties\":[{\"name\":\"mode\",\"kind\":\"Any\",\"default\":\"warn\"},{\"name\":\"ncols\",\"kind\":\"Any\",\"default\":null},{\"name\":\"nrows\",\"kind\":\"Any\",\"default\":null},{\"name\":\"allow_resize\",\"kind\":\"Any\",\"default\":true},{\"name\":\"allow_drag\",\"kind\":\"Any\",\"default\":true},{\"name\":\"state\",\"kind\":\"Any\",\"default\":[]}]},{\"type\":\"model\",\"name\":\"drag1\",\"properties\":[{\"name\":\"slider_width\",\"kind\":\"Any\",\"default\":5},{\"name\":\"slider_color\",\"kind\":\"Any\",\"default\":\"black\"},{\"name\":\"value\",\"kind\":\"Any\",\"default\":50}]},{\"type\":\"model\",\"name\":\"click1\",\"properties\":[{\"name\":\"terminal_output\",\"kind\":\"Any\",\"default\":\"\"},{\"name\":\"debug_name\",\"kind\":\"Any\",\"default\":\"\"},{\"name\":\"clears\",\"kind\":\"Any\",\"default\":0}]},{\"type\":\"model\",\"name\":\"FastWrapper1\",\"properties\":[{\"name\":\"object\",\"kind\":\"Any\",\"default\":null},{\"name\":\"style\",\"kind\":\"Any\",\"default\":null}]},{\"type\":\"model\",\"name\":\"NotificationAreaBase1\",\"properties\":[{\"name\":\"js_events\",\"kind\":\"Any\",\"default\":{\"type\":\"map\"}},{\"name\":\"position\",\"kind\":\"Any\",\"default\":\"bottom-right\"},{\"name\":\"_clear\",\"kind\":\"Any\",\"default\":0}]},{\"type\":\"model\",\"name\":\"NotificationArea1\",\"properties\":[{\"name\":\"js_events\",\"kind\":\"Any\",\"default\":{\"type\":\"map\"}},{\"name\":\"notifications\",\"kind\":\"Any\",\"default\":[]},{\"name\":\"position\",\"kind\":\"Any\",\"default\":\"bottom-right\"},{\"name\":\"_clear\",\"kind\":\"Any\",\"default\":0},{\"name\":\"types\",\"kind\":\"Any\",\"default\":[{\"type\":\"map\",\"entries\":[[\"type\",\"warning\"],[\"background\",\"#ffc107\"],[\"icon\",{\"type\":\"map\",\"entries\":[[\"className\",\"fas fa-exclamation-triangle\"],[\"tagName\",\"i\"],[\"color\",\"white\"]]}]]},{\"type\":\"map\",\"entries\":[[\"type\",\"info\"],[\"background\",\"#007bff\"],[\"icon\",{\"type\":\"map\",\"entries\":[[\"className\",\"fas fa-info-circle\"],[\"tagName\",\"i\"],[\"color\",\"white\"]]}]]}]}]},{\"type\":\"model\",\"name\":\"Notification\",\"properties\":[{\"name\":\"background\",\"kind\":\"Any\",\"default\":null},{\"name\":\"duration\",\"kind\":\"Any\",\"default\":3000},{\"name\":\"icon\",\"kind\":\"Any\",\"default\":null},{\"name\":\"message\",\"kind\":\"Any\",\"default\":\"\"},{\"name\":\"notification_type\",\"kind\":\"Any\",\"default\":null},{\"name\":\"_destroyed\",\"kind\":\"Any\",\"default\":false}]},{\"type\":\"model\",\"name\":\"TemplateActions1\",\"properties\":[{\"name\":\"open_modal\",\"kind\":\"Any\",\"default\":0},{\"name\":\"close_modal\",\"kind\":\"Any\",\"default\":0}]},{\"type\":\"model\",\"name\":\"BootstrapTemplateActions1\",\"properties\":[{\"name\":\"open_modal\",\"kind\":\"Any\",\"default\":0},{\"name\":\"close_modal\",\"kind\":\"Any\",\"default\":0}]},{\"type\":\"model\",\"name\":\"TemplateEditor1\",\"properties\":[{\"name\":\"layout\",\"kind\":\"Any\",\"default\":[]}]},{\"type\":\"model\",\"name\":\"MaterialTemplateActions1\",\"properties\":[{\"name\":\"open_modal\",\"kind\":\"Any\",\"default\":0},{\"name\":\"close_modal\",\"kind\":\"Any\",\"default\":0}]},{\"type\":\"model\",\"name\":\"ReactiveESM1\",\"properties\":[{\"name\":\"esm_constants\",\"kind\":\"Any\",\"default\":{\"type\":\"map\"}}]},{\"type\":\"model\",\"name\":\"JSComponent1\",\"properties\":[{\"name\":\"esm_constants\",\"kind\":\"Any\",\"default\":{\"type\":\"map\"}}]},{\"type\":\"model\",\"name\":\"ReactComponent1\",\"properties\":[{\"name\":\"esm_constants\",\"kind\":\"Any\",\"default\":{\"type\":\"map\"}}]},{\"type\":\"model\",\"name\":\"AnyWidgetComponent1\",\"properties\":[{\"name\":\"esm_constants\",\"kind\":\"Any\",\"default\":{\"type\":\"map\"}}]},{\"type\":\"model\",\"name\":\"request_value1\",\"properties\":[{\"name\":\"fill\",\"kind\":\"Any\",\"default\":\"none\"},{\"name\":\"_synced\",\"kind\":\"Any\",\"default\":null},{\"name\":\"_request_sync\",\"kind\":\"Any\",\"default\":0}]}]}};\n",
       "  var render_items = [{\"docid\":\"8d562349-b934-4619-bfff-68f4f0c12bdc\",\"roots\":{\"78d3a66a-88f6-411b-8d0e-9e15b5476a81\":\"e6dd8083-96e9-48cd-855a-0b8f1b523d0e\"},\"root_ids\":[\"78d3a66a-88f6-411b-8d0e-9e15b5476a81\"]}];\n",
       "  var docs = Object.values(docs_json)\n",
       "  if (!docs) {\n",
       "    return\n",
       "  }\n",
       "  const py_version = docs[0].version.replace('rc', '-rc.').replace('.dev', '-dev.')\n",
       "  async function embed_document(root) {\n",
       "    var Bokeh = get_bokeh(root)\n",
       "    await Bokeh.embed.embed_items_notebook(docs_json, render_items);\n",
       "    for (const render_item of render_items) {\n",
       "      for (const root_id of render_item.root_ids) {\n",
       "\tconst id_el = document.getElementById(root_id)\n",
       "\tif (id_el.children.length && id_el.children[0].hasAttribute('data-root-id')) {\n",
       "\t  const root_el = id_el.children[0]\n",
       "\t  root_el.id = root_el.id + '-rendered'\n",
       "\t  for (const child of root_el.children) {\n",
       "            // Ensure JupyterLab does not capture keyboard shortcuts\n",
       "            // see: https://jupyterlab.readthedocs.io/en/4.1.x/extension/notebook.html#keyboard-interaction-model\n",
       "\t    child.setAttribute('data-lm-suppress-shortcuts', 'true')\n",
       "\t  }\n",
       "\t}\n",
       "      }\n",
       "    }\n",
       "  }\n",
       "  function get_bokeh(root) {\n",
       "    if (root.Bokeh === undefined) {\n",
       "      return null\n",
       "    } else if (root.Bokeh.version !== py_version) {\n",
       "      if (root.Bokeh.versions === undefined || !root.Bokeh.versions.has(py_version)) {\n",
       "\treturn null\n",
       "      }\n",
       "      return root.Bokeh.versions.get(py_version);\n",
       "    } else if (root.Bokeh.version === py_version) {\n",
       "      return root.Bokeh\n",
       "    }\n",
       "    return null\n",
       "  }\n",
       "  function is_loaded(root) {\n",
       "    var Bokeh = get_bokeh(root)\n",
       "    return (Bokeh != null && Bokeh.Panel !== undefined && ( root.Plotly !== undefined) && ( root.Plotly !== undefined) && ( root.Plotly !== undefined) && ( root.Plotly !== undefined) && ( root.Plotly !== undefined) && ( root.Plotly !== undefined) && ( root.Plotly !== undefined) && ( root.Plotly !== undefined))\n",
       "  }\n",
       "  if (is_loaded(root)) {\n",
       "    embed_document(root);\n",
       "  } else {\n",
       "    var attempts = 0;\n",
       "    var timer = setInterval(function(root) {\n",
       "      if (is_loaded(root)) {\n",
       "        clearInterval(timer);\n",
       "        embed_document(root);\n",
       "      } else if (document.readyState == \"complete\") {\n",
       "        attempts++;\n",
       "        if (attempts > 200) {\n",
       "          clearInterval(timer);\n",
       "\t  var Bokeh = get_bokeh(root)\n",
       "\t  if (Bokeh == null || Bokeh.Panel == null) {\n",
       "            console.warn(\"Panel: ERROR: Unable to run Panel code because Bokeh or Panel library is missing\");\n",
       "\t  } else {\n",
       "\t    console.warn(\"Panel: WARNING: Attempting to render but not all required libraries could be resolved.\")\n",
       "\t    embed_document(root)\n",
       "\t  }\n",
       "        }\n",
       "      }\n",
       "    }, 25, root)\n",
       "  }\n",
       "})(window);</script>"
      ]
     },
     "metadata": {
      "application/vnd.holoviews_exec.v0+json": {
       "id": "78d3a66a-88f6-411b-8d0e-9e15b5476a81"
      }
     },
     "output_type": "display_data"
    },
    {
     "data": {
      "application/vnd.jupyter.widget-view+json": {
       "model_id": "9b51edba1540437fadb40fa56edb5b0a",
       "version_major": 2,
       "version_minor": 0
      },
      "text/plain": [
       "BokehModel(combine_events=True, render_bundle={'docs_json': {'5095fe15-8cdd-4410-9d7f-41d11d36c1f3': {'version…"
      ]
     },
     "execution_count": 24,
     "metadata": {},
     "output_type": "execute_result"
    }
   ],
   "source": [
    "ROE = factor_analysis(roe)\n",
    "ROE.tabs"
   ]
  },
  {
   "cell_type": "markdown",
   "metadata": {},
   "source": [
    "## SinoPac trade"
   ]
  },
  {
   "cell_type": "code",
   "execution_count": 5,
   "metadata": {},
   "outputs": [],
   "source": [
    "money = 1000000\n",
    "portfolio_by_money = {\n",
    "    'roe strategy':(gen_position_info(roe_strategy).weight * money).to_dict(),\n",
    "    'pbr strategy':(gen_position_info(pbr_strategy).weight * money).to_dict(),\n",
    "    'mtm strategy':(gen_position_info(mtm_strategy).weight * money).to_dict(),\n",
    "}"
   ]
  },
  {
   "cell_type": "code",
   "execution_count": 2,
   "metadata": {},
   "outputs": [
    {
     "name": "stdout",
     "output_type": "stream",
     "text": [
      "Response Code: 0 | Event Code: 0 | Info: host '210.59.255.161:80', hostname '210.59.255.161:80' IP 210.59.255.161:80 (host 1 of 1) (host connection attempt 1 of 1) (total connection attempt 1 of 1) | Event: Session up\n",
      "portfolio.json loaded from /Users/jianrui/Desktop/Research/Quant/portfolio/sinopac_portfolio.json\n",
      "portfolio.json matches inventories.\n"
     ]
    }
   ],
   "source": [
    "api = SinoPacAccount()\n",
    "trader = SinoPacTrader(api)"
   ]
  },
  {
   "cell_type": "code",
   "execution_count": 93,
   "metadata": {},
   "outputs": [
    {
     "data": {
      "text/plain": [
       "{'portfolio': {'TW3F': {'2937': 6000},\n",
       "  'SUE01': {'4946': 4498},\n",
       "  'BETA': {'0050': 6143}},\n",
       " 'update_time': '2025-05-05 12:28:25'}"
      ]
     },
     "execution_count": 93,
     "metadata": {},
     "output_type": "execute_result"
    }
   ],
   "source": [
    "class SinoPacTrader:\n",
    "    def __init__(self, api:SinoPacAccount, portfolio_path:str=None, price_tolerance:float=0.02, odd:bool=True):\n",
    "        self.api = api\n",
    "        self.price_tolerance = price_tolerance\n",
    "        self.odd = odd\n",
    "\n",
    "        # portfolio\n",
    "        self.portfolio_path = portfolio_path or config.portfolio_path_config.get('sinopac_portfolio_path')\n",
    "        self.portfolio = self.read_portfolio()\n",
    "        self.check_portfolio_match(self.portfolio)\n",
    "    \n",
    "    def _update_status(self):\n",
    "        return self.api.update_status(self.api.stock_account)\n",
    "\n",
    "    # basic\n",
    "    def list_inventories(self) -> List[sj.position.StockPosition]:\n",
    "        return self.api.list_positions(self.api.stock_account, unit=sj.constant.Unit.Share)\n",
    "\n",
    "    def list_orders(self) -> List[sj.order.Order]:\n",
    "        return self.api.list_trades()\n",
    "\n",
    "    def place_order(self, \n",
    "        stock_id:str, action:Literal['buy', 'sell'], intraday_odd:Literal[0, 1], \n",
    "        price:float, quantity:int, \n",
    "        price_type:Literal['limit', 'mkt']='limit', \n",
    "        order_type:Literal['fok', 'ioc', 'rod']='rod', \n",
    "        trade_type:Literal['cash', 'margin', 'short']='cash', \n",
    "        custom_field:str=None,\n",
    "    ):\n",
    "        param = {\n",
    "            'action':{\n",
    "                'buy':sj.constant.Action.Buy, \n",
    "                'sell':sj.constant.Action.Sell,\n",
    "            },\n",
    "            'intraday_odd':{\n",
    "               0:sj.constant.StockOrderLot.Common, \n",
    "               1:sj.constant.StockOrderLot.IntradayOdd, \n",
    "            #  2:sj.constant.StockOrderLot.Fixing, \n",
    "            #  3:sj.constant.StockOrderLot.Odd, \n",
    "            },\n",
    "            'price_type':{\n",
    "                'limit':sj.constant.StockPriceType.LMT,\n",
    "                'mkt':sj.constant.StockPriceType.MKT,\n",
    "            },\n",
    "            'order_type':{\n",
    "                'fok':sj.constant.OrderType.FOK,\n",
    "                'ioc':sj.constant.OrderType.IOC,\n",
    "                'rod':sj.constant.OrderType.ROD,\n",
    "            },\n",
    "            'trade_type':{\n",
    "                'cash':'Cash',\n",
    "                'margin':'MarginTrading',\n",
    "                'short':'ShortSelling',\n",
    "            },\n",
    "        }\n",
    "        contract = self.api.Contracts.Stocks[stock_id]\n",
    "        order = self.api.Order(\n",
    "            quantity = quantity/1000 if intraday_odd==0 else quantity,\n",
    "            price = price,\n",
    "            action = param['action'][action],\n",
    "            price_type = param['price_type'][price_type],\n",
    "            order_type = param['order_type'][order_type],\n",
    "            order_cond = param['trade_type'][trade_type],\n",
    "            order_lot = param['intraday_odd'][intraday_odd],\n",
    "            custom_field = custom_field,\n",
    "            account=self.api.stock_account,\n",
    "        )\n",
    "\n",
    "        print(f'{action} {quantity} of {stock_id} at {price} for strategy {custom_field}')\n",
    "        return self.api.place_order(contract, order)\n",
    "\n",
    "    def cancel_order(self, order:sj.order.Order):\n",
    "        return self.api.cancel_order(order)\n",
    "   \n",
    "    def get_bank_balance(self)-> float:\n",
    "        return self.api.account_balance().acc_balance\n",
    "    \n",
    "    def get_settlement(self, as_df:bool=False):\n",
    "        settlements = self.api.settlements(self.api.stock_account)\n",
    "        if not as_df:\n",
    "            return settlements\n",
    "        else:\n",
    "            return pd.DataFrame([s.__dict__ for s in settlements]).set_index(\"T\")\n",
    "\n",
    "    # portfolio\n",
    "    def check_portfolio_match(self, portfolio:dict):\n",
    "        agg_json_portfolio = {}\n",
    "        for p in portfolio['portfolio'].values():\n",
    "            for stock_id, quantity in p.items():\n",
    "                if stock_id not in agg_json_portfolio:\n",
    "                    agg_json_portfolio[stock_id] = quantity\n",
    "                else:\n",
    "                    agg_json_portfolio[stock_id] += quantity\n",
    "\n",
    "        agg_inv_portfolio = {i.code:i.quantity * (-1 if i.direction == 'Sell' else 1)  for i in self.list_inventories()}\n",
    "        diff_portfolio = {}\n",
    "        for k, v in agg_json_portfolio.items():\n",
    "            if k not in agg_inv_portfolio:\n",
    "                diff_portfolio[k] = v\n",
    "            else:\n",
    "                diff_portfolio[k] = v - agg_inv_portfolio[k]\n",
    "        diff_portfolio = {k:v for k, v in diff_portfolio.items() if v != 0}\n",
    "        if diff_portfolio=={}:\n",
    "            print('portfolio.json matches inventories.')\n",
    "        else:\n",
    "            print(f'portfolio.json does not match inventories: {diff_portfolio}!')\n",
    "\n",
    "    def update_portfolio(self):\n",
    "        current_portfolio = self.portfolio['portfolio']\n",
    "        last_update_time = dt.datetime.strptime(self.portfolio['update_time'], '%Y-%m-%d %H:%M:%S')\n",
    "        traded_orders={\n",
    "            (order.order.custom_field if order.order.custom_field else 'BETA', order.contract.code):\\\n",
    "            max(order.contract.unit, 1) * \\\n",
    "            (-1 if order.order.action=='Sell' else 1) * \\\n",
    "            sum([deal.quantity for deal in order.status.deals if dt.datetime.fromtimestamp(deal.ts) > last_update_time])\n",
    "            for order in self.list_orders() if \\\n",
    "            (order.status.status in ['Filled', 'Filling'])\n",
    "        }\n",
    "\n",
    "        for k, v in traded_orders.items():\n",
    "            if current_portfolio.get(k[0]).get(k[1]):\n",
    "                current_portfolio[k[0]][k[1]] += v\n",
    "        self.portfolio['portfolio'] = current_portfolio\n",
    "        self.portfolio['update_time'] = dt.datetime.now().strftime('%Y-%m-%d %H:%M:%S')\n",
    "    \n",
    "    def read_portfolio(self):\n",
    "        path = self.portfolio_path\n",
    "        print(f'portfolio.json loaded from {path}')\n",
    "        return json.load(open(f'{path}', 'r'))\n",
    "\n",
    "    def write_portfolio(self):\n",
    "        self.update_portfolio()\n",
    "        path = self.portfolio_path\n",
    "        with open(f'{path}', 'w') as f:\n",
    "            json.dump(self.portfolio, f)\n",
    "        print(f'portfolio.json saved to {path}')\n",
    "\n",
    "    # trade\n",
    "    def settlement_is_enough(self, diff_portfolio:Dict[str, List[Position]]) -> bool:\n",
    "        try:\n",
    "            bank_balance = self.get_bank_balance()\n",
    "            settlement = sum([int(i['amount']) for i in self.get_settlement()])\n",
    "            portfolio_money = sum([sum([p.round_price*p.round_qty+p.odd_price*p.odd_qty for p in positions]) for positions in diff_portfolio.values()])\n",
    "            \n",
    "            return (bank_balance + settlement - portfolio_money) >= 0\n",
    "        except Exception as e:\n",
    "            print(f'error when checking settlement: {e}')\n",
    "            return True\n",
    "        \n",
    "    def check_portfolio_difference(self,new_portfolio:Dict[str, List[Dict[str, Union[int, float]]]], by:Literal['money', 'quantity']='money'):\n",
    "        difference_portfolio = {}\n",
    "        if by == 'money':\n",
    "            for strategy, positions in new_portfolio.items():\n",
    "                difference_portfolio[strategy] = []\n",
    "                current_strategy = self.portfolio['portfolio'].get(strategy, {})\n",
    "                \n",
    "                def process_money(stock_id, money):\n",
    "                    inv_money = current_strategy.get(stock_id, 0) * next((inv.price for inv in trader.list_inventories() if inv.code == stock_id), 0)\n",
    "                    position = Position().from_money(stock_id, money - inv_money)\n",
    "                    if not position.empty:\n",
    "                        return position\n",
    "                    return None\n",
    "                \n",
    "                with ThreadPoolExecutor() as executor:\n",
    "                    futures = [executor.submit(process_money, stock_id, money) for stock_id, money in positions.items()]\n",
    "                    for future in as_completed(futures):\n",
    "                        position = future.result()\n",
    "                        if position:\n",
    "                            difference_portfolio[strategy].append(position)   \n",
    "        elif by == 'quantity':\n",
    "            for strategy, positions in new_portfolio.items():\n",
    "                difference_portfolio[strategy] = []\n",
    "                current_strategy = self.portfolio['portfolio'].get(strategy, {})\n",
    "                \n",
    "                def process_quantity(stock_id, quantity):\n",
    "                    inv_quantity = current_strategy.get(stock_id, 0)\n",
    "                    position = Position().from_quantity(stock_id, quantity - inv_quantity)\n",
    "                    if not position.empty:\n",
    "                        return position\n",
    "                    return None\n",
    "                \n",
    "                with ThreadPoolExecutor() as executor:\n",
    "                    futures = [executor.submit(process_quantity, stock_id, quantity) for stock_id, quantity in positions.items()]\n",
    "                    for future in as_completed(futures):\n",
    "                        position = future.result()\n",
    "                        if position:\n",
    "                            difference_portfolio[strategy].append(position)\n",
    "        return difference_portfolio\n",
    "    \n",
    "    def trade_position(self, position:Position, strategy_name:str=None):\n",
    "        action = 'buy' if ((position.round_qty+position.odd_qty)>0) else 'sell'\n",
    "        # place round order\n",
    "        if position.round_qty!=0:\n",
    "            self.place_order(\n",
    "                stock_id=position.stock_id,\n",
    "                action=action,\n",
    "                intraday_odd=0,\n",
    "                price=position.round_price,\n",
    "                quantity=abs(position.round_qty),\n",
    "                custom_field=strategy_name,\n",
    "            )\n",
    "        \n",
    "        # place odd order\n",
    "        if position.odd_qty!=0:\n",
    "            self.place_order(\n",
    "                stock_id=position.stock_id,\n",
    "                action=action,\n",
    "                intraday_odd=1,\n",
    "                price=position.odd_price,\n",
    "                quantity=abs(position.odd_qty),\n",
    "                custom_field=strategy_name,\n",
    "            )\n",
    "\n",
    "    def rebalance(self, new_portfolio:Dict[str, List[Dict[str, Union[int, float]]]], by:Literal['money', 'quantity']='money', freq:int=1, ignore_mkt_open:bool=False, ignore_settlement:bool=False):\n",
    "        while True:\n",
    "            # machine time\n",
    "            print(f\"Current time: {dt.datetime.now().time().strftime('%H:%M:%S')}\")\n",
    "            if (not ignore_mkt_open) and (not mkt_is_open()):\n",
    "                print(\"Market is closed.\")\n",
    "                break\n",
    "            \n",
    "            # cancel all orders\n",
    "            self._update_status()\n",
    "            for order in self.list_orders():\n",
    "                if order['status']['status'] not in ['Filled', 'Cancelled', 'Failed']:\n",
    "                    self.cancel_order(order)\n",
    "\n",
    "            # update portfolio\n",
    "            self.update_portfolio()\n",
    "\n",
    "            # check difference\n",
    "            diff_portfolio = self.check_portfolio_difference(new_portfolio, by=by)\n",
    "\n",
    "            if (not ignore_settlement) and (not self.settlement_is_enough(diff_portfolio)):\n",
    "                print(\"Settlement is not enough for position!\")\n",
    "                break\n",
    "            \n",
    "            if not all(v==[] for v in diff_portfolio.values()):\n",
    "                # trade\n",
    "                for strategy_name, positions in diff_portfolio.items():\n",
    "                    for position in positions:\n",
    "                        self.trade_position(position, strategy_name)\n",
    "            else:\n",
    "                print('Portfolio is all filled.')\n",
    "                self.write_portfolio()\n",
    "                break\n",
    "            \n",
    "            time.sleep(60*freq)"
   ]
  },
  {
   "cell_type": "code",
   "execution_count": 112,
   "metadata": {},
   "outputs": [
    {
     "data": {
      "text/plain": [
       "{'TW3F': []}"
      ]
     },
     "execution_count": 112,
     "metadata": {},
     "output_type": "execute_result"
    }
   ],
   "source": [
    "check_portfolio_difference(new_portfolio={'TW3F':{}}, by='quantity')"
   ]
  },
  {
   "cell_type": "code",
   "execution_count": 6,
   "metadata": {},
   "outputs": [],
   "source": [
    "from concurrent.futures import ThreadPoolExecutor, as_completed\n",
    "def check_portfolio_difference(new_portfolio:Dict[str, List[Dict[str, Union[int, float]]]], by:Literal['money', 'quantity']='money'):\n",
    "    difference_portfolio = {}\n",
    "    if by == 'money':\n",
    "        for strategy, positions in new_portfolio.items():\n",
    "            difference_portfolio[strategy] = []\n",
    "            current_strategy = trader.portfolio['portfolio'].get(strategy, {})\n",
    "            \n",
    "            def process_money(stock_id, money):\n",
    "                inv_money = current_strategy.get(stock_id, 0) * next((inv.price for inv in trader.list_inventories() if inv.code == stock_id), 0)\n",
    "                position = Position().from_money(stock_id, money - inv_money)\n",
    "                if not position.empty:\n",
    "                    return position\n",
    "                return None\n",
    "            \n",
    "            with ThreadPoolExecutor() as executor:\n",
    "                futures = [executor.submit(process_money, stock_id, money) for stock_id, money in positions.items()]\n",
    "                for future in as_completed(futures):\n",
    "                    position = future.result()\n",
    "                    if position:\n",
    "                        difference_portfolio[strategy].append(position)\n",
    "                        \n",
    "    elif by == 'quantity':\n",
    "        for strategy, positions in new_portfolio.items():\n",
    "            difference_portfolio[strategy] = []\n",
    "            current_strategy = trader.portfolio['portfolio'].get(strategy, {})\n",
    "            \n",
    "            def process_quantity(stock_id, quantity):\n",
    "                inv_quantity = current_strategy.get(stock_id, 0)\n",
    "                position = Position().from_quantity(stock_id, quantity - inv_quantity)\n",
    "                if not position.empty:\n",
    "                    return position\n",
    "                return None\n",
    "            \n",
    "            with ThreadPoolExecutor() as executor:\n",
    "                futures = [executor.submit(process_quantity, stock_id, quantity) for stock_id, quantity in positions.items()]\n",
    "                for future in as_completed(futures):\n",
    "                    position = future.result()\n",
    "                    if position:\n",
    "                        difference_portfolio[strategy].append(position)\n",
    "    return difference_portfolio\n",
    "\n",
    "def trade_position(position:Position, strategy_name:str=None):\n",
    "    \n",
    "    action = 'buy' if ((position.round_qty+position.odd_qty)>0) else 'sell'\n",
    "    # place round order\n",
    "    if position.round_qty!=0:\n",
    "        trader.place_order(\n",
    "            stock_id=position.stock_id,\n",
    "            action=action,\n",
    "            intraday_odd=0,\n",
    "            price=position.round_price,\n",
    "            quantity=abs(position.round_qty),\n",
    "            custom_field=strategy_name,\n",
    "        )\n",
    "    \n",
    "    # place odd order\n",
    "    if position.odd_qty!=0:\n",
    "        self.place_order(\n",
    "            stock_id=position.stock_id,\n",
    "            action=action,\n",
    "            intraday_odd=1,\n",
    "            price=position.odd_price,\n",
    "            quantity=abs(position.odd_qty),\n",
    "            custom_field=strategy_name,\n",
    "        )\n",
    "\n",
    "def rebalance(portfolio:Dict[str, List[Dict[str, Union[int, float]]]], by:Literal['money', 'quantity']='money', freq:int=1):\n",
    "\n",
    "    while True:\n",
    "        # cancel all orders\n",
    "        trader._update_status()\n",
    "        for order in trader.list_orders():\n",
    "            if order['status']['status'] not in ['Filled', 'Cancelled', 'Failed']:\n",
    "                trader.cancel_order(order)\n",
    "\n",
    "        # update portfolio\n",
    "        trader.update_portfolio()\n",
    "\n",
    "        # check difference\n",
    "        diff_portfolio = check_portfolio_difference(portfolio, by=by)\n",
    "        \n",
    "        if not all(v==[] for v in diff_portfolio.values()):\n",
    "            # trade\n",
    "            for strategy, positions in diff_portfolio.items():\n",
    "                for position in positions:\n",
    "                    trader.trade_position(position, strategy)\n",
    "        else:\n",
    "            print('Portfolio is all filled.')\n",
    "            trader.update_portfolio()\n",
    "            trader.write_portfolio()\n",
    "            break\n",
    "        \n",
    "        time.sleep(60*freq)\n",
    "\n"
   ]
  },
  {
   "cell_type": "code",
   "execution_count": 7,
   "metadata": {},
   "outputs": [
    {
     "data": {
      "text/plain": [
       "{'stock_id': '2937', 'round_price': 43.85, 'odd_price': 43.05, 'round_qty': -2000.0, 'odd_qty': 0}"
      ]
     },
     "execution_count": 7,
     "metadata": {},
     "output_type": "execute_result"
    }
   ],
   "source": [
    "Position().from_quantity('2937', -2000)"
   ]
  },
  {
   "cell_type": "code",
   "execution_count": 114,
   "metadata": {},
   "outputs": [
    {
     "data": {
      "text/plain": [
       "{('TW3F', '2937'): 0, ('BETA', '0050'): 0}"
      ]
     },
     "execution_count": 114,
     "metadata": {},
     "output_type": "execute_result"
    }
   ],
   "source": [
    "# max(order.contract.unit, 1) * -1 if order.order.action=='Sell' else 1\n",
    "# trader._update_status()\n",
    "# current_portfolio = trader.portfolio['portfolio']\n",
    "# last_update_time = dt.datetime.strptime(trader.portfolio['update_time'], '%Y-%m-%d %H:%M:%S')\n",
    "traded_orders={\n",
    "    (order.order.custom_field if order.order.custom_field else 'BETA', order.contract.code):\\\n",
    "    max(order.contract.unit, 1) * \\\n",
    "    (-1 if order.order.action=='Sell' else 1) * \\\n",
    "    sum([deal.quantity for deal in order.status.deals if dt.datetime.fromtimestamp(deal.ts) > last_update_time])\n",
    "    for order in trader.list_orders()\n",
    "}\n",
    "traded_orders\n",
    "# for k, v in traded_orders.items():\n",
    "#     if current_portfolio.get(k[0]).get(k[1]):\n",
    "#         current_portfolio[k[0]][k[1]] += v\n",
    "# trader.portfolio['portfolio'] = current_portfolio\n",
    "# trader.portfolio['update_time'] = dt.datetime.now().strftime('%Y-%m-%d %H:%M:%S')"
   ]
  },
  {
   "cell_type": "code",
   "execution_count": 116,
   "metadata": {},
   "outputs": [
    {
     "name": "stdout",
     "output_type": "stream",
     "text": [
      "portfolio.json saved to /Users/jianrui/Desktop/Research/Quant/portfolio/sinopac_portfolio.json\n"
     ]
    }
   ],
   "source": [
    "trader.write_portfolio()"
   ]
  },
  {
   "cell_type": "code",
   "execution_count": 120,
   "metadata": {},
   "outputs": [
    {
     "ename": "FileNotFoundError",
     "evalue": "[Errno 2] No such file or directory: '/Users/jianrui/Desktop/Research/Quant/portfolio/fubon_portfolio.json'",
     "output_type": "error",
     "traceback": [
      "\u001b[0;31m---------------------------------------------------------------------------\u001b[0m",
      "\u001b[0;31mFileNotFoundError\u001b[0m                         Traceback (most recent call last)",
      "Cell \u001b[0;32mIn[120], line 2\u001b[0m\n\u001b[1;32m      1\u001b[0m path \u001b[38;5;241m=\u001b[39m config\u001b[38;5;241m.\u001b[39mportfolio_path_config\u001b[38;5;241m.\u001b[39mget(\u001b[38;5;124m'\u001b[39m\u001b[38;5;124mfubon_portfolio_path\u001b[39m\u001b[38;5;124m'\u001b[39m)\n\u001b[0;32m----> 2\u001b[0m json\u001b[38;5;241m.\u001b[39mload(\u001b[38;5;28;43mopen\u001b[39;49m\u001b[43m(\u001b[49m\u001b[38;5;124;43mf\u001b[39;49m\u001b[38;5;124;43m'\u001b[39;49m\u001b[38;5;132;43;01m{\u001b[39;49;00m\u001b[43mpath\u001b[49m\u001b[38;5;132;43;01m}\u001b[39;49;00m\u001b[38;5;124;43m'\u001b[39;49m\u001b[43m,\u001b[49m\u001b[43m \u001b[49m\u001b[38;5;124;43m'\u001b[39;49m\u001b[38;5;124;43mr\u001b[39;49m\u001b[38;5;124;43m'\u001b[39;49m\u001b[43m)\u001b[49m)\n",
      "File \u001b[0;32m~/Documents/GitHub/.conda/lib/python3.10/site-packages/IPython/core/interactiveshell.py:324\u001b[0m, in \u001b[0;36m_modified_open\u001b[0;34m(file, *args, **kwargs)\u001b[0m\n\u001b[1;32m    317\u001b[0m \u001b[38;5;28;01mif\u001b[39;00m file \u001b[38;5;129;01min\u001b[39;00m {\u001b[38;5;241m0\u001b[39m, \u001b[38;5;241m1\u001b[39m, \u001b[38;5;241m2\u001b[39m}:\n\u001b[1;32m    318\u001b[0m     \u001b[38;5;28;01mraise\u001b[39;00m \u001b[38;5;167;01mValueError\u001b[39;00m(\n\u001b[1;32m    319\u001b[0m         \u001b[38;5;124mf\u001b[39m\u001b[38;5;124m\"\u001b[39m\u001b[38;5;124mIPython won\u001b[39m\u001b[38;5;124m'\u001b[39m\u001b[38;5;124mt let you open fd=\u001b[39m\u001b[38;5;132;01m{\u001b[39;00mfile\u001b[38;5;132;01m}\u001b[39;00m\u001b[38;5;124m by default \u001b[39m\u001b[38;5;124m\"\u001b[39m\n\u001b[1;32m    320\u001b[0m         \u001b[38;5;124m\"\u001b[39m\u001b[38;5;124mas it is likely to crash IPython. If you know what you are doing, \u001b[39m\u001b[38;5;124m\"\u001b[39m\n\u001b[1;32m    321\u001b[0m         \u001b[38;5;124m\"\u001b[39m\u001b[38;5;124myou can use builtins\u001b[39m\u001b[38;5;124m'\u001b[39m\u001b[38;5;124m open.\u001b[39m\u001b[38;5;124m\"\u001b[39m\n\u001b[1;32m    322\u001b[0m     )\n\u001b[0;32m--> 324\u001b[0m \u001b[38;5;28;01mreturn\u001b[39;00m \u001b[43mio_open\u001b[49m\u001b[43m(\u001b[49m\u001b[43mfile\u001b[49m\u001b[43m,\u001b[49m\u001b[43m \u001b[49m\u001b[38;5;241;43m*\u001b[39;49m\u001b[43margs\u001b[49m\u001b[43m,\u001b[49m\u001b[43m \u001b[49m\u001b[38;5;241;43m*\u001b[39;49m\u001b[38;5;241;43m*\u001b[39;49m\u001b[43mkwargs\u001b[49m\u001b[43m)\u001b[49m\n",
      "\u001b[0;31mFileNotFoundError\u001b[0m: [Errno 2] No such file or directory: '/Users/jianrui/Desktop/Research/Quant/portfolio/fubon_portfolio.json'"
     ]
    },
    {
     "name": "stderr",
     "output_type": "stream",
     "text": [
      "SDK NOTICE Mon May 05 14:47:18.080 2025 solClient.c:11120                    (30c093000) Session '(c0,s1)_sinopac' keep-alive on tcp_TxRx detected session down, client name 'PYAPI/A127945492/0505/021435/054841/101.10.82.94', VPN name 'sinopac', peer host '210.59.255.161:80' address 'IP 210.59.255.161', connection 'tcp_TxRx' local address 'IP 172.20.10.8:53945'\n",
      "SDK NOTICE Mon May 05 14:47:18.084 2025 solClientOS.c:4658                   (30c093000) TCP connection failure for fd 82, error = Network is unreachable (51)\n",
      "SDK NOTICE Mon May 05 14:47:18.084 2025 solClient.c:5028                     (30c093000) Session '(c0,s1)_sinopac', could not open transport for tcp_TxRx\n",
      "SDK NOTICE Mon May 05 14:47:18.084 2025 solClient.c:10165                    (30c093000) Session '(c0,s1)_sinopac' error attempting transport connection, client name 'PYAPI/A127945492/0505/021435/054841/101.10.82.94', VPN name 'sinopac', peer host '210.59.255.161:80' address 'IP 210.59.255.161', connection 'tcp_TxRx' local address 'IP 0.0.0.0:58317'\n",
      "SDK NOTICE Mon May 05 14:47:18.084 2025 solClient.c:10320                    (30c093000) Protocol or communication error when attempting to login for session '(c0,s1)_sinopac'; are session HOST and PORT correct? client name 'PYAPI/A127945492/0505/021435/054841/101.10.82.94', VPN name 'sinopac', peer host '210.59.255.161:80' address 'IP 210.59.255.161', connection 'tcp_TxRx' local address 'IP 0.0.0.0:58317'\n"
     ]
    },
    {
     "name": "stdout",
     "output_type": "stream",
     "text": [
      "Response Code: 0 | Event Code: 12 | Info: Session '(c0,s1)_sinopac' keep-alive on tcp_TxRx detected session down, client name 'PYAPI/A127945492/0505/021435/054841/101.10.82.94', VPN name 'sinopac', peer host '210.59.255.161:80' address 'IP 210.59.255.161', connection 'tcp_TxRx' local address 'IP  | Event: Session reconnecting\n"
     ]
    },
    {
     "name": "stderr",
     "output_type": "stream",
     "text": [
      "SDK NOTICE Mon May 05 14:47:21.152 2025 solClientOS.c:4658                   (30c093000) TCP connection failure for fd 83, error = Network is unreachable (51)\n",
      "SDK NOTICE Mon May 05 14:47:21.152 2025 solClient.c:5028                     (30c093000) Session '(c0,s1)_sinopac', could not open transport for tcp_TxRx\n",
      "SDK NOTICE Mon May 05 14:47:21.152 2025 solClient.c:10165                    (30c093000) Session '(c0,s1)_sinopac' error attempting transport connection, client name 'PYAPI/A127945492/0505/021435/054841/101.10.82.94', VPN name 'sinopac', peer host '210.59.255.161:80' address 'IP 210.59.255.161', connection 'tcp_TxRx' local address 'IP 0.0.0.0:58318'\n",
      "SDK NOTICE Mon May 05 14:47:21.152 2025 solClient.c:10320                    (30c093000) Protocol or communication error when attempting to login for session '(c0,s1)_sinopac'; are session HOST and PORT correct? client name 'PYAPI/A127945492/0505/021435/054841/101.10.82.94', VPN name 'sinopac', peer host '210.59.255.161:80' address 'IP 210.59.255.161', connection 'tcp_TxRx' local address 'IP 0.0.0.0:58318'\n",
      "SDK NOTICE Mon May 05 14:47:24.190 2025 solClientOS.c:4658                   (30c093000) TCP connection failure for fd 83, error = Network is unreachable (51)\n",
      "SDK NOTICE Mon May 05 14:47:24.190 2025 solClient.c:5028                     (30c093000) Session '(c0,s1)_sinopac', could not open transport for tcp_TxRx\n",
      "SDK NOTICE Mon May 05 14:47:24.190 2025 solClient.c:10165                    (30c093000) Session '(c0,s1)_sinopac' error attempting transport connection, client name 'PYAPI/A127945492/0505/021435/054841/101.10.82.94', VPN name 'sinopac', peer host '210.59.255.161:80' address 'IP 210.59.255.161', connection 'tcp_TxRx' local address 'IP 0.0.0.0:58319'\n",
      "SDK NOTICE Mon May 05 14:47:24.190 2025 solClient.c:10320                    (30c093000) Protocol or communication error when attempting to login for session '(c0,s1)_sinopac'; are session HOST and PORT correct? client name 'PYAPI/A127945492/0505/021435/054841/101.10.82.94', VPN name 'sinopac', peer host '210.59.255.161:80' address 'IP 210.59.255.161', connection 'tcp_TxRx' local address 'IP 0.0.0.0:58319'\n",
      "SDK NOTICE Mon May 05 14:47:27.257 2025 solClientOS.c:4658                   (30c093000) TCP connection failure for fd 83, error = Network is unreachable (51)\n",
      "SDK NOTICE Mon May 05 14:47:27.257 2025 solClient.c:5028                     (30c093000) Session '(c0,s1)_sinopac', could not open transport for tcp_TxRx\n",
      "SDK NOTICE Mon May 05 14:47:27.257 2025 solClient.c:10165                    (30c093000) Session '(c0,s1)_sinopac' error attempting transport connection, client name 'PYAPI/A127945492/0505/021435/054841/101.10.82.94', VPN name 'sinopac', peer host '210.59.255.161:80' address 'IP 210.59.255.161', connection 'tcp_TxRx' local address 'IP 0.0.0.0:58320'\n",
      "SDK NOTICE Mon May 05 14:47:27.257 2025 solClient.c:10320                    (30c093000) Protocol or communication error when attempting to login for session '(c0,s1)_sinopac'; are session HOST and PORT correct? client name 'PYAPI/A127945492/0505/021435/054841/101.10.82.94', VPN name 'sinopac', peer host '210.59.255.161:80' address 'IP 210.59.255.161', connection 'tcp_TxRx' local address 'IP 0.0.0.0:58320'\n",
      "SDK NOTICE Mon May 05 14:47:30.287 2025 solClientOS.c:4658                   (30c093000) TCP connection failure for fd 83, error = Network is unreachable (51)\n",
      "SDK NOTICE Mon May 05 14:47:30.287 2025 solClient.c:5028                     (30c093000) Session '(c0,s1)_sinopac', could not open transport for tcp_TxRx\n",
      "SDK NOTICE Mon May 05 14:47:30.287 2025 solClient.c:10165                    (30c093000) Session '(c0,s1)_sinopac' error attempting transport connection, client name 'PYAPI/A127945492/0505/021435/054841/101.10.82.94', VPN name 'sinopac', peer host '210.59.255.161:80' address 'IP 210.59.255.161', connection 'tcp_TxRx' local address 'IP 0.0.0.0:58321'\n",
      "SDK NOTICE Mon May 05 14:47:30.287 2025 solClient.c:10320                    (30c093000) Protocol or communication error when attempting to login for session '(c0,s1)_sinopac'; are session HOST and PORT correct? client name 'PYAPI/A127945492/0505/021435/054841/101.10.82.94', VPN name 'sinopac', peer host '210.59.255.161:80' address 'IP 210.59.255.161', connection 'tcp_TxRx' local address 'IP 0.0.0.0:58321'\n",
      "SDK NOTICE Mon May 05 14:47:33.382 2025 solClientOS.c:4658                   (30c093000) TCP connection failure for fd 83, error = Network is unreachable (51)\n",
      "SDK NOTICE Mon May 05 14:47:33.382 2025 solClient.c:5028                     (30c093000) Session '(c0,s1)_sinopac', could not open transport for tcp_TxRx\n",
      "SDK NOTICE Mon May 05 14:47:33.382 2025 solClient.c:10165                    (30c093000) Session '(c0,s1)_sinopac' error attempting transport connection, client name 'PYAPI/A127945492/0505/021435/054841/101.10.82.94', VPN name 'sinopac', peer host '210.59.255.161:80' address 'IP 210.59.255.161', connection 'tcp_TxRx' local address 'IP 0.0.0.0:58322'\n",
      "SDK NOTICE Mon May 05 14:47:33.382 2025 solClient.c:10320                    (30c093000) Protocol or communication error when attempting to login for session '(c0,s1)_sinopac'; are session HOST and PORT correct? client name 'PYAPI/A127945492/0505/021435/054841/101.10.82.94', VPN name 'sinopac', peer host '210.59.255.161:80' address 'IP 210.59.255.161', connection 'tcp_TxRx' local address 'IP 0.0.0.0:58322'\n",
      "SDK NOTICE Mon May 05 14:47:36.466 2025 solClientOS.c:4658                   (30c093000) TCP connection failure for fd 83, error = Network is unreachable (51)\n",
      "SDK NOTICE Mon May 05 14:47:36.466 2025 solClient.c:5028                     (30c093000) Session '(c0,s1)_sinopac', could not open transport for tcp_TxRx\n",
      "SDK NOTICE Mon May 05 14:47:36.466 2025 solClient.c:10165                    (30c093000) Session '(c0,s1)_sinopac' error attempting transport connection, client name 'PYAPI/A127945492/0505/021435/054841/101.10.82.94', VPN name 'sinopac', peer host '210.59.255.161:80' address 'IP 210.59.255.161', connection 'tcp_TxRx' local address 'IP 0.0.0.0:58323'\n",
      "SDK NOTICE Mon May 05 14:47:36.466 2025 solClient.c:10320                    (30c093000) Protocol or communication error when attempting to login for session '(c0,s1)_sinopac'; are session HOST and PORT correct? client name 'PYAPI/A127945492/0505/021435/054841/101.10.82.94', VPN name 'sinopac', peer host '210.59.255.161:80' address 'IP 210.59.255.161', connection 'tcp_TxRx' local address 'IP 0.0.0.0:58323'\n",
      "SDK NOTICE Mon May 05 16:15:33.709 2025 solClientOS.c:4658                   (30c093000) TCP connection failure for fd 83, error = Network is unreachable (51)\n",
      "SDK NOTICE Mon May 05 16:15:33.709 2025 solClient.c:5028                     (30c093000) Session '(c0,s1)_sinopac', could not open transport for tcp_TxRx\n",
      "SDK NOTICE Mon May 05 16:15:33.709 2025 solClient.c:10165                    (30c093000) Session '(c0,s1)_sinopac' error attempting transport connection, client name 'PYAPI/A127945492/0505/021435/054841/101.10.82.94', VPN name 'sinopac', peer host '210.59.255.161:80' address 'IP 210.59.255.161', connection 'tcp_TxRx' local address 'IP 0.0.0.0:58324'\n",
      "SDK NOTICE Mon May 05 16:15:33.709 2025 solClient.c:10320                    (30c093000) Protocol or communication error when attempting to login for session '(c0,s1)_sinopac'; are session HOST and PORT correct? client name 'PYAPI/A127945492/0505/021435/054841/101.10.82.94', VPN name 'sinopac', peer host '210.59.255.161:80' address 'IP 210.59.255.161', connection 'tcp_TxRx' local address 'IP 0.0.0.0:58324'\n",
      "SDK NOTICE Mon May 05 16:15:36.747 2025 solClientOS.c:4658                   (30c093000) TCP connection failure for fd 83, error = Network is unreachable (51)\n",
      "SDK NOTICE Mon May 05 16:15:36.747 2025 solClient.c:5028                     (30c093000) Session '(c0,s1)_sinopac', could not open transport for tcp_TxRx\n",
      "SDK NOTICE Mon May 05 16:15:36.747 2025 solClient.c:10165                    (30c093000) Session '(c0,s1)_sinopac' error attempting transport connection, client name 'PYAPI/A127945492/0505/021435/054841/101.10.82.94', VPN name 'sinopac', peer host '210.59.255.161:80' address 'IP 210.59.255.161', connection 'tcp_TxRx' local address 'IP 0.0.0.0:58325'\n",
      "SDK NOTICE Mon May 05 16:15:36.747 2025 solClient.c:10320                    (30c093000) Protocol or communication error when attempting to login for session '(c0,s1)_sinopac'; are session HOST and PORT correct? client name 'PYAPI/A127945492/0505/021435/054841/101.10.82.94', VPN name 'sinopac', peer host '210.59.255.161:80' address 'IP 210.59.255.161', connection 'tcp_TxRx' local address 'IP 0.0.0.0:58325'\n",
      "SDK NOTICE Mon May 05 16:15:39.833 2025 solClientOS.c:4658                   (30c093000) TCP connection failure for fd 83, error = Network is unreachable (51)\n",
      "SDK NOTICE Mon May 05 16:15:39.833 2025 solClient.c:5028                     (30c093000) Session '(c0,s1)_sinopac', could not open transport for tcp_TxRx\n",
      "SDK NOTICE Mon May 05 16:15:39.833 2025 solClient.c:10165                    (30c093000) Session '(c0,s1)_sinopac' error attempting transport connection, client name 'PYAPI/A127945492/0505/021435/054841/101.10.82.94', VPN name 'sinopac', peer host '210.59.255.161:80' address 'IP 210.59.255.161', connection 'tcp_TxRx' local address 'IP 0.0.0.0:58326'\n",
      "SDK NOTICE Mon May 05 16:15:39.833 2025 solClient.c:10320                    (30c093000) Protocol or communication error when attempting to login for session '(c0,s1)_sinopac'; are session HOST and PORT correct? client name 'PYAPI/A127945492/0505/021435/054841/101.10.82.94', VPN name 'sinopac', peer host '210.59.255.161:80' address 'IP 210.59.255.161', connection 'tcp_TxRx' local address 'IP 0.0.0.0:58326'\n"
     ]
    },
    {
     "name": "stdout",
     "output_type": "stream",
     "text": [
      "Session Down.\n",
      "Response Code: 0 | Event Code: 1 | Info: TCP connection failure for fd 83, error = Network is unreachable (51) | Event: Session down\n"
     ]
    }
   ],
   "source": [
    "path = config.portfolio_path_config.get('fubon_portfolio_path')\n",
    "try:\n",
    "    json.load(open(f'{path}', 'r'))\n",
    "except FileNotFoundError:\n",
    "    print(f\"Creating new portfolio file at {path}\")\n",
    "    default_portfolio = {\n",
    "        'portfolio': {},\n",
    "        'update_time': dt.datetime.now().strftime('%Y-%m-%d %H:%M:%S')\n",
    "    }\n",
    "    with open(f'{path}', 'w') as f:\n",
    "        json.dump(default_portfolio, f)\n",
    "    return default_portfolio"
   ]
  },
  {
   "cell_type": "code",
   "execution_count": 48,
   "metadata": {},
   "outputs": [
    {
     "data": {
      "text/plain": [
       "[Trade(contract=Stock(exchange=<Exchange.OTC: 'OTC'>, code='2937', symbol='OTC2937', name='集雅社', category='38', unit=1000, limit_up=48.4, limit_down=39.6, reference=44.0, update_date='2025/05/05'), order=Order(action=<Action.Sell: 'Sell'>, price=43.85, quantity=2, id='d43be698', seqno='295826', ordno='Y02VQ', account=Account(account_type=<AccountType.Stock: 'S'>, person_id='A127945492', broker_id='9A98', account_id='0284473', signed=True), custom_field='TW3F', price_type=<StockPriceType.LMT: 'LMT'>, order_type=<OrderType.ROD: 'ROD'>), status=OrderStatus(id='d43be698', status=<Status.Filled: 'Filled'>, status_code='00', web_id='137', order_datetime=datetime.datetime(2025, 5, 5, 10, 16, 29), deal_quantity=2, deals=[Deal(seq='807237', price=43.85, quantity=1, ts=1746413226.0), Deal(seq='807762', price=43.85, quantity=1, ts=1746413236.0)])),\n",
       " Trade(contract=Contract(security_type=<SecurityType.Stock: 'STK'>, exchange=<Exchange.TSE: 'TSE'>, code='0050'), order=Order(action=<Action.Sell: 'Sell'>, price=170.6, quantity=57, id='4f0d7c7a', seqno='37987T', ordno='Y03GE', account=Account(account_type=<AccountType.Stock: 'S'>, person_id='A127945492', broker_id='9A98', account_id='0284473', signed=True), price_type=<StockPriceType.LMT: 'LMT'>, order_type=<OrderType.ROD: 'ROD'>, order_lot=<StockOrderLot.IntradayOdd: 'IntradayOdd'>), status=OrderStatus(id='4f0d7c7a', status=<Status.Filled: 'Filled'>, status_code='00', web_id='267', order_datetime=datetime.datetime(2025, 5, 5, 10, 56, 10), deal_quantity=57, deals=[Deal(seq='000240', price=170.7, quantity=49, ts=1746413770.0), Deal(seq='000239', price=170.7, quantity=8, ts=1746413770.0)]))]"
      ]
     },
     "execution_count": 48,
     "metadata": {},
     "output_type": "execute_result"
    }
   ],
   "source": [
    "[order for order in trader.list_orders() if \\\n",
    " (order.status.order_datetime > dt.datetime.strptime(trader.portfolio['update_time'], '%Y-%m-%d %H:%M:%S')) &\\\n",
    " (order.status.status in ['Filled', 'Filling'])]"
   ]
  },
  {
   "cell_type": "code",
   "execution_count": 22,
   "metadata": {},
   "outputs": [
    {
     "name": "stdout",
     "output_type": "stream",
     "text": [
      "Unix timestamp 1746413226.0 converts to datetime: 2025-05-05 10:47:06\n"
     ]
    }
   ],
   "source": [
    "# Convert Unix timestamp to datetime\n",
    "timestamp = 1746413226.0\n",
    "datetime_obj = dt.datetime.fromtimestamp(timestamp)\n",
    "print(f\"Unix timestamp {timestamp} converts to datetime: {datetime_obj}\")\n"
   ]
  },
  {
   "cell_type": "code",
   "execution_count": 25,
   "metadata": {},
   "outputs": [
    {
     "data": {
      "text/plain": [
       "{'portfolio': {'TW3F': {'2937': 10000},\n",
       "  'SUE01': {'4946': 4498},\n",
       "  'BETA': {'0050': 6257}},\n",
       " 'update_time': '2025-05-04 11:36:01'}"
      ]
     },
     "execution_count": 25,
     "metadata": {},
     "output_type": "execute_result"
    },
    {
     "name": "stdout",
     "output_type": "stream",
     "text": [
      "OrderState.StockOrder {'operation': {'op_type': 'New', 'op_code': '00', 'op_msg': ''}, 'order': {'id': '4f0d7c7a', 'seqno': '37987T', 'ordno': 'Y03GE', 'account': {'account_type': 'S', 'person_id': '', 'broker_id': '9A98', 'account_id': '0284473', 'signed': True}, 'action': 'Sell', 'price': 170.6, 'quantity': 57, 'order_type': 'ROD', 'price_type': 'LMT', 'order_cond': 'Cash', 'order_lot': 'IntradayOdd', 'custom_field': ''}, 'status': {'id': '4f0d7c7a', 'exchange_ts': 1746413770.486, 'modified_price': 0.0, 'cancel_quantity': 0, 'order_quantity': 57, 'web_id': '267'}, 'contract': {'security_type': 'STK', 'exchange': 'TSE', 'code': '0050', 'symbol': '', 'name': '', 'currency': 'TWD'}}\n",
      "OrderState.StockDeal {'trade_id': '4f0d7c7a', 'seqno': '37987T', 'ordno': 'Y03GE', 'exchange_seq': '000239', 'broker_id': '9A98', 'account_id': '0284473', 'action': 'Sell', 'code': '0050', 'order_cond': 'Cash', 'order_lot': 'IntradayOdd', 'price': 170.7, 'quantity': 8, 'web_id': '267', 'custom_field': '', 'ts': 1746413770.833}\n",
      "OrderState.StockDeal {'trade_id': '4f0d7c7a', 'seqno': '37987T', 'ordno': 'Y03GE', 'exchange_seq': '000240', 'broker_id': '9A98', 'account_id': '0284473', 'action': 'Sell', 'code': '0050', 'order_cond': 'Cash', 'order_lot': 'IntradayOdd', 'price': 170.7, 'quantity': 49, 'web_id': '267', 'custom_field': '', 'ts': 1746413770.833}\n"
     ]
    }
   ],
   "source": [
    "trader.portfolio"
   ]
  },
  {
   "cell_type": "code",
   "execution_count": 18,
   "metadata": {},
   "outputs": [],
   "source": [
    "import datetime as dt\n",
    "\n",
    "# Convert string to datetime object for comparison\n",
    "update_time = dt.datetime.strptime(trader.portfolio['update_time'], '%Y-%m-%d %H:%M:%S')\n",
    "# current_time = dt.datetime(2025, 5, 5, 10, 16, 29)\n",
    "\n",
    "# Compare the two datetime objects\n",
    "# print(f\"Current time: {current_time}\")\n",
    "# print(f\"Update time: {update_time}\")\n",
    "# print(f\"Is current time later than update time? {current_time > update_time}\")"
   ]
  },
  {
   "cell_type": "code",
   "execution_count": 31,
   "metadata": {},
   "outputs": [
    {
     "name": "stdout",
     "output_type": "stream",
     "text": [
      "462500.0\n"
     ]
    },
    {
     "data": {
      "text/plain": [
       "{'TW3F': [{'stock_id': '2937', 'round_price': 43.1, 'round_qty': -10000.0, 'odd_price': 43.2, 'odd_qty': -729.0}]}"
      ]
     },
     "execution_count": 31,
     "metadata": {},
     "output_type": "execute_result"
    }
   ],
   "source": [
    "check_portfolio_difference({'TW3F':{'2937': 0}}, by='money')"
   ]
  },
  {
   "cell_type": "code",
   "execution_count": 37,
   "metadata": {},
   "outputs": [
    {
     "data": {
      "text/plain": [
       "True"
      ]
     },
     "execution_count": 37,
     "metadata": {},
     "output_type": "execute_result"
    }
   ],
   "source": [
    "all(v==[] for v in {'TW3F':[], 'SUE01':[]}.values())"
   ]
  },
  {
   "cell_type": "code",
   "execution_count": 27,
   "metadata": {},
   "outputs": [
    {
     "data": {
      "text/plain": [
       "22500.0"
      ]
     },
     "execution_count": 27,
     "metadata": {},
     "output_type": "execute_result"
    }
   ],
   "source": [
    "(46.25-44)*10000"
   ]
  },
  {
   "cell_type": "code",
   "execution_count": 25,
   "metadata": {},
   "outputs": [
    {
     "data": {
      "text/plain": [
       "31492.800000000003"
      ]
     },
     "execution_count": 25,
     "metadata": {},
     "output_type": "execute_result"
    }
   ],
   "source": [
    "729*43.2"
   ]
  },
  {
   "cell_type": "code",
   "execution_count": 31,
   "metadata": {},
   "outputs": [
    {
     "data": {
      "text/plain": [
       "{'portfolio': {'TW3F': [{'2937': 100000}],\n",
       "  'SUE01': {'4946': 4498},\n",
       "  'BETA': {'0050': 6257}},\n",
       " 'update_time': '2025-05-04 11:36:01'}"
      ]
     },
     "execution_count": 31,
     "metadata": {},
     "output_type": "execute_result"
    }
   ],
   "source": [
    "current_portfolio = trader.portfolio\n",
    "inventories = trader.list_inventories()"
   ]
  },
  {
   "cell_type": "code",
   "execution_count": 11,
   "metadata": {},
   "outputs": [
    {
     "data": {
      "text/plain": [
       "0"
      ]
     },
     "execution_count": 11,
     "metadata": {},
     "output_type": "execute_result"
    }
   ],
   "source": [
    "stock_id = '29371'\n"
   ]
  },
  {
   "cell_type": "code",
   "execution_count": 37,
   "metadata": {},
   "outputs": [
    {
     "data": {
      "text/plain": [
       "dict_keys(['TW3F'])"
      ]
     },
     "execution_count": 37,
     "metadata": {},
     "output_type": "execute_result"
    }
   ],
   "source": [
    "{'TW3F':{'2937': 100000}}.keys()"
   ]
  },
  {
   "cell_type": "code",
   "execution_count": 36,
   "metadata": {},
   "outputs": [
    {
     "name": "stdout",
     "output_type": "stream",
     "text": [
      "{'portfolio': {'TW3F': {'2937': 100000}, 'SUE01': {'4946': 4498}, 'BETA': {'0050': 6257}}, 'update_time': '2025-05-04 11:36:01'}\n"
     ]
    }
   ],
   "source": [
    "check_portfolio_difference({'TW3F':{'2937': 100000}})"
   ]
  },
  {
   "cell_type": "code",
   "execution_count": 20,
   "metadata": {},
   "outputs": [],
   "source": [
    "# trader.rebalance([(inv.code, 0) for inv in trader.list_inventories()])"
   ]
  },
  {
   "cell_type": "code",
   "execution_count": 19,
   "metadata": {},
   "outputs": [
    {
     "data": {
      "text/plain": [
       "[StockPosition(id=0, code='0050', direction=<Action.Buy: 'Buy'>, quantity=6257, price=159.73, last_price=173.5, pnl=83525.0, yd_quantity=6257, margin_purchase_amount=0, collateral=0, short_sale_margin=0, interest=0),\n",
       " StockPosition(id=1, code='2937', direction=<Action.Buy: 'Buy'>, quantity=10000, price=46.25, last_price=44.0, pnl=-24463.0, yd_quantity=10000, margin_purchase_amount=0, collateral=0, short_sale_margin=0, interest=0),\n",
       " StockPosition(id=2, code='4946', direction=<Action.Buy: 'Buy'>, quantity=4498, price=111.16, last_price=190.0, pnl=350853.0, yd_quantity=4498, margin_purchase_amount=0, collateral=0, short_sale_margin=0, interest=0)]"
      ]
     },
     "execution_count": 19,
     "metadata": {},
     "output_type": "execute_result"
    }
   ],
   "source": [
    "trader.list_inventories()"
   ]
  },
  {
   "cell_type": "markdown",
   "metadata": {},
   "source": [
    "## fubon trade"
   ]
  },
  {
   "cell_type": "code",
   "execution_count": 12,
   "metadata": {},
   "outputs": [
    {
     "name": "stdout",
     "output_type": "stream",
     "text": [
      "portfolio.json loaded from /Users/jianrui/Desktop/Research/Quant/portfolio/fubon_portfolio.json\n",
      "portfolio.json matches inventories.\n"
     ]
    }
   ],
   "source": [
    "api = FubonAccount()\n",
    "trader = FubonTrader(api)"
   ]
  },
  {
   "cell_type": "code",
   "execution_count": 11,
   "metadata": {},
   "outputs": [
    {
     "data": {
      "text/plain": [
       "{'portfolio': {'TEST': {'2881': 100}, 'TEST2': {'2881': 1000}},\n",
       " 'update_time': '2025-05-06 12:35:34'}"
      ]
     },
     "execution_count": 11,
     "metadata": {},
     "output_type": "execute_result"
    }
   ],
   "source": [
    "# trader.update_portfolio()\n",
    "trader.portfolio"
   ]
  },
  {
   "cell_type": "code",
   "execution_count": 27,
   "metadata": {},
   "outputs": [
    {
     "name": "stdout",
     "output_type": "stream",
     "text": [
      "portfolio.json saved to /Users/jianrui/Desktop/Research/Quant/portfolio/fubon_portfolio.json\n"
     ]
    }
   ],
   "source": [
    "write_portfolio(trader.portfolio, trader.portfolio_path)"
   ]
  },
  {
   "cell_type": "code",
   "execution_count": 5,
   "metadata": {},
   "outputs": [
    {
     "data": {
      "text/plain": [
       "{'portfolio': {'TEST': {'2881': 100}, 'TEST2': {'2881': 1000}},\n",
       " 'update_time': '2025-05-06 12:34:41'}"
      ]
     },
     "execution_count": 5,
     "metadata": {},
     "output_type": "execute_result"
    }
   ],
   "source": [
    "trader.portfolio"
   ]
  },
  {
   "cell_type": "code",
   "execution_count": 7,
   "metadata": {},
   "outputs": [
    {
     "name": "stdout",
     "output_type": "stream",
     "text": [
      "Current time: 12:35:34\n",
      "Portfolio is all filled.\n",
      "portfolio.json saved to /Users/jianrui/Desktop/Research/Quant/portfolio/fubon_portfolio.json\n"
     ]
    }
   ],
   "source": [
    "trader.rebalance({'TEST':{'2881': 100}, 'TEST2':{'2881': 1000}}, by='quantity', freq=1)\n",
    "# write_portfolio(trader.portfolio)"
   ]
  },
  {
   "cell_type": "code",
   "execution_count": 6,
   "metadata": {},
   "outputs": [
    {
     "data": {
      "text/plain": [
       "{'portfolio': {'TEST': {'2881': 100}, 'TEST2': {'2881': 1000}},\n",
       " 'update_time': '2025-05-06 12:08:47'}"
      ]
     },
     "execution_count": 6,
     "metadata": {},
     "output_type": "execute_result"
    }
   ],
   "source": [
    "trader.portfolio"
   ]
  },
  {
   "cell_type": "code",
   "execution_count": 5,
   "metadata": {},
   "outputs": [],
   "source": [
    "for order in trader.list_orders():\n",
    "    trader.cancel_order(order)"
   ]
  },
  {
   "cell_type": "code",
   "execution_count": 4,
   "metadata": {},
   "outputs": [
    {
     "data": {
      "text/plain": [
       "[Inventory {\n",
       "     date: \"2025/05/06\",\n",
       "     account: \"217177\",\n",
       "     branch_no: \"20210\",\n",
       "     stock_no: \"2881\",\n",
       "     order_type: Stock,\n",
       "     lastday_qty: 0,\n",
       "     buy_qty: 1000,\n",
       "     buy_filled_qty: 1000,\n",
       "     buy_value: 78800,\n",
       "     today_qty: 1000,\n",
       "     tradable_qty: 0,\n",
       "     sell_qty: 0,\n",
       "     sell_filled_qty: 0,\n",
       "     sell_value: 0,\n",
       "     odd: InventoryOdd {\n",
       "         lastday_qty: 0,\n",
       "         buy_qty: 100,\n",
       "         buy_filled_qty: 100,\n",
       "         buy_value: 7900,\n",
       "         today_qty: 100,\n",
       "         tradable_qty: 0,\n",
       "         sell_qty: 0,\n",
       "         sell_filled_qty: 0,\n",
       "         sell_value: 0,\n",
       "     },\n",
       " }]"
      ]
     },
     "execution_count": 4,
     "metadata": {},
     "output_type": "execute_result"
    }
   ],
   "source": [
    "trader.list_inventories()"
   ]
  },
  {
   "cell_type": "code",
   "execution_count": null,
   "metadata": {},
   "outputs": [
    {
     "ename": "AttributeError",
     "evalue": "'FubonTrader' object has no attribute 'settlement_is_enough'",
     "output_type": "error",
     "traceback": [
      "\u001b[0;31m---------------------------------------------------------------------------\u001b[0m",
      "\u001b[0;31mAttributeError\u001b[0m                            Traceback (most recent call last)",
      "Cell \u001b[0;32mIn[28], line 1\u001b[0m\n\u001b[0;32m----> 1\u001b[0m \u001b[43mtrader\u001b[49m\u001b[38;5;241;43m.\u001b[39;49m\u001b[43msettlement_is_enough\u001b[49m()\n",
      "\u001b[0;31mAttributeError\u001b[0m: 'FubonTrader' object has no attribute 'settlement_is_enough'"
     ]
    }
   ],
   "source": [
    "def check_portfolio_match_inventories(portfolio:dict):\n",
    "        agg_json_portfolio = {}\n",
    "        for p in portfolio['portfolio'].values():\n",
    "            for stock_id, quantity in p.items():\n",
    "                if stock_id not in agg_json_portfolio:\n",
    "                    agg_json_portfolio[stock_id] = quantity\n",
    "                else:\n",
    "                    agg_json_portfolio[stock_id] += quantity\n",
    "\n",
    "        agg_inv_portfolio = {i.code:i.quantity * (-1 if i.direction == 'Sell' else 1)  for i in trader.list_inventories()}\n",
    "        diff_portfolio = {}\n",
    "        for k, v in agg_json_portfolio.items():\n",
    "            if k not in agg_inv_portfolio:\n",
    "                diff_portfolio[k] = v\n",
    "            else:\n",
    "                diff_portfolio[k] = v - agg_inv_portfolio[k]\n",
    "        diff_portfolio = {k:v for k, v in diff_portfolio.items() if v != 0}\n",
    "        if diff_portfolio=={}:\n",
    "            print('portfolio.json matches inventories.')\n",
    "        else:\n",
    "            print(f'portfolio.json does not match inventories: {diff_portfolio}!')\n"
   ]
  },
  {
   "cell_type": "code",
   "execution_count": 35,
   "metadata": {},
   "outputs": [
    {
     "data": {
      "text/plain": [
       "{'portfolio': {}, 'update_time': '2025-05-05 17:53:20'}"
      ]
     },
     "execution_count": 35,
     "metadata": {},
     "output_type": "execute_result"
    }
   ],
   "source": [
    "trader.portfolio"
   ]
  },
  {
   "cell_type": "code",
   "execution_count": 6,
   "metadata": {},
   "outputs": [
    {
     "data": {
      "text/plain": [
       "[OrderResult {\n",
       "     function_type: None,\n",
       "     date: \"2025/05/06\",\n",
       "     seq_no: \"02075306775\",\n",
       "     branch_no: \"20210\",\n",
       "     account: \"217177\",\n",
       "     order_no: \"o1287\",\n",
       "     asset_type: 0,\n",
       "     market: \"TAIEX\",\n",
       "     market_type: IntradayOdd,\n",
       "     stock_no: \"2881\",\n",
       "     buy_sell: Buy,\n",
       "     price_type: Limit,\n",
       "     price: 78.7,\n",
       "     quantity: 100,\n",
       "     time_in_force: ROD,\n",
       "     order_type: Stock,\n",
       "     is_pre_order: false,\n",
       "     status: 30,\n",
       "     after_price_type: None,\n",
       "     after_price: 78.7,\n",
       "     unit: 1,\n",
       "     after_qty: 0,\n",
       "     filled_qty: 0,\n",
       "     filled_money: 0,\n",
       "     before_qty: None,\n",
       "     before_price: None,\n",
       "     user_def: None,\n",
       "     last_time: \"09:50:24.042\",\n",
       "     details: None,\n",
       "     error_message: None,\n",
       " },\n",
       " OrderResult {\n",
       "     function_type: None,\n",
       "     date: \"2025/05/06\",\n",
       "     seq_no: \"02075306995\",\n",
       "     branch_no: \"20210\",\n",
       "     account: \"217177\",\n",
       "     order_no: \"o1295\",\n",
       "     asset_type: 0,\n",
       "     market: \"TAIEX\",\n",
       "     market_type: IntradayOdd,\n",
       "     stock_no: \"2881\",\n",
       "     buy_sell: Buy,\n",
       "     price_type: Limit,\n",
       "     price: 78.7,\n",
       "     quantity: 10,\n",
       "     time_in_force: ROD,\n",
       "     order_type: Stock,\n",
       "     is_pre_order: false,\n",
       "     status: 30,\n",
       "     after_price_type: None,\n",
       "     after_price: 78.7,\n",
       "     unit: 1,\n",
       "     after_qty: 0,\n",
       "     filled_qty: 0,\n",
       "     filled_money: 0,\n",
       "     before_qty: None,\n",
       "     before_price: None,\n",
       "     user_def: \"TW3F\",\n",
       "     last_time: \"09:51:01.698\",\n",
       "     details: None,\n",
       "     error_message: None,\n",
       " },\n",
       " OrderResult {\n",
       "     function_type: None,\n",
       "     date: \"2025/05/06\",\n",
       "     seq_no: \"02075311355\",\n",
       "     branch_no: \"20210\",\n",
       "     account: \"217177\",\n",
       "     order_no: \"o1394\",\n",
       "     asset_type: 0,\n",
       "     market: \"TAIEX\",\n",
       "     market_type: IntradayOdd,\n",
       "     stock_no: \"2881\",\n",
       "     buy_sell: Buy,\n",
       "     price_type: Limit,\n",
       "     price: 78.9,\n",
       "     quantity: 100,\n",
       "     time_in_force: ROD,\n",
       "     order_type: Stock,\n",
       "     is_pre_order: false,\n",
       "     status: 30,\n",
       "     after_price_type: None,\n",
       "     after_price: 78.9,\n",
       "     unit: 1,\n",
       "     after_qty: 0,\n",
       "     filled_qty: 0,\n",
       "     filled_money: 0,\n",
       "     before_qty: None,\n",
       "     before_price: None,\n",
       "     user_def: \"TEST\",\n",
       "     last_time: \"10:02:27.822\",\n",
       "     details: None,\n",
       "     error_message: None,\n",
       " },\n",
       " OrderResult {\n",
       "     function_type: None,\n",
       "     date: \"2025/05/06\",\n",
       "     seq_no: \"02075312488\",\n",
       "     branch_no: \"20210\",\n",
       "     account: \"217177\",\n",
       "     order_no: \"o1416\",\n",
       "     asset_type: 0,\n",
       "     market: \"TAIEX\",\n",
       "     market_type: IntradayOdd,\n",
       "     stock_no: \"2881\",\n",
       "     buy_sell: Buy,\n",
       "     price_type: Limit,\n",
       "     price: 79,\n",
       "     quantity: 100,\n",
       "     time_in_force: ROD,\n",
       "     order_type: Stock,\n",
       "     is_pre_order: false,\n",
       "     status: 50,\n",
       "     after_price_type: None,\n",
       "     after_price: 79,\n",
       "     unit: 1,\n",
       "     after_qty: 100,\n",
       "     filled_qty: 100,\n",
       "     filled_money: 7900,\n",
       "     before_qty: None,\n",
       "     before_price: None,\n",
       "     user_def: \"TEST\",\n",
       "     last_time: \"10:05:56.381\",\n",
       "     details: None,\n",
       "     error_message: None,\n",
       " },\n",
       " OrderResult {\n",
       "     function_type: None,\n",
       "     date: \"2025/05/06\",\n",
       "     seq_no: \"00026469018\",\n",
       "     branch_no: \"20210\",\n",
       "     account: \"217177\",\n",
       "     order_no: \"o1537\",\n",
       "     asset_type: 0,\n",
       "     market: \"TAIEX\",\n",
       "     market_type: Common,\n",
       "     stock_no: \"2881\",\n",
       "     buy_sell: Buy,\n",
       "     price_type: Limit,\n",
       "     price: 78.8,\n",
       "     quantity: 1000,\n",
       "     time_in_force: ROD,\n",
       "     order_type: Stock,\n",
       "     is_pre_order: false,\n",
       "     status: 50,\n",
       "     after_price_type: None,\n",
       "     after_price: 78.8,\n",
       "     unit: 1000,\n",
       "     after_qty: 1000,\n",
       "     filled_qty: 1000,\n",
       "     filled_money: 78800,\n",
       "     before_qty: None,\n",
       "     before_price: None,\n",
       "     user_def: \"TEST2\",\n",
       "     last_time: \"10:20:00.889\",\n",
       "     details: None,\n",
       "     error_message: None,\n",
       " }]"
      ]
     },
     "execution_count": 6,
     "metadata": {},
     "output_type": "execute_result"
    }
   ],
   "source": [
    "[order for order in trader.list_orders()]"
   ]
  },
  {
   "cell_type": "code",
   "execution_count": 10,
   "metadata": {},
   "outputs": [
    {
     "data": {
      "text/plain": [
       "datetime.datetime(2025, 5, 6, 10, 2, 27, 822000)"
      ]
     },
     "execution_count": 10,
     "metadata": {},
     "output_type": "execute_result"
    }
   ],
   "source": [
    "dt.datetime.strptime(f\"{order.date} {order.last_time}\", \"%Y/%m/%d %H:%M:%S.%f\")\n"
   ]
  },
  {
   "cell_type": "code",
   "execution_count": 85,
   "metadata": {},
   "outputs": [
    {
     "data": {
      "text/plain": [
       "[Inventory {\n",
       "     date: \"2025/05/06\",\n",
       "     account: \"217177\",\n",
       "     branch_no: \"20210\",\n",
       "     stock_no: \"2881\",\n",
       "     order_type: Stock,\n",
       "     lastday_qty: 0,\n",
       "     buy_qty: 1000,\n",
       "     buy_filled_qty: 1000,\n",
       "     buy_value: 78800,\n",
       "     today_qty: 1000,\n",
       "     tradable_qty: 0,\n",
       "     sell_qty: 0,\n",
       "     sell_filled_qty: 0,\n",
       "     sell_value: 0,\n",
       "     odd: InventoryOdd {\n",
       "         lastday_qty: 0,\n",
       "         buy_qty: 100,\n",
       "         buy_filled_qty: 100,\n",
       "         buy_value: 7900,\n",
       "         today_qty: 100,\n",
       "         tradable_qty: 0,\n",
       "         sell_qty: 0,\n",
       "         sell_filled_qty: 0,\n",
       "         sell_value: 0,\n",
       "     },\n",
       " }]"
      ]
     },
     "execution_count": 85,
     "metadata": {},
     "output_type": "execute_result"
    }
   ],
   "source": [
    "trader.list_inventories()"
   ]
  },
  {
   "cell_type": "code",
   "execution_count": 93,
   "metadata": {},
   "outputs": [
    {
     "data": {
      "text/plain": [
       "{'TEST': {'2881': 100}, 'TEST2': {'2881': 1000}}"
      ]
     },
     "execution_count": 93,
     "metadata": {},
     "output_type": "execute_result"
    }
   ],
   "source": [
    "trader.portfolio['portfolio']"
   ]
  },
  {
   "cell_type": "code",
   "execution_count": 90,
   "metadata": {},
   "outputs": [],
   "source": [
    "def check_portfolio_difference(new_portfolio:Dict[str, List[Dict[str, Union[int, float]]]], by:Literal['money', 'quantity']='money'):\n",
    "    difference_portfolio = {}\n",
    "    if by == 'money':\n",
    "        for strategy, positions in new_portfolio.items():\n",
    "            difference_portfolio[strategy] = []\n",
    "            current_strategy = trader.portfolio['portfolio'].get(strategy, {})\n",
    "            \n",
    "            def process_money(stock_id, money):\n",
    "                inv_money = current_strategy.get(stock_id, 0) * next((sum([inv.buy_value, inv.odd.buy_value])/sum([inv.today_qty, inv.odd.today_qty]) for inv in trader.list_inventories() if inv.stock_no == stock_id), 0)\n",
    "                position = Position().from_money(stock_id, money - inv_money)\n",
    "                if not position.empty:\n",
    "                    return position\n",
    "                return None\n",
    "            \n",
    "            with ThreadPoolExecutor() as executor:\n",
    "                futures = [executor.submit(process_money, stock_id, money) for stock_id, money in positions.items()]\n",
    "                for future in as_completed(futures):\n",
    "                    position = future.result()\n",
    "                    if position:\n",
    "                        difference_portfolio[strategy].append(position)   \n",
    "    elif by == 'quantity':\n",
    "        for strategy, positions in new_portfolio.items():\n",
    "            difference_portfolio[strategy] = []\n",
    "            current_strategy = trader.portfolio['portfolio'].get(strategy, {})\n",
    "            \n",
    "            def process_quantity(stock_id, quantity):\n",
    "                inv_quantity = current_strategy.get(stock_id, 0)\n",
    "                position = Position().from_quantity(stock_id, quantity - inv_quantity)\n",
    "                if not position.empty:\n",
    "                    return position\n",
    "                return None\n",
    "            \n",
    "            with ThreadPoolExecutor() as executor:\n",
    "                futures = [executor.submit(process_quantity, stock_id, quantity) for stock_id, quantity in positions.items()]\n",
    "                for future in as_completed(futures):\n",
    "                    position = future.result()\n",
    "                    if position:\n",
    "                        difference_portfolio[strategy].append(position)\n",
    "    return difference_portfolio\n"
   ]
  },
  {
   "cell_type": "code",
   "execution_count": 101,
   "metadata": {},
   "outputs": [
    {
     "data": {
      "text/plain": [
       "{'TEST2': []}"
      ]
     },
     "execution_count": 101,
     "metadata": {},
     "output_type": "execute_result"
    }
   ],
   "source": [
    "check_portfolio_difference({'TEST2':{'2881': 78800}}, by='money')"
   ]
  },
  {
   "cell_type": "code",
   "execution_count": 21,
   "metadata": {},
   "outputs": [
    {
     "data": {
      "text/plain": [
       "{('TEST', '2881'): 100, ('TEST2', '2881'): 1000}"
      ]
     },
     "execution_count": 21,
     "metadata": {},
     "output_type": "execute_result"
    }
   ],
   "source": [
    "traded_orders"
   ]
  },
  {
   "cell_type": "code",
   "execution_count": 82,
   "metadata": {},
   "outputs": [
    {
     "data": {
      "text/plain": [
       "{'portfolio': {'TEST': {'2881': 100}, 'TEST2': {'2881': 1000}},\n",
       " 'update_time': '2025-05-06 11:46:37'}"
      ]
     },
     "execution_count": 82,
     "metadata": {},
     "output_type": "execute_result"
    }
   ],
   "source": [
    "order_status = {\n",
    "    0: '預約單',\n",
    "    4: '系統將委託送往後台',\n",
    "    9: '連線逾時',\n",
    "    10: '委託成功',\n",
    "    30: '未成交刪單成功',\n",
    "    40: '部分成交，剩餘取消',\n",
    "    50: '完全成交',\n",
    "    90: '失敗',\n",
    "}\n",
    "current_portfolio = trader.portfolio['portfolio'].copy()\n",
    "last_update_time = dt.datetime.strptime(trader.portfolio['update_time'], '%Y-%m-%d %H:%M:%S')\n",
    "traded_orders={\n",
    "    (order.user_def, order.stock_no):\\\n",
    "    order.filled_qty * \\\n",
    "    (-1 if order.buy_sell=='Sell' else 1)\\\n",
    "    for order in trader.list_orders() if \\\n",
    "    (order_status[order.status] in ['完全成交', '部分成交，剩餘取消']) & (dt.datetime.strptime(f\"{order.date} {order.last_time}\", \"%Y/%m/%d %H:%M:%S.%f\") > last_update_time)\n",
    "}\n",
    "\n",
    "for k, v in traded_orders.items():\n",
    "    if not current_portfolio.get(k[0]):\n",
    "        current_portfolio[k[0]]={}\n",
    "    if not current_portfolio[k[0]].get(k[1]):\n",
    "        current_portfolio[k[0]][k[1]] = v\n",
    "    else:\n",
    "        current_portfolio[k[0]][k[1]] += v\n",
    "trader.portfolio['portfolio'] = current_portfolio\n",
    "trader.portfolio['update_time'] = dt.datetime.now().strftime('%Y-%m-%d %H:%M:%S')\n",
    "\n",
    "trader.portfolio"
   ]
  },
  {
   "cell_type": "code",
   "execution_count": 83,
   "metadata": {},
   "outputs": [
    {
     "data": {
      "text/plain": [
       "{'portfolio': {'TEST': {'2881': 100}, 'TEST2': {'2881': 1000}},\n",
       " 'update_time': '2025-05-06 11:46:37'}"
      ]
     },
     "execution_count": 83,
     "metadata": {},
     "output_type": "execute_result"
    }
   ],
   "source": [
    "trader.portfolio #= {'portfolio': {'TEST': {}}, 'update_time': '2025-05-05 17:53:20'}"
   ]
  },
  {
   "cell_type": "code",
   "execution_count": 74,
   "metadata": {},
   "outputs": [
    {
     "name": "stdout",
     "output_type": "stream",
     "text": [
      "portfolio.json loaded from /Users/jianrui/Desktop/Research/Quant/portfolio/fubon_portfolio.json\n"
     ]
    }
   ],
   "source": [
    "trader.portfolio =read_portfolio(trader.portfolio_path) #['portfolio']"
   ]
  },
  {
   "cell_type": "code",
   "execution_count": 11,
   "metadata": {},
   "outputs": [
    {
     "data": {
      "text/plain": [
       "[0, 0, 0]"
      ]
     },
     "execution_count": 11,
     "metadata": {},
     "output_type": "execute_result"
    }
   ],
   "source": [
    "sum([s.total_settlement_amount if s.total_settlement_amount else 0 for s in trader.get_settlement().details])"
   ]
  },
  {
   "cell_type": "code",
   "execution_count": 7,
   "metadata": {},
   "outputs": [
    {
     "data": {
      "text/plain": [
       "0"
      ]
     },
     "execution_count": 7,
     "metadata": {},
     "output_type": "execute_result"
    }
   ],
   "source": [
    "sum([settlement.total_settlement_amount or 0 for settlement in trader.get_settlement().details])"
   ]
  },
  {
   "cell_type": "code",
   "execution_count": 91,
   "metadata": {},
   "outputs": [],
   "source": [
    "from fubon_neo.sdk import FubonSDK, Order\n",
    "from fubon_neo.constant import TimeInForce, OrderType, PriceType, MarketType, BSAction\n"
   ]
  },
  {
   "cell_type": "code",
   "execution_count": 92,
   "metadata": {},
   "outputs": [
    {
     "data": {
      "text/plain": [
       "Account {\n",
       "    name: \"簡叡\",\n",
       "    branch_no: \"20210\",\n",
       "    account: \"217177\",\n",
       "    account_type: \"stock\",\n",
       "}"
      ]
     },
     "execution_count": 92,
     "metadata": {},
     "output_type": "execute_result"
    }
   ],
   "source": [
    "sdk = FubonSDK()\n",
    "account = sdk.login(\"A127945492\", \"ryankan209\", \"/Users/jianrui/Desktop/API_pfx/fubon.pfx\", \"ryankan209\").data[0]\n",
    "account"
   ]
  },
  {
   "cell_type": "code",
   "execution_count": 99,
   "metadata": {},
   "outputs": [
    {
     "data": {
      "text/plain": [
       "<fubon_neo.sdk.FubonSDK at 0x317e01ea0>"
      ]
     },
     "execution_count": 99,
     "metadata": {},
     "output_type": "execute_result"
    }
   ],
   "source": []
  },
  {
   "cell_type": "code",
   "execution_count": 79,
   "metadata": {},
   "outputs": [
    {
     "data": {
      "text/plain": [
       "SettlementData {\n",
       "    account: AccountRes {\n",
       "        branch_no: \"20210\",\n",
       "        account: \"217177\",\n",
       "    },\n",
       "    details: [\n",
       "        Settlement {\n",
       "            date: \"2025/04/29\",\n",
       "            settlement_date: None,\n",
       "            buy_value: None,\n",
       "            buy_fee: None,\n",
       "            buy_settlement: None,\n",
       "            buy_tax: None,\n",
       "            sell_value: None,\n",
       "            sell_fee: None,\n",
       "            sell_settlement: None,\n",
       "            sell_tax: None,\n",
       "            total_bs_value: None,\n",
       "            total_fee: None,\n",
       "            total_tax: None,\n",
       "            total_settlement_amount: None,\n",
       "            currency: None,\n",
       "        },\n",
       "        Settlement {\n",
       "            date: \"2025/04/30\",\n",
       "            settlement_date: None,\n",
       "            buy_value: None,\n",
       "            buy_fee: None,\n",
       "            buy_settlement: None,\n",
       "            buy_tax: None,\n",
       "            sell_value: None,\n",
       "            sell_fee: None,\n",
       "            sell_settlement: None,\n",
       "            sell_tax: None,\n",
       "            total_bs_value: None,\n",
       "            total_fee: None,\n",
       "            total_tax: None,\n",
       "            total_settlement_amount: None,\n",
       "            currency: None,\n",
       "        },\n",
       "        Settlement {\n",
       "            date: \"2025/05/02\",\n",
       "            settlement_date: None,\n",
       "            buy_value: None,\n",
       "            buy_fee: None,\n",
       "            buy_settlement: None,\n",
       "            buy_tax: None,\n",
       "            sell_value: None,\n",
       "            sell_fee: None,\n",
       "            sell_settlement: None,\n",
       "            sell_tax: None,\n",
       "            total_bs_value: None,\n",
       "            total_fee: None,\n",
       "            total_tax: None,\n",
       "            total_settlement_amount: None,\n",
       "            currency: None,\n",
       "        },\n",
       "    ],\n",
       "}"
      ]
     },
     "execution_count": 79,
     "metadata": {},
     "output_type": "execute_result"
    }
   ],
   "source": [
    "sdk.accounting.query_settlement(account, '3d').data"
   ]
  }
 ],
 "metadata": {
  "kernelspec": {
   "display_name": "Python 3",
   "language": "python",
   "name": "python3"
  },
  "language_info": {
   "codemirror_mode": {
    "name": "ipython",
    "version": 3
   },
   "file_extension": ".py",
   "mimetype": "text/x-python",
   "name": "python",
   "nbconvert_exporter": "python",
   "pygments_lexer": "ipython3",
   "version": "3.10.14"
  }
 },
 "nbformat": 4,
 "nbformat_minor": 2
}
